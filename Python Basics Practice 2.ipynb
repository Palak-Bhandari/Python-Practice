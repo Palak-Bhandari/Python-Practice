{
 "cells": [
  {
   "cell_type": "code",
   "execution_count": 4,
   "id": "5bbcc448",
   "metadata": {},
   "outputs": [
    {
     "name": "stdout",
     "output_type": "stream",
     "text": [
      "Enter mass in kg: 2\n",
      "Enter velocity in m/s: 10\n",
      "The momentum given by e=mc2 is: 200\n"
     ]
    }
   ],
   "source": [
    "'''Assignment 1:To accept an object mass in kilograms and velocity in meters per second and display its momentum.\n",
    "Momentum is calculated as e=mc2 where m is the mass of the object and c is its velocity.'''\n",
    "m=int(input('Enter mass in kg: '))\n",
    "c=int(input('Enter velocity in m/s: '))\n",
    "e=m*c**2   # ** is a power operator\n",
    "print('The momentum given by e=mc2 is:',e)\n"
   ]
  },
  {
   "cell_type": "code",
   "execution_count": 5,
   "id": "486fb5f7",
   "metadata": {},
   "outputs": [
    {
     "name": "stdout",
     "output_type": "stream",
     "text": [
      "Enter the number: 4\n",
      "The square of the number is 16\n"
     ]
    }
   ],
   "source": [
    "'''Assignment 2:Write a Python program for following conditions.\n",
    "• If n is single digit print square of it.\n",
    "• If n is two digit print square root of it.\n",
    "• If n is three digit print cube root of it.'''\n",
    "\n",
    "n=int(input('Enter the number: '))\n",
    "if(n>=1 and n<10):\n",
    "    print('The square of the number is',n**2)\n",
    "else:\n",
    "    if(n>=10 and n<100):\n",
    "        print('The square root of the number is',n**0.5)\n",
    "    else:\n",
    "        print('The cube root of the number is',round(n**(1.0/3.0)))\n"
   ]
  },
  {
   "cell_type": "code",
   "execution_count": 10,
   "id": "c21ed31f",
   "metadata": {},
   "outputs": [
    {
     "name": "stdout",
     "output_type": "stream",
     "text": [
      "Enter marks in subject 1: 33\n",
      "Enter marks in subject 2: 34\n",
      "Enter marks in subject 3: 18\n",
      "Enter marks in subject 4: 56\n",
      "Enter marks in subject 5: 20\n",
      "Your Percentage is: 32.2\n",
      "You have Failed\n"
     ]
    }
   ],
   "source": [
    "'''Assignment 3:To accept students five courses marks and compute his/her result. Student is passing if he/she scores\n",
    "marks equal to and above 40 in each course. If student scores aggregate greater than 75%, then the\n",
    "grade is distinction. If aggregate is 60>= and <75 then the grade if first division. If aggregate is\n",
    "50>= and <60, then the grade is second division. If aggregate is 40>= and <50, then the grade is\n",
    "third division.'''\n",
    "n1=float(input('Enter marks in subject 1: '))\n",
    "n2=float(input('Enter marks in subject 2: '))\n",
    "n3=float(input('Enter marks in subject 3: '))\n",
    "n4=float(input('Enter marks in subject 4: '))\n",
    "n5=float(input('Enter marks in subject 5: '))\n",
    "per=(n1+n2+n3+n4+n5)/5\n",
    "print('Your Percentage is:',per)\n",
    "if(per>=75):\n",
    "    print('You got Distinction grade')\n",
    "elif(75>per>=60):\n",
    "    print('You got First division grade')\n",
    "elif(60>per>=50):\n",
    "    print('You got Second division grade')\n",
    "elif(50>=per>40):\n",
    "    print('You got Third division grade')\n",
    "else:\n",
    "    print('You have Failed')"
   ]
  },
  {
   "cell_type": "code",
   "execution_count": 10,
   "id": "908355f3",
   "metadata": {},
   "outputs": [
    {
     "name": "stdout",
     "output_type": "stream",
     "text": [
      "Enter a three digit number: 123\n",
      "The sum of the cubes of its digits is: 36\n",
      "It is NOT an Armstrong number!\n"
     ]
    }
   ],
   "source": [
    "'''Assignmet 4:To check whether input number is Armstrong number or not. An Armstrong number is an integer\n",
    "with three digits such that the sum of the cubes of its digits is equal to the number itself. Ex. 371.'''\n",
    "number=int(input('Enter a three digit number: '))\n",
    "n=number\n",
    "sum=0\n",
    "while(n>0):\n",
    "    digit=n%10\n",
    "    sum=sum+(digit**3)\n",
    "    n=n//10\n",
    "print('The sum of the cubes of its digits is:',sum)\n",
    "if(sum==number):\n",
    "    print('It is an Armstrong number!')\n",
    "else:\n",
    "    print('It is NOT an Armstrong number!')"
   ]
  },
  {
   "cell_type": "code",
   "execution_count": 34,
   "id": "f7ec20f5",
   "metadata": {},
   "outputs": [
    {
     "name": "stdout",
     "output_type": "stream",
     "text": [
      "Enter first number: 36\n",
      "Enter second number: 36\n",
      "Both numbers are equal\n",
      "The square is: 1296\n",
      "The square root is:  6.0\n",
      "The cube root is:  3.302\n"
     ]
    }
   ],
   "source": [
    "'''Assignment 05:Write a program in Python to enter two unequal nos. if first no. is greater than display square of the\n",
    "smaller no. and cube of the greater no. otherwise vice-versa. If no. are equal display the message\n",
    "both no. are equal find square, square root and cube root of a number.'''\n",
    "num1=int(input('Enter first number: '))\n",
    "num2=int(input('Enter second number: '))\n",
    "if(num1>num2):\n",
    "    print('The cube of the greater number is:',num1**3)\n",
    "    print('The square of the smaller number is:',num2**2)\n",
    "elif(num2>num1):\n",
    "        print('The square of the greater number is:',num2**2)\n",
    "        print('The cube of the smaller number is:',num1**3)\n",
    "else:\n",
    "    print('Both numbers are equal')\n",
    "    print('The square is:',num1**2)\n",
    "    print('The square root is: ',round(num1**0.5, 3))\n",
    "    print('The cube root is: ',round(num1**(1/3), 3))"
   ]
  },
  {
   "cell_type": "code",
   "execution_count": 8,
   "id": "5db26d6d",
   "metadata": {},
   "outputs": [
    {
     "name": "stdout",
     "output_type": "stream",
     "text": [
      "Enter no of rows: 5\n",
      " \n",
      "*   \n",
      "*  *   \n",
      "*  *  *   \n",
      "*  *  *  *   \n",
      "*  *  *  *  *   \n",
      "\n",
      "\n",
      "*  *  *  *  *   \n",
      "*  *  *  *   \n",
      "*  *  *   \n",
      "*  *   \n",
      "*   \n",
      "\n",
      "\n",
      "    *  \n",
      "   * *  \n",
      "  * * *  \n",
      " * * * *  \n",
      "* * * * *  \n",
      "\n",
      "\n",
      "1   \n",
      "1  2   \n",
      "1  2  3   \n",
      "1  2  3  4   \n",
      "1  2  3  4  5   \n",
      "\n",
      "\n",
      "1   \n",
      "2  3   \n",
      "4  5  6   \n",
      "7  8  9  10   \n",
      "\n",
      "\n",
      "a  \n",
      "b c  \n",
      "d e f  \n",
      "g h i j  \n",
      "k l m n o  \n"
     ]
    }
   ],
   "source": [
    "'''Assignment 6:Write a Python program to print different patterns(min 5)'''\n",
    "n=int(input('Enter no of rows: '))\n",
    "for i in range(0,n+1,1):\n",
    "    for j in range(0,i,1):\n",
    "        print('*',end='  ')\n",
    "    print(' ')\n",
    "print('\\n')\n",
    "for i in range(n,0,-1):\n",
    "    for j in range(0,i,1):\n",
    "        print('*',end='  ')\n",
    "    print(' ')\n",
    "print('\\n')\n",
    "k=n-1\n",
    "for i in range(0,n):\n",
    "    for j in range(0,k):\n",
    "        print(end=' ')\n",
    "    k=k-1\n",
    "    for j in range(0,i+1):\n",
    "        print('*',end=' ')\n",
    "    print(' ')\n",
    "print('\\n')\n",
    "for i in range(1,n+1,1):   \n",
    "    for j in range(1,i+1,1):  \n",
    "        print(j,end='  ')  \n",
    "    print(' ')\n",
    "print('\\n')\n",
    "no=1\n",
    "for i in range(1,n,1):  \n",
    "    for j in range(0,i,1):  \n",
    "        print(no,end='  ')  \n",
    "        no+=1 \n",
    "    print(' ') \n",
    "print('\\n')\n",
    "num=97\n",
    "for i in range(0,n):\n",
    "    for j in range(0,i+1):\n",
    "        ch=chr(num)\n",
    "        print(ch,end=' ')\n",
    "        num=num+1\n",
    "    print(' ')  "
   ]
  },
  {
   "cell_type": "code",
   "execution_count": 1,
   "id": "9390d60e",
   "metadata": {},
   "outputs": [
    {
     "name": "stdout",
     "output_type": "stream",
     "text": [
      "Enter no of terms 1\n",
      "Fibonacci Series\n",
      "0 "
     ]
    }
   ],
   "source": [
    "# Assignment 7:Solve the fibonacci sequence using recursive function in python\n",
    "def fibonacci(n):\n",
    "    if(n==0):\n",
    "        return 0\n",
    "    elif(n==1):\n",
    "        return 1\n",
    "    else:\n",
    "        return(fibonacci(n-1)+fibonacci(n-2))\n",
    "n=int(input('Enter no of terms '))\n",
    "if(n<0):\n",
    "    print('Cannot print for negative numbers')\n",
    "else:\n",
    "    print('Fibonacci Series')\n",
    "    for i in range(0,n):\n",
    "        print(fibonacci(i),end=' ')"
   ]
  },
  {
   "cell_type": "code",
   "execution_count": 5,
   "id": "79150ea9",
   "metadata": {},
   "outputs": [
    {
     "name": "stdout",
     "output_type": "stream",
     "text": [
      "Enter Size of list 4\n",
      "Enter list element 1\n",
      "Enter list element 3\n",
      "Enter list element 4\n",
      "Enter list element 5\n",
      "[1, 3, 4, 5]\n",
      "Enter search element 6\n",
      "Element not found\n"
     ]
    }
   ],
   "source": [
    "#Assignment 8:Select the number from the entered list and find its position in python (use linear search)\n",
    "a=[]\n",
    "n=int(input('Enter Size of list '))\n",
    "for i in range(n):\n",
    "    x=int(input('Enter list element '))\n",
    "    a.append(x)\n",
    "print(a)\n",
    "search_element=int(input('Enter search element '))\n",
    "for i in range(n):\n",
    "    if(search_element==a[i]):\n",
    "        print('Element',a[i],'found at location',i)\n",
    "        break\n",
    "else:\n",
    "    print('Element not found')\n",
    "    "
   ]
  },
  {
   "cell_type": "code",
   "execution_count": 2,
   "id": "7011c975",
   "metadata": {
    "scrolled": true
   },
   "outputs": [
    {
     "name": "stdout",
     "output_type": "stream",
     "text": [
      "Enter first string we\n",
      "Enter second string are\n",
      "1:String Length\n",
      "2:String Concatenation\n",
      "3:String Compare\n",
      "4:String Reverse\n",
      "5:Palindrome\n",
      "6:Case Change\n",
      "7:Exit\n",
      "Enter your choice 7\n"
     ]
    }
   ],
   "source": [
    "'''Assignment 9:Write a Python program to perform following string operations.\n",
    "a) String concatenation b) String Reverse c) String compare d) String length e) Palindrome f) Case\n",
    "change. Menu Driven program for string functions'''\n",
    "# ------------STRING LENGTH----------------------------------------\n",
    "def string_length(s):\n",
    "    length=0\n",
    "    for i in s:  # each character of string s\n",
    "        length+=1\n",
    "    print('Length of the string',s,'is:',length)\n",
    "    print('\\n')\n",
    "\n",
    "#--------STRING CONCATENATION--------------------------------------\n",
    "def string_concatenation(s1,s2):\n",
    "    s3=s1+s2   # + joins the two strings\n",
    "    print('Concatenated string is',s3)\n",
    "    print('\\n')\n",
    "    \n",
    "#-----------CASE CHANGE--------------------------------------------\n",
    "def case_change(s):\n",
    "    y=''\n",
    "    for i in s:\n",
    "        if(i>='A' and i<='Z'):\n",
    "            x=ord(i)+32  # ord returns ascii code of the char\n",
    "            y=y+chr(x)  # chr returns char of the ascii ccode\n",
    "        elif(i>='a' and i<='z'):\n",
    "            x=ord(i)-32\n",
    "            y=y+chr(x)\n",
    "        else:\n",
    "            y=y+i\n",
    "    print('Case change of given string',s,'is',y)\n",
    "    print('\\n')\n",
    "    \n",
    "#----------STRING COMPARE-----------------------------------------\n",
    "def string_compare(s1,s2):\n",
    "    len1=len(s1)\n",
    "    len2=len(s2)\n",
    "    c=0\n",
    "    if(len1==len2):\n",
    "        for i in range(len1):\n",
    "            if(s1[i]==s2[i]):\n",
    "                c+=1\n",
    "        if(c==len1):\n",
    "            print('Strings are equal')\n",
    "        else:\n",
    "            print('Strings are not equal')\n",
    "    else:\n",
    "        print('Strings are not equal')\n",
    "    print('\\n')\n",
    "        \n",
    "#---------STRING REVERSE---------------------------------------------\n",
    "def string_reverse(s):\n",
    "    rev=''\n",
    "    for i in range(len(s)-1,-1,-1):\n",
    "        rev=rev+s[i]\n",
    "    print('Reversed string of',s,'is',rev)\n",
    "    print('\\n')\n",
    "    \n",
    "#----------STRING PALINDROME------------------------------------------\n",
    "def string_palindrome(s):\n",
    "    rev=''\n",
    "    for i in range(len(s)-1,-1,-1):\n",
    "        rev=rev+s[i]\n",
    "    if(rev==s):\n",
    "        print(s,'is a Palaindrome')\n",
    "    else:\n",
    "        print(s,'is Not a Palindrome')\n",
    "    print('\\n')\n",
    "        \n",
    "#-----------MAIN--------------------------------------------------------\n",
    "s1=input('Enter first string ')\n",
    "s2=input('Enter second string ')\n",
    "while(1):\n",
    "    print('1:String Length\\n2:String Concatenation\\n3:String Compare\\n4:String Reverse\\n5:Palindrome\\n6:Case Change\\n7:Exit')\n",
    "    ch=int(input('Enter your choice '))\n",
    "    if (ch==7):\n",
    "        break\n",
    "    if(ch==1):\n",
    "        string_length(s1)\n",
    "        string_length(s2)\n",
    "    elif(ch==2):\n",
    "        string_concatenation(s1,s2)\n",
    "    elif(ch==3):\n",
    "        string_compare(s1,s2)\n",
    "    elif(ch==4):\n",
    "        string_reverse(s1)\n",
    "        string_reverse(s2)\n",
    "    elif(ch==5):\n",
    "        string_palindrome(s1)\n",
    "        string_palindrome(s2)\n",
    "    elif(ch==6):\n",
    "        case_change(s1)\n",
    "        case_change(s2)\n",
    "    else:\n",
    "        print('Invalid choice,Re-enter the choice')"
   ]
  },
  {
   "cell_type": "code",
   "execution_count": 2,
   "id": "b00735fe",
   "metadata": {},
   "outputs": [
    {
     "name": "stdout",
     "output_type": "stream",
     "text": [
      "Enter the name of player Rohit \n",
      "Enter the player height 150\n",
      "Enter the name of player Shikhar\n",
      "Enter the player height 155\n",
      "Enter the name of player Pujara\n",
      "Enter the player height 160\n",
      "Enter the name of player Virat\n",
      "Enter the player height 180\n",
      "Enter the name of player Ajinkya \n",
      "Enter the player height 172\n",
      "Enter the name of player Rishabh\n",
      "Enter the player height 159\n",
      "Enter the name of player Jadeja\n",
      "Enter the player height 174\n",
      "Enter the name of player Ashwin\n",
      "Enter the player height 160\n",
      "Enter the name of player Bumraha\n",
      "Enter the player height 169\n",
      "Enter the name of player Shami\n",
      "Enter the player height 175\n",
      "Enter the name of player Ishant \n",
      "Enter the player height 178\n",
      "Indian cricket team is: {'Rohit ': 150, 'Shikhar': 155, 'Pujara': 160, 'Virat': 180, 'Ajinkya ': 172, 'Rishabh': 159, 'Jadeja': 174, 'Ashwin': 160, 'Bumraha': 169, 'Shami': 175, 'Ishant ': 178}\n",
      "Virat is chosen as captain of Indian cricket team\n"
     ]
    }
   ],
   "source": [
    "'''Assignment 10:Choose cricket team of eleven players find the captain of the team (consider tallest person as a captain)\n",
    "using dictionary.'''\n",
    "cricket_team={}\n",
    "for i in range(11):\n",
    "    player_name=input('Enter the name of player ')\n",
    "    player_height=int(input('Enter the player height '))\n",
    "    cricket_team[player_name]=player_height\n",
    "print('Indian cricket team is:',cricket_team)\n",
    "max_ht=0\n",
    "captain=''\n",
    "for x in cricket_team:\n",
    "    if(max_ht<cricket_team[x]):\n",
    "        max_ht=cricket_team[x]\n",
    "        captain=x\n",
    "print(captain,'is chosen as captain of Indian cricket team')"
   ]
  },
  {
   "cell_type": "code",
   "execution_count": 7,
   "id": "3ce27947",
   "metadata": {},
   "outputs": [
    {
     "name": "stdout",
     "output_type": "stream",
     "text": [
      "Enter the amount to be deposited 10000\n",
      "Amount deposited is 10000.0\n",
      "Enter amount to be withdrawn 15000\n",
      "Insufficient Balance\n"
     ]
    }
   ],
   "source": [
    "# Assignment 11a: Write python class for bank customer with withdraw and deposit operations\n",
    "class Bank_customer:\n",
    "    def __init__(self):#constructors:used to initialize the variables\n",
    "        self.balance=0\n",
    "    def deposit(self):\n",
    "        d=float(input('Enter the amount to be deposited '))\n",
    "        self.balance=+d\n",
    "        print('Amount deposited is',self.balance)\n",
    "    def withdraw(self):\n",
    "        w=float(input('Enter amount to be withdrawn '))\n",
    "        if(w<self.balance):\n",
    "            self.balance=+w\n",
    "            print('Available balance in your account is',self.balance)\n",
    "        else:\n",
    "            print('Insufficient Balance')\n",
    "customer=Bank_customer()#object creation\n",
    "customer.deposit()\n",
    "customer.withdraw()"
   ]
  },
  {
   "cell_type": "code",
   "execution_count": 7,
   "id": "32949d91",
   "metadata": {},
   "outputs": [
    {
     "name": "stdout",
     "output_type": "stream",
     "text": [
      "Enter base of triangle 4\n",
      "Enter height of triangle 3\n",
      "Area of triangle is 6.0\n",
      "Enter length of rectangle 12\n",
      "Enter breadth of rectangle12\n",
      "Area of rectangle 144\n",
      "Enter radius of circle 9\n",
      "Area of the circle is 254.50199999999998\n"
     ]
    }
   ],
   "source": [
    "#Assignment 11b: WAPP to understand the polymorphism with an example class polygon class:Triangle\n",
    "class Triangle:\n",
    "    def __init__(self,b,h,a):\n",
    "        self.b=b\n",
    "        self.a=a\n",
    "        self.h=h\n",
    "    def read(self):\n",
    "        self.b=int(input('Enter base of triangle '))\n",
    "        self.h=int(input('Enter height of triangle '))\n",
    "    def area(self):\n",
    "        self.a=0.5*self.b*self.h\n",
    "        print('Area of triangle is',self.a)\n",
    "class Rectangle:\n",
    "    def __init__(self,l,b,a):\n",
    "        self.l=l\n",
    "        self.b=b\n",
    "        self.a=a\n",
    "    def read(self):\n",
    "        self.l=int(input('Enter length of rectangle '))\n",
    "        self.b=int(input('Enter breadth of rectangle'))\n",
    "    def area(self):\n",
    "        self.a=self.b*self.l\n",
    "        print('Area of rectangle',self.a)\n",
    "class Circle:\n",
    "    def __init__(self,r,a):\n",
    "        self.r=r\n",
    "        self.a=a\n",
    "    def read(self):\n",
    "        self.r=int(input('Enter radius of circle '))\n",
    "    def area(self):\n",
    "        self.a=self.r*self.r*3.142\n",
    "        print('Area of the circle is',self.a)\n",
    "\n",
    "t=Triangle('b','h','a')\n",
    "t.read()\n",
    "t.area()\n",
    "r=Rectangle('l','h','a')\n",
    "r.read()\n",
    "r.area()\n",
    "c=Circle('r','a')\n",
    "c.read()\n",
    "c.area()"
   ]
  },
  {
   "cell_type": "code",
   "execution_count": 2,
   "id": "1edac4c3",
   "metadata": {},
   "outputs": [
    {
     "name": "stdout",
     "output_type": "stream",
     "text": [
      "Enter the rows 2\n",
      "Enter the columuns 2\n",
      "Enter the elements of matrix 1 = 1\n",
      "Enter the elements of matrix 1 = 1\n",
      "Enter the elements of matrix 1 = 1\n",
      "Enter the elements of matrix 1 = 1\n",
      "-------- Given matrix 1 is --------\n",
      "1 1 \n",
      "1 1 \n",
      "Enter the elements of matrix 2 = 0\n",
      "Enter the elements of matrix 2 = 0\n",
      "Enter the elements of matrix 2 = 0\n",
      "Enter the elements of matrix 2 = 0\n",
      "---------- Given matrix 2 is ---------\n",
      "0 0 \n",
      "0 0 \n",
      "----- Addition of the 2 matrices is -----\n",
      "1 1 \n",
      "1 1 \n",
      "----- Multiplication of the 2 matrices is -----\n",
      "0 0 \n",
      "0 0 \n"
     ]
    }
   ],
   "source": [
    "#Assignment 11c: WAPP to perform matrix addition and multiplication operations\n",
    "a=[]\n",
    "b=[]\n",
    "r=int(input('Enter the rows '))\n",
    "c=int(input('Enter the columuns '))\n",
    "z=[[0 for j in range(c)] for i in range(r)]\n",
    "y=[[0 for j in range(c)] for i in range(r)]\n",
    "for i in range(r):\n",
    "    x=[]\n",
    "    for j in range(c):\n",
    "        x.append(int(input('Enter the elements of matrix 1 = ')))\n",
    "    a.append(x)\n",
    "print('-------- Given matrix 1 is --------')\n",
    "for i in range(r):\n",
    "    for j in range(c):\n",
    "        print(a[i][j],end=' ')\n",
    "    print()\n",
    "for i in range(r):\n",
    "    x=[]\n",
    "    for j in range(c):\n",
    "        x.append(int(input('Enter the elements of matrix 2 = ')))\n",
    "    b.append(x)\n",
    "print('---------- Given matrix 2 is ---------')\n",
    "for i in range(r):\n",
    "    for j in range(c):\n",
    "        print(b[i][j],end=' ')\n",
    "    print()\n",
    "print('----- Addition of the 2 matrices is -----')\n",
    "for i in range(r):\n",
    "    for j in range(c):\n",
    "        z[i][j]=a[i][j]+b[i][j]\n",
    "        print(z[i][j],end=' ')\n",
    "    print()\n",
    "print('----- Multiplication of the 2 matrices is -----')  \n",
    "for i in range(r):\n",
    "    for j in range(c):\n",
    "        y[i][j]=0\n",
    "        for k in range(c):\n",
    "            y[i][j]+=a[i][k]*b[k][j]\n",
    "for i in range(r):\n",
    "    for j in range(c):\n",
    "        print(y[i][j],end=' ')\n",
    "    print()"
   ]
  },
  {
   "cell_type": "code",
   "execution_count": 4,
   "id": "6bd2dea2",
   "metadata": {},
   "outputs": [
    {
     "name": "stdout",
     "output_type": "stream",
     "text": [
      "[1, 2, 3, 4, 5, 6]\n",
      "[1, 2, 3, 4, 5, 6]\n"
     ]
    },
    {
     "data": {
      "image/png": "[encoded data removed]",
      "text/plain": [
       "<Figure size 432x288 with 1 Axes>"
      ]
     },
     "metadata": {
      "needs_background": "light"
     },
     "output_type": "display_data"
    }
   ],
   "source": [
    "# Assignment 12:Write a Numpy program for plotting and analyzing data\n",
    "import numpy as np\n",
    "import matplotlib.pyplot as plt\n",
    "x=[1,2,3,4,5,6]\n",
    "y=[1,2,3,4,5,6]\n",
    "plt.xlabel('X axis')\n",
    "plt.ylabel('Y axis')\n",
    "plt.title('Graph')\n",
    "print(x)\n",
    "print(y)\n",
    "plt.grid(True)\n",
    "plt.plot(x,y)\n",
    "plt.show()"
   ]
  },
  {
   "cell_type": "code",
   "execution_count": 5,
   "id": "a9c85ade",
   "metadata": {},
   "outputs": [
    {
     "name": "stdout",
     "output_type": "stream",
     "text": [
      "[ 2 18  3 12  1  7 14 11  5 10]\n",
      "[ 5  9 13 18  1  7  1  5  1  4]\n",
      "[ 5 16  4 12 16  3  3  7  4 15]\n"
     ]
    },
    {
     "data": {
      "image/png": "[encoded data removed]",
      "text/plain": [
       "<Figure size 432x288 with 1 Axes>"
      ]
     },
     "metadata": {
      "needs_background": "light"
     },
     "output_type": "display_data"
    }
   ],
   "source": [
    "# Assignment 12:Write a Numpy program for plotting and analyzing data\n",
    "x=np.random.randint(1,20,10)\n",
    "plt.xlabel('X axis')\n",
    "plt.ylabel('Y axis')\n",
    "plt.title('Graph')\n",
    "print(x)\n",
    "y=np.random.randint(1,20,10)\n",
    "z=np.random.randint(1,20,10)\n",
    "print(y)\n",
    "print(z)\n",
    "plt.grid(True)\n",
    "plt.plot(x,y)\n",
    "plt.plot(y,z)\n",
    "plt.show()"
   ]
  },
  {
   "cell_type": "code",
   "execution_count": 6,
   "id": "ceb041fd",
   "metadata": {},
   "outputs": [
    {
     "name": "stdout",
     "output_type": "stream",
     "text": [
      "[17  6 11 19 17]\n",
      "[16  1  5 19  4]\n",
      "[13  5  6 17 18]\n"
     ]
    },
    {
     "data": {
      "image/png": "[encoded data removed]",
      "text/plain": [
       "<Figure size 432x288 with 1 Axes>"
      ]
     },
     "metadata": {
      "needs_background": "light"
     },
     "output_type": "display_data"
    },
    {
     "data": {
      "image/png": "[encoded data removed]",
      "text/plain": [
       "<Figure size 432x288 with 1 Axes>"
      ]
     },
     "metadata": {
      "needs_background": "light"
     },
     "output_type": "display_data"
    }
   ],
   "source": [
    "# Assignment 12:Write a Numpy program for plotting and analyzing data\n",
    "import numpy as np\n",
    "import matplotlib.pyplot as plt\n",
    "x=np.random.randint(1,20,5)\n",
    "y=np.random.randint(1,20,5)\n",
    "z=np.random.randint(1,20,5)\n",
    "\n",
    "print(x)\n",
    "print(y)\n",
    "print(z)\n",
    "\n",
    "plt.subplot(2,1,1)\n",
    "plt.plot(x,y)\n",
    "plt.xlabel('X axis')\n",
    "plt.ylabel('Y axis')\n",
    "plt.title('Graph')\n",
    "plt.grid(True)\n",
    "plt.show()\n",
    "\n",
    "plt.plot(2,1,1)\n",
    "plt.plot(y,z)\n",
    "plt.xlabel('X axis')\n",
    "plt.ylabel('Y axis')\n",
    "plt.title('Graph')\n",
    "plt.grid(True)\n",
    "plt.show()"
   ]
  },
  {
   "cell_type": "code",
   "execution_count": 23,
   "id": "ba7e4da7",
   "metadata": {},
   "outputs": [
    {
     "data": {
      "image/png": "[encoded data removed]",
      "text/plain": [
       "<Figure size 432x288 with 2 Axes>"
      ]
     },
     "metadata": {
      "needs_background": "light"
     },
     "output_type": "display_data"
    }
   ],
   "source": [
    "# Assignment 12:Write a Numpy program for plotting and analyzing data\n",
    "import numpy as np\n",
    "import matplotlib.pyplot as plt\n",
    "from pylab import *\n",
    "t= arange(0.0,10.0,1)\n",
    "s=[1,2,3,4,5,6,2,3,2,1]\n",
    "s2=[1,5,6,7,8,5,2,3,8,10]\n",
    "\n",
    "plt.subplot(2, 1, 1)\n",
    "plt.plot(t, s)\n",
    "plt.xlabel('Items')\n",
    "plt.ylabel('Values')\n",
    "plt.title('Chart')\n",
    "plt.grid(True)\n",
    "\n",
    "plt.subplot(2, 1, 2)\n",
    "plt.plot(t, s2)\n",
    "plt.xlabel('Items')\n",
    "plt.ylabel('Values')\n",
    "plt.grid(True)\n",
    "plt.show()"
   ]
  },
  {
   "cell_type": "code",
   "execution_count": 18,
   "id": "91768f5b",
   "metadata": {},
   "outputs": [
    {
     "name": "stdout",
     "output_type": "stream",
     "text": [
      "[97 57 14 62 81 78 41 26 83 69 50 94 63  5 54  7 90 93  5 14]\n",
      "0     97\n",
      "1     57\n",
      "2     14\n",
      "3     62\n",
      "4     81\n",
      "5     78\n",
      "6     41\n",
      "7     26\n",
      "8     83\n",
      "9     69\n",
      "10    50\n",
      "11    94\n",
      "12    63\n",
      "13     5\n",
      "14    54\n",
      "15     7\n",
      "16    90\n",
      "17    93\n",
      "18     5\n",
      "19    14\n",
      "dtype: int32\n",
      "[97, 57, 14, 62, 81, 78, 41, 26, 83, 69, 50, 94, 63, 5, 54, 7, 90, 93, 5, 14]\n"
     ]
    }
   ],
   "source": [
    "# Assignment 13:Write a Python program to convert a Panda module Series to Python list and it's type.\n",
    "import pandas as pd\n",
    "import numpy as np\n",
    "a=np.random.randint(1,100,20)\n",
    "ds=pd.Series(a)\n",
    "print(a)\n",
    "print(ds)\n",
    "print(ds.tolist())"
   ]
  },
  {
   "cell_type": "code",
   "execution_count": null,
   "id": "2f853031",
   "metadata": {},
   "outputs": [],
   "source": []
  }
 ],
 "metadata": {
  "kernelspec": {
   "display_name": "Python 3",
   "language": "python",
   "name": "python3"
  },
  "language_info": {
   "codemirror_mode": {
    "name": "ipython",
    "version": 3
   },
   "file_extension": ".py",
   "mimetype": "text/x-python",
   "name": "python",
   "nbconvert_exporter": "python",
   "pygments_lexer": "ipython3",
   "version": "3.8.8"
  }
 },
 "nbformat": 4,
 "nbformat_minor": 5
}
