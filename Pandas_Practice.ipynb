{
 "cells": [
  {
   "cell_type": "code",
   "execution_count": 2,
   "metadata": {
    "id": "WaGrx-QXNSnj"
   },
   "outputs": [],
   "source": [
    "import pandas as pd\n",
    "import numpy as np"
   ]
  },
  {
   "cell_type": "markdown",
   "metadata": {
    "id": "_4YExe-VNTgL"
   },
   "source": [
    "# Pandas DataFrame – Practice Exercises"
   ]
  },
  {
   "cell_type": "code",
   "execution_count": 3,
   "metadata": {
    "colab": {
     "base_uri": "https://localhost:8080/"
    },
    "id": "InMU5cm6P3O7",
    "outputId": "72fe52ca-5676-4228-ef32-667129ff3f72"
   },
   "outputs": [
    {
     "name": "stdout",
     "output_type": "stream",
     "text": [
      "  Name  Roll No\n",
      "0  wvr       59\n",
      "1  pqr       29\n",
      "2  xyz       85\n",
      "3  abc       96\n"
     ]
    }
   ],
   "source": [
    "#1.Make a pandas DataFrame with 2D list\n",
    "lst = [['wvr',59],['pqr',29],['xyz',85],['abc',96]]\n",
    "df = pd.DataFrame(lst,columns=['Name','Roll No'])\n",
    "print(df)"
   ]
  },
  {
   "cell_type": "code",
   "execution_count": 48,
   "metadata": {
    "colab": {
     "base_uri": "https://localhost:8080/"
    },
    "id": "yY9Kju8uP7xG",
    "outputId": "591389fe-c804-402b-a050-7fd107a7bd57"
   },
   "outputs": [
    {
     "name": "stdout",
     "output_type": "stream",
     "text": [
      "  Category  Marks\n",
      "0    Array     20\n",
      "1    Stack     21\n",
      "2    Queue     22\n"
     ]
    }
   ],
   "source": [
    "# 2.Creating DataFrame from dict \n",
    "data = {\n",
    "    'Category':['Array','Stack','Queue'],\n",
    "    'Marks':[20,21,22]\n",
    "}\n",
    "df = pd.DataFrame(data)\n",
    "print(df)"
   ]
  },
  {
   "cell_type": "code",
   "execution_count": 49,
   "metadata": {
    "colab": {
     "base_uri": "https://localhost:8080/"
    },
    "id": "FYB65iCzQAWa",
    "outputId": "0ef86a2c-0f57-47bb-8e44-c8e645f0f263"
   },
   "outputs": [
    {
     "name": "stdout",
     "output_type": "stream",
     "text": [
      "  name  Age  Score\n",
      "0    A   10     50\n",
      "1    B   12     13\n",
      "2    C   14     30\n"
     ]
    }
   ],
   "source": [
    "# 5. Creating dataframe from list of tuples\n",
    "data = [('A',10,50),('B',12,13),('C',14,30)]\n",
    "df = pd.DataFrame(data,columns=['name','Age','Score'])\n",
    "print(df)"
   ]
  },
  {
   "cell_type": "code",
   "execution_count": 50,
   "metadata": {
    "colab": {
     "base_uri": "https://localhost:8080/"
    },
    "id": "U5L0mQPZQCqS",
    "outputId": "be8eedbc-e731-4f1d-ebd6-1119c2861ec5"
   },
   "outputs": [
    {
     "name": "stdout",
     "output_type": "stream",
     "text": [
      "    A   B     C\n",
      "0  20  30  30.0\n",
      "1  30  40   NaN\n"
     ]
    }
   ],
   "source": [
    "# 6. Creating Dataframe from list of dicts\n",
    "data = [{'A':20,'B':30,'C':30},{\n",
    "    'A':30,'B':40\n",
    "}]\n",
    "df = pd.DataFrame(data)\n",
    "print(df)"
   ]
  },
  {
   "cell_type": "code",
   "execution_count": 51,
   "metadata": {
    "id": "AZTBQnynTN4z"
   },
   "outputs": [
    {
     "name": "stdout",
     "output_type": "stream",
     "text": [
      "[{'Student': [{'Exam': 90, 'Grade': 'a'}, {'Exam': 99, 'Grade': 'b'}, {'Exam': 97, 'Grade': 'c'}], 'Name': 'Paras Jain'}, {'Student': [{'Exam': 89, 'Grade': 'a'}, {'Exam': 80, 'Grade': 'b'}], 'Name': 'Chunky Pandey'}]\n"
     ]
    }
   ],
   "source": [
    "#7. List of nested dictionary initialization\n",
    "list = [\n",
    "        {\n",
    "        \"Student\": [{\"Exam\": 90, \"Grade\": \"a\"},\n",
    "                    {\"Exam\": 99, \"Grade\": \"b\"},\n",
    "                    {\"Exam\": 97, \"Grade\": \"c\"},\n",
    "                ],\n",
    "        \"Name\": \"Paras Jain\"\n",
    "        },\n",
    "        {\n",
    "        \"Student\": [{\"Exam\": 89, \"Grade\": \"a\"},\n",
    "                    {\"Exam\": 80, \"Grade\": \"b\"}\n",
    "                ],\n",
    "        \"Name\": \"Chunky Pandey\"\n",
    "        }\n",
    "    ]\n",
    "print(list)"
   ]
  },
  {
   "cell_type": "code",
   "execution_count": 52,
   "metadata": {
    "colab": {
     "base_uri": "https://localhost:8080/"
    },
    "id": "Nl_R6kWOQID1",
    "outputId": "966d9788-581b-4331-cb8f-c8ed4a0f77e5"
   },
   "outputs": [
    {
     "name": "stdout",
     "output_type": "stream",
     "text": [
      "<class 'pandas.core.series.Series'>\n",
      "  Author  Articles\n",
      "0      A        10\n",
      "1      B        20\n",
      "2      C        30\n"
     ]
    }
   ],
   "source": [
    "# 9. Creating dataframe from series\n",
    "lst = [10,20,30]\n",
    "lst1= ['A','B','C']\n",
    "dfs = pd.Series(lst)\n",
    "dfs2 = pd.Series(lst1)\n",
    "dfs3 = {'Author':dfs2,'Articles':dfs}\n",
    "print(type(dfs))\n",
    "df = pd.DataFrame(dfs3)\n",
    "print(df)"
   ]
  },
  {
   "cell_type": "code",
   "execution_count": 53,
   "metadata": {
    "colab": {
     "base_uri": "https://localhost:8080/"
    },
    "id": "_32ejCZoQKbf",
    "outputId": "4357afb7-ec63-4766-d367-c70a6d550c94"
   },
   "outputs": [
    {
     "name": "stdout",
     "output_type": "stream",
     "text": [
      "          A         B         C         D         E\n",
      "0  0.666555  0.310716  0.753391  0.745558  0.130464\n",
      "1  0.661345  0.368577  0.971015  0.838069  0.201302\n",
      "2  0.366041  0.944669  0.136477  0.172422  0.504383\n",
      "3  0.279136  0.426255  0.822400  0.975593  0.592599\n",
      "4  0.643652  0.147517  0.439184  0.351676  0.530918\n",
      "    A   B   C   D   E\n",
      "a NaN NaN NaN NaN NaN\n",
      "b NaN NaN NaN NaN NaN\n",
      "c NaN NaN NaN NaN NaN\n",
      "d NaN NaN NaN NaN NaN\n",
      "e NaN NaN NaN NaN NaN\n"
     ]
    }
   ],
   "source": [
    "# 12. Reindexing\n",
    "df = pd.DataFrame(np.random.rand(5,5),columns=['A','B','C','D','E'])\n",
    "print(df)\n",
    "df1=df.reindex((['a','b','c','d','e']))\n",
    "print(df1)"
   ]
  },
  {
   "cell_type": "code",
   "execution_count": 54,
   "metadata": {
    "colab": {
     "base_uri": "https://localhost:8080/"
    },
    "id": "hNtqGTUBQMby",
    "outputId": "9cc497e2-a12b-4eac-b533-acbcab42644f"
   },
   "outputs": [
    {
     "name": "stdout",
     "output_type": "stream",
     "text": [
      "  first_name last_name  Age    city\n",
      "0        Ram     Kumar   32  Mumbai\n",
      "1      Mohan    Sharma   34   Noida\n",
      "2       Tina       Ali   24    Pune\n",
      "3       Jitu    Gandhi   32   Delhi\n",
      "4      Meera     Kumar   54   Bihar\n",
      "  first_name last_name  Age    city Qualification\n",
      "0        Ram     Kumar   32  Mumbai         B.com\n",
      "1      Mohan    Sharma   34   Noida           IAS\n",
      "2       Tina       Ali   24    Pune           LLB\n",
      "3       Jitu    Gandhi   32   Delhi        B.Tech\n",
      "4      Meera     Kumar   54   Bihar          MBBS\n"
     ]
    }
   ],
   "source": [
    "# 13.  Mapping external values to dataframe values in pandas\n",
    "idata = {'first_name':['Ram','Mohan','Tina','Jitu','Meera'],\n",
    "        'last_name':['Kumar','Sharma','Ali','Gandhi','Kumar'],\n",
    "        'Age':[32,34,24,32,54],\n",
    "        'city':['Mumbai','Noida','Pune','Delhi','Bihar']}\n",
    "df = pd.DataFrame(idata)\n",
    "print(df)\n",
    "newdata = {'Ram':'B.com','Mohan':'IAS','Tina':'LLB','Jitu':'B.Tech','Meera':'MBBS'}\n",
    "df['Qualification']=df['first_name'].map(newdata)\n",
    "print(df)"
   ]
  },
  {
   "cell_type": "markdown",
   "metadata": {
    "id": "tehvDI_ANshL"
   },
   "source": [
    "# Pandas Dataframe Rows – Practice Exercise"
   ]
  },
  {
   "cell_type": "code",
   "execution_count": 55,
   "metadata": {
    "colab": {
     "base_uri": "https://localhost:8080/"
    },
    "id": "QNzWUzBrV1F0",
    "outputId": "ec9c7602-eece-4720-e4e3-4998c105ad3f"
   },
   "outputs": [
    {
     "name": "stdout",
     "output_type": "stream",
     "text": [
      "Original DataFrame: \n",
      "      name  age\n",
      "0  Sujeet   10\n",
      "1  Sameer   11\n",
      "2   Sumit   12\n",
      "\n",
      "Rows iterated using iterrows() : \n",
      "Sujeet 10\n",
      "Sameer 11\n",
      "Sumit 12\n"
     ]
    }
   ],
   "source": [
    "input_df = [{'name':'Sujeet', 'age':10},\n",
    "        {'name':'Sameer', 'age':11},\n",
    "        {'name':'Sumit', 'age':12}]\n",
    "df = pd.DataFrame(input_df)\n",
    "print('Original DataFrame: \\n', df)\n",
    "\n",
    "print('\\nRows iterated using iterrows() : ')\n",
    "for index, row in df.iterrows():\n",
    "    print(row['name'], row['age'])"
   ]
  },
  {
   "cell_type": "code",
   "execution_count": 56,
   "metadata": {
    "colab": {
     "base_uri": "https://localhost:8080/"
    },
    "id": "kN4Pt7USV-Nk",
    "outputId": "257eb1b6-4d63-487c-d4bb-0727e50528de"
   },
   "outputs": [
    {
     "name": "stdout",
     "output_type": "stream",
     "text": [
      "Given Dataframe :\n",
      "         Name  Age    Stream  Percentage\n",
      "0      Ankit   21      Math          88\n",
      "1       Amit   19  Commerce          92\n",
      "2  Aishwarya   20      Arts          95\n",
      "3   Priyanka   18   Biology          70\n",
      "\n",
      "Iterating over rows using index attribute :\n",
      "\n",
      "Ankit Math\n",
      "Amit Commerce\n",
      "Aishwarya Arts\n",
      "Priyanka Biology\n"
     ]
    }
   ],
   "source": [
    "data = {'Name': ['Ankit', 'Amit', 'Aishwarya', 'Priyanka'],\n",
    "        'Age': [21, 19, 20, 18],\n",
    "        'Stream': ['Math', 'Commerce', 'Arts', 'Biology'],\n",
    "        'Percentage': [88, 92, 95, 70]}\n",
    "df = pd.DataFrame(data, columns=['Name', 'Age', 'Stream', 'Percentage'])\n",
    "print(\"Given Dataframe :\\n\", df)\n",
    "print(\"\\nIterating over rows using index attribute :\\n\")\n",
    "for ind in df.index:\n",
    "    print(df['Name'][ind], df['Stream'][ind])"
   ]
  },
  {
   "cell_type": "code",
   "execution_count": 57,
   "metadata": {
    "colab": {
     "base_uri": "https://localhost:8080/"
    },
    "id": "-gh6gaQhWCIX",
    "outputId": "8e0ac95b-8198-4839-d326-f651eb000af2"
   },
   "outputs": [
    {
     "name": "stdout",
     "output_type": "stream",
     "text": [
      "Given Dataframe :\n",
      "         Name  Age    Stream  Percentage\n",
      "0      Ankit   21      Math          88\n",
      "1       Amit   19  Commerce          92\n",
      "2  Aishwarya   20   Science          95\n",
      "3   Priyanka   18      Math          70\n",
      "4      Priya   17      Math          65\n",
      "5    Shaurya   21   Science          78\n",
      "\n",
      "Result dataframe :\n",
      "         Name  Age    Stream  Percentage\n",
      "0      Ankit   21      Math          88\n",
      "1       Amit   19  Commerce          92\n",
      "2  Aishwarya   20   Science          95\n"
     ]
    }
   ],
   "source": [
    "record = {\n",
    "    'Name': ['Ankit', 'Amit', 'Aishwarya', 'Priyanka', 'Priya', 'Shaurya' ],\n",
    "    'Age': [21, 19, 20, 18, 17, 21],\n",
    "    'Stream': ['Math', 'Commerce', 'Science', 'Math', 'Math', 'Science'],\n",
    "    'Percentage': [88, 92, 95, 70, 65, 78] }\n",
    "\n",
    "dataframe = pd.DataFrame(record, columns = ['Name', 'Age', 'Stream', 'Percentage'])\n",
    "print(\"Given Dataframe :\\n\", dataframe)\n",
    "rslt_df = dataframe[dataframe['Percentage'] > 80]\n",
    "print('\\nResult dataframe :\\n', rslt_df)"
   ]
  },
  {
   "cell_type": "code",
   "execution_count": 58,
   "metadata": {
    "colab": {
     "base_uri": "https://localhost:8080/"
    },
    "id": "dap6k4gpWHIO",
    "outputId": "faf4f1c2-fefd-4406-fbd7-68975faad161"
   },
   "outputs": [
    {
     "name": "stdout",
     "output_type": "stream",
     "text": [
      "[['10/2/2011', 'Music', 10000], ['11/2/2011', 'Poetry', 5000], ['12/2/2011', 'Theatre', 15000]]\n"
     ]
    }
   ],
   "source": [
    "df = pd.DataFrame({'Date':['10/2/2011', '11/2/2011', '12/2/2011', '13/2/11'],\n",
    "                'Event':['Music', 'Poetry', 'Theatre', 'Comedy'],\n",
    "                'Cost':[10000, 5000, 15000, 2000]})\n",
    "Row_list =[]\n",
    "for i in range((df.shape[0])):\n",
    "    # Create a list to store the data\n",
    "    # of the current row\n",
    "    cur_row =[]\n",
    "    # iterate over all the columns\n",
    "    for j in range(df.shape[1]):\n",
    "        # append the data of each\n",
    "        # column to the list\n",
    "        cur_row.append(df.iat[i, j])\n",
    "    # append the current row to the list\n",
    "    Row_list.append(cur_row)\n",
    "\n",
    "print(Row_list[:3])"
   ]
  },
  {
   "cell_type": "code",
   "execution_count": 59,
   "metadata": {
    "colab": {
     "base_uri": "https://localhost:8080/"
    },
    "id": "Nfpp_RzzWc9g",
    "outputId": "b72337c3-5620-4d2b-dc98-2cf824df2169"
   },
   "outputs": [
    {
     "name": "stdout",
     "output_type": "stream",
     "text": [
      "     Name Qualification\n",
      "1  Princi            MA\n",
      "2  Gaurav           MCA\n",
      "3    Anuj           Phd\n"
     ]
    }
   ],
   "source": [
    "data = {'Name':['Jai', 'Princi', 'Gaurav', 'Anuj'],\n",
    "    'Age':[27, 24, 22, 32],\n",
    "    'Address':['Delhi', 'Kanpur', 'Allahabad', 'Kannauj'],\n",
    "    'Qualification':['Msc', 'MA', 'MCA', 'Phd']}\n",
    "df = pd.DataFrame(data)\n",
    "print(df.loc[1:3, ['Name', 'Qualification']])"
   ]
  },
  {
   "cell_type": "code",
   "execution_count": 60,
   "metadata": {
    "colab": {
     "base_uri": "https://localhost:8080/"
    },
    "id": "otTwMB3DWsrX",
    "outputId": "1f8660d5-01c7-430c-b4fe-4a5340c8bcc5"
   },
   "outputs": [
    {
     "name": "stdout",
     "output_type": "stream",
     "text": [
      "                Name            Team  Number Position   Age Height  Weight  \\\n",
      "0      Avery Bradley  Boston Celtics     0.0       PG  25.0    6-2   180.0   \n",
      "1        Jae Crowder  Boston Celtics    99.0       SF  25.0    6-6   235.0   \n",
      "2       John Holland  Boston Celtics    30.0       SG  27.0    6-5   205.0   \n",
      "4      Jonas Jerebko  Boston Celtics     8.0       PF  29.0   6-10   231.0   \n",
      "5       Amir Johnson  Boston Celtics    90.0       PF  29.0    6-9   240.0   \n",
      "7       Kelly Olynyk  Boston Celtics    41.0        C  25.0    7-0   238.0   \n",
      "11     Isaiah Thomas  Boston Celtics     4.0       PG  27.0    5-9   185.0   \n",
      "12       Evan Turner  Boston Celtics    11.0       SG  27.0    6-7   220.0   \n",
      "14      Tyler Zeller  Boston Celtics    44.0        C  26.0    7-0   253.0   \n",
      "15  Bojan Bogdanovic   Brooklyn Nets    44.0       SG  27.0    6-8   216.0   \n",
      "17   Wayne Ellington   Brooklyn Nets    21.0       SG  28.0    6-4   200.0   \n",
      "19      Jarrett Jack   Brooklyn Nets     2.0       PG  32.0    6-3   200.0   \n",
      "21   Sean Kilpatrick   Brooklyn Nets     6.0       SG  26.0    6-4   219.0   \n",
      "23       Brook Lopez   Brooklyn Nets    11.0        C  28.0    7-0   275.0   \n",
      "25       Willie Reed   Brooklyn Nets    33.0       PF  26.0   6-10   220.0   \n",
      "\n",
      "              College      Salary  \n",
      "0               Texas   7730337.0  \n",
      "1           Marquette   6796117.0  \n",
      "2   Boston University         NaN  \n",
      "4                 NaN   5000000.0  \n",
      "5                 NaN  12000000.0  \n",
      "7             Gonzaga   2165160.0  \n",
      "11         Washington   6912869.0  \n",
      "12         Ohio State   3425510.0  \n",
      "14     North Carolina   2616975.0  \n",
      "15                NaN   3425510.0  \n",
      "17     North Carolina   1500000.0  \n",
      "19       Georgia Tech   6300000.0  \n",
      "21         Cincinnati    134215.0  \n",
      "23           Stanford  19689000.0  \n",
      "25        Saint Louis    947276.0  \n",
      "(303, 9)\n"
     ]
    }
   ],
   "source": [
    "df = pd.read_csv('nba.csv')\n",
    "\n",
    "# First filter out those rows which does not contain any data\n",
    "df = df.dropna(how = 'all')\n",
    "\n",
    "# Filter all rows for which the player's age is greater than or equal to 25\n",
    "df.drop(df[df['Age'] < 25].index, inplace = True)\n",
    "\n",
    "print(df.head(15))\n",
    "print(df.shape)"
   ]
  },
  {
   "cell_type": "code",
   "execution_count": 61,
   "metadata": {
    "colab": {
     "base_uri": "https://localhost:8080/"
    },
    "id": "U_BkVdz0W_vE",
    "outputId": "e34d5cb4-a4d6-4cf6-b1a6-526af78604b2"
   },
   "outputs": [
    {
     "name": "stdout",
     "output_type": "stream",
     "text": [
      "        Date    Event   Cost\n",
      "0  10/2/2011    Music  10000\n",
      "1  12/2/2011   Poetry   5000\n",
      "2  13/2/2011  Theatre  15000\n",
      "3  14/2/2011   Comedy   2000\n"
     ]
    }
   ],
   "source": [
    "df = pd.DataFrame({'Date':['10/2/2011', '12/2/2011', '13/2/2011', '14/2/2011'],\n",
    "                'Event':['Music', 'Poetry', 'Theatre', 'Comedy'],\n",
    "                'Cost':[10000, 5000, 15000, 2000]})\n",
    "print(df)"
   ]
  },
  {
   "cell_type": "code",
   "execution_count": 62,
   "metadata": {
    "colab": {
     "base_uri": "https://localhost:8080/"
    },
    "id": "teYJbE6YXBgm",
    "outputId": "a2d2315c-b169-4d94-e1ec-068727777cd1"
   },
   "outputs": [
    {
     "name": "stdout",
     "output_type": "stream",
     "text": [
      "        Date    Event   Cost\n",
      "0  10/2/2011    Music  10000\n",
      "1  11/2/2011   Poetry   5000\n",
      "2  12/2/2011  Theatre  15000\n",
      "3    13/2/11   Comedy   2000\n"
     ]
    }
   ],
   "source": [
    "df = pd.DataFrame({'Date':['10/2/2011', '11/2/2011', '12/2/2011', '13/2/11'],\n",
    "                'Event':['Music', 'Poetry', 'Theatre', 'Comedy'],\n",
    "                'Cost':[10000, 5000, 15000, 2000]})\n",
    "print(df)"
   ]
  },
  {
   "cell_type": "code",
   "execution_count": 63,
   "metadata": {
    "colab": {
     "base_uri": "https://localhost:8080/"
    },
    "id": "eftjgeC0NsDw",
    "outputId": "e060cceb-6641-4454-b7d4-c49270c8929e"
   },
   "outputs": [
    {
     "name": "stdout",
     "output_type": "stream",
     "text": [
      "        Date    Event   Cost\n",
      "0  10/2/2011    Music  10000\n",
      "1  11/2/2011   Poetry   5000\n",
      "2  12/2/2011  Theatre  15000\n",
      "3    13/2/11   Comedy   2000\n"
     ]
    }
   ],
   "source": [
    "df = pd.DataFrame({'Date':['10/2/2011', '11/2/2011', '12/2/2011', '13/2/11'],\n",
    "                'Event':['Music', 'Poetry', 'Theatre', 'Comedy'],\n",
    "                'Cost':[10000, 5000, 15000, 2000]})\n",
    "print(df)"
   ]
  },
  {
   "cell_type": "code",
   "execution_count": 64,
   "metadata": {
    "colab": {
     "base_uri": "https://localhost:8080/"
    },
    "id": "JiafURpoPPjj",
    "outputId": "ff109167-b680-42e4-a690-f18b37ad5863"
   },
   "outputs": [
    {
     "name": "stdout",
     "output_type": "stream",
     "text": [
      "            Name  Year Rating\n",
      "0  The Godfather  1972    9.2\n",
      "1       Bird Box  2018    6.8\n",
      "2     Fight Club  1999    8.8\n"
     ]
    }
   ],
   "source": [
    "movies = {'Name': ['The Godfather', 'Bird Box', 'Fight Club'],\n",
    "        'Year': ['1972', '2018', '1999'],\n",
    "        'Rating': ['9.2', '6.8', '8.8']}\n",
    "df = pd.DataFrame(movies)\n",
    "print(df)"
   ]
  },
  {
   "cell_type": "code",
   "execution_count": 65,
   "metadata": {
    "colab": {
     "base_uri": "https://localhost:8080/"
    },
    "id": "5CwWy3AuPVRX",
    "outputId": "c6047718-7e4d-4954-da41-8b09ae66f50e"
   },
   "outputs": [
    {
     "name": "stdout",
     "output_type": "stream",
     "text": [
      "Sorting rows by Science:\n",
      " \n",
      "      name  Maths  Science  English\n",
      "1   Marsh      5        9        4\n",
      "0   Simon      8        7        7\n",
      "4  Selena      7        7        8\n",
      "2  Gaurav      6        5        7\n",
      "3    Alex      9        4        6\n"
     ]
    }
   ],
   "source": [
    "data = {'name': ['Simon', 'Marsh', 'Gaurav', 'Alex', 'Selena'],\n",
    "    'Maths': [8, 5, 6, 9, 7],\n",
    "    'Science': [7, 9, 5, 4, 7],\n",
    "    'English': [7, 4, 7, 6, 8]}\n",
    "df = pd.DataFrame(data)\n",
    "a = df.sort_values(by ='Science', ascending = 0)\n",
    "print(\"Sorting rows by Science:\\n \\n\", a)"
   ]
  },
  {
   "cell_type": "code",
   "execution_count": 66,
   "metadata": {
    "colab": {
     "base_uri": "https://localhost:8080/"
    },
    "id": "GfjDHdDSPaLE",
    "outputId": "00553f2b-2e33-4bb6-ea0f-826cdbe7b6bd"
   },
   "outputs": [
    {
     "name": "stdout",
     "output_type": "stream",
     "text": [
      "       Driver  Points  Age\n",
      "0    Hamilton     408   33\n",
      "1      Vettel     320   31\n",
      "2   Raikkonen     251   39\n",
      "3  Verstappen     249   21\n",
      "4      Bottas     247   29\n",
      "5   Ricciardo     170   29\n",
      "6  Hulkenberg      69   31\n",
      "7       Perez      62   28\n",
      "8   Magnussen      56   26\n",
      "9       Sainz      53   24\n"
     ]
    }
   ],
   "source": [
    "dict1 ={'Driver':['Hamilton', 'Vettel', 'Raikkonen',\n",
    "    'Verstappen', 'Bottas', 'Ricciardo',\n",
    "    'Hulkenberg', 'Perez', 'Magnussen',\n",
    "    'Sainz', 'Alonso', 'Ocon', 'Leclerc',\n",
    "    'Grosjean', 'Gasly', 'Vandoorne',\n",
    "    'Ericsson', 'Stroll', 'Hartley', 'Sirotkin'],\n",
    "    'Points':[408, 320, 251, 249, 247, 170, 69, 62, 56, 53, 50, 49, 39, 37, 29, 12, 9, 6, 4, 1],\n",
    "    'Age':[33, 31, 39, 21, 29, 29, 31, 28, 26, 24, 37, 22, 21, 32, 22, 26, 28, 20, 29, 23]}\n",
    "\n",
    "df = pd.DataFrame(dict1)\n",
    "print(df.head(10))"
   ]
  },
  {
   "cell_type": "code",
   "execution_count": 67,
   "metadata": {
    "colab": {
     "base_uri": "https://localhost:8080/"
    },
    "id": "ic5Y9MHMPhmE",
    "outputId": "07572ded-593a-4219-bb49-288db28c5777"
   },
   "outputs": [
    {
     "name": "stdout",
     "output_type": "stream",
     "text": [
      "       Name    Team Position  Number  Age Height  Weight   College  Salary\n",
      "ind1  Geeks  Boston       PG       3   33    6-2      89       MIT   99999\n",
      "ind2  Peter  Boston       PG       4   25    6-4      79       MIT   99994\n",
      "ind3  James  Boston       UG       7   34    5-9     113       MIT   89999\n",
      "ind4   Jack   Chele       PG      11   35    6-1      78  Stanford   78889\n",
      "ind5   Lisa   Barse       UG       5   28    5-8      84  Stanford   87779 \n",
      "\n",
      "Check PG values in Position column:\n",
      "\n",
      "ind1     True\n",
      "ind2     True\n",
      "ind3    False\n",
      "ind4     True\n",
      "ind5    False\n",
      "Name: Position, dtype: bool\n"
     ]
    }
   ],
   "source": [
    "df = pd.DataFrame({'Name': ['Geeks', 'Peter', 'James', 'Jack', 'Lisa'],\n",
    "                'Team': ['Boston', 'Boston', 'Boston', 'Chele', 'Barse'],\n",
    "                'Position': ['PG', 'PG', 'UG', 'PG', 'UG'],\n",
    "                'Number': [3, 4, 7, 11, 5],\n",
    "                'Age': [33, 25, 34, 35, 28],\n",
    "                'Height': ['6-2', '6-4', '5-9', '6-1', '5-8'],\n",
    "                'Weight': [89, 79, 113, 78, 84],\n",
    "                'College': ['MIT', 'MIT', 'MIT', 'Stanford', 'Stanford'],\n",
    "                'Salary': [99999, 99994, 89999, 78889, 87779]},\n",
    "                index =['ind1', 'ind2', 'ind3', 'ind4', 'ind5'])\n",
    "print(df, \"\\n\")\n",
    "print(\"Check PG values in Position column:\\n\")\n",
    "df1 = df['Position'].str.contains(\"PG\")\n",
    "print(df1)"
   ]
  },
  {
   "cell_type": "code",
   "execution_count": 68,
   "metadata": {
    "colab": {
     "base_uri": "https://localhost:8080/",
     "height": 206
    },
    "id": "DmOGqI2oPlsG",
    "outputId": "bc373e70-4231-47b7-bebc-035c786abcfa"
   },
   "outputs": [
    {
     "data": {
      "text/html": [
       "<div>\n",
       "<style scoped>\n",
       "    .dataframe tbody tr th:only-of-type {\n",
       "        vertical-align: middle;\n",
       "    }\n",
       "\n",
       "    .dataframe tbody tr th {\n",
       "        vertical-align: top;\n",
       "    }\n",
       "\n",
       "    .dataframe thead th {\n",
       "        text-align: right;\n",
       "    }\n",
       "</style>\n",
       "<table border=\"1\" class=\"dataframe\">\n",
       "  <thead>\n",
       "    <tr style=\"text-align: right;\">\n",
       "      <th></th>\n",
       "      <th>Name</th>\n",
       "      <th>Branch</th>\n",
       "      <th>Score</th>\n",
       "      <th>Result</th>\n",
       "    </tr>\n",
       "  </thead>\n",
       "  <tbody>\n",
       "    <tr>\n",
       "      <th>0</th>\n",
       "      <td>Akash</td>\n",
       "      <td>B.Tech</td>\n",
       "      <td>80</td>\n",
       "      <td>Pass</td>\n",
       "    </tr>\n",
       "    <tr>\n",
       "      <th>1</th>\n",
       "      <td>Geeku</td>\n",
       "      <td>MBA</td>\n",
       "      <td>90</td>\n",
       "      <td>Pass</td>\n",
       "    </tr>\n",
       "    <tr>\n",
       "      <th>2</th>\n",
       "      <td>Pankaj</td>\n",
       "      <td>BCA</td>\n",
       "      <td>60</td>\n",
       "      <td>Pass</td>\n",
       "    </tr>\n",
       "    <tr>\n",
       "      <th>3</th>\n",
       "      <td>Sumitra</td>\n",
       "      <td>B.Tech</td>\n",
       "      <td>30</td>\n",
       "      <td>Fail</td>\n",
       "    </tr>\n",
       "    <tr>\n",
       "      <th>4</th>\n",
       "      <td>Ramlal</td>\n",
       "      <td>BCA</td>\n",
       "      <td>50</td>\n",
       "      <td>Fail</td>\n",
       "    </tr>\n",
       "  </tbody>\n",
       "</table>\n",
       "</div>"
      ],
      "text/plain": [
       "      Name  Branch Score Result\n",
       "0    Akash  B.Tech    80   Pass\n",
       "1    Geeku     MBA    90   Pass\n",
       "2   Pankaj     BCA    60   Pass\n",
       "3  Sumitra  B.Tech    30   Fail\n",
       "4   Ramlal     BCA    50   Fail"
      ]
     },
     "execution_count": 68,
     "metadata": {},
     "output_type": "execute_result"
    }
   ],
   "source": [
    "data = {'Name':[\"Akash\", \"Geeku\", \"Pankaj\", \"Sumitra\",\"Ramlal\"],\n",
    "'Branch':[\"B.Tech\", \"MBA\", \"BCA\", \"B.Tech\", \"BCA\"],\n",
    "'Score':[\"80\",\"90\",\"60\", \"30\", \"50\"],\n",
    "'Result': [\"Pass\",\"Pass\",\"Pass\",\"Fail\",\"Fail\"]}\n",
    "df = pd.DataFrame(data)\n",
    "df"
   ]
  },
  {
   "cell_type": "code",
   "execution_count": 69,
   "metadata": {
    "colab": {
     "base_uri": "https://localhost:8080/",
     "height": 206
    },
    "id": "-y7hSL4GPp1g",
    "outputId": "64c2e3fe-e2e2-4445-d88a-ef8f995b17da"
   },
   "outputs": [
    {
     "data": {
      "text/html": [
       "<div>\n",
       "<style scoped>\n",
       "    .dataframe tbody tr th:only-of-type {\n",
       "        vertical-align: middle;\n",
       "    }\n",
       "\n",
       "    .dataframe tbody tr th {\n",
       "        vertical-align: top;\n",
       "    }\n",
       "\n",
       "    .dataframe thead th {\n",
       "        text-align: right;\n",
       "    }\n",
       "</style>\n",
       "<table border=\"1\" class=\"dataframe\">\n",
       "  <thead>\n",
       "    <tr style=\"text-align: right;\">\n",
       "      <th></th>\n",
       "      <th>Name</th>\n",
       "      <th>Age</th>\n",
       "      <th>Address</th>\n",
       "      <th>Qualification</th>\n",
       "    </tr>\n",
       "  </thead>\n",
       "  <tbody>\n",
       "    <tr>\n",
       "      <th>0</th>\n",
       "      <td>Jai</td>\n",
       "      <td>27</td>\n",
       "      <td>Delhi</td>\n",
       "      <td>Msc</td>\n",
       "    </tr>\n",
       "    <tr>\n",
       "      <th>1</th>\n",
       "      <td>Princi</td>\n",
       "      <td>24</td>\n",
       "      <td>Kanpur</td>\n",
       "      <td>MA</td>\n",
       "    </tr>\n",
       "    <tr>\n",
       "      <th>2</th>\n",
       "      <td>Gaurav</td>\n",
       "      <td>22</td>\n",
       "      <td>Allahabad</td>\n",
       "      <td>MCA</td>\n",
       "    </tr>\n",
       "    <tr>\n",
       "      <th>3</th>\n",
       "      <td>Anuj</td>\n",
       "      <td>32</td>\n",
       "      <td>Kannauj</td>\n",
       "      <td>Phd</td>\n",
       "    </tr>\n",
       "    <tr>\n",
       "      <th>4</th>\n",
       "      <td>Geeku</td>\n",
       "      <td>15</td>\n",
       "      <td>Noida</td>\n",
       "      <td>10th</td>\n",
       "    </tr>\n",
       "  </tbody>\n",
       "</table>\n",
       "</div>"
      ],
      "text/plain": [
       "     Name  Age    Address Qualification\n",
       "0     Jai   27      Delhi           Msc\n",
       "1  Princi   24     Kanpur            MA\n",
       "2  Gaurav   22  Allahabad           MCA\n",
       "3    Anuj   32    Kannauj           Phd\n",
       "4   Geeku   15      Noida          10th"
      ]
     },
     "execution_count": 69,
     "metadata": {},
     "output_type": "execute_result"
    }
   ],
   "source": [
    "data = {'Name':['Jai', 'Princi', 'Gaurav', 'Anuj', 'Geeku'],\n",
    "'Age':[27, 24, 22, 32, 15],\n",
    "'Address':['Delhi', 'Kanpur', 'Allahabad', 'Kannauj', 'Noida'],\n",
    "'Qualification':['Msc', 'MA', 'MCA', 'Phd', '10th']}\n",
    "df = pd.DataFrame(data)\n",
    "df"
   ]
  },
  {
   "cell_type": "markdown",
   "metadata": {
    "id": "MLXGLrwoLwpa"
   },
   "source": [
    "# Pandas Dataframe Columns – Practice Exercise"
   ]
  },
  {
   "cell_type": "code",
   "execution_count": 70,
   "metadata": {
    "colab": {
     "base_uri": "https://localhost:8080/"
    },
    "id": "KjdV-FqKJQod",
    "outputId": "696091c0-fd5b-46c6-b48a-08e338364d9c"
   },
   "outputs": [
    {
     "name": "stdout",
     "output_type": "stream",
     "text": [
      "  Voter_name  Voter_age     Voter\n",
      "0      Geek1       15.0        No\n",
      "1      Geek2       23.0       Yes\n",
      "2      Geek3       25.0       Yes\n",
      "3      Geek4        9.0        No\n",
      "4      Geek5       67.0       Yes\n",
      "5      Geek6       54.0       Yes\n",
      "6      Geek7       42.0       Yes\n",
      "7      Geek8        NaN  Not Sure\n"
     ]
    }
   ],
   "source": [
    "raw_Data = {'Voter_name': ['Geek1', 'Geek2', 'Geek3', 'Geek4',\n",
    "'Geek5', 'Geek6', 'Geek7', 'Geek8'],\n",
    "'Voter_age': [15, 23, 25, 9, 67, 54, 42, np.NaN]}\n",
    "df = pd.DataFrame(raw_Data, columns = ['Voter_name', 'Voter_age'])\n",
    "eligible = []\n",
    "for age in df['Voter_age']:\n",
    "    if age >= 18:              # if Voter eligible\n",
    "        eligible.append('Yes')\n",
    "    elif age < 18:             # if voter is not eligible\n",
    "        eligible.append(\"No\")\n",
    "    else:\n",
    "        eligible.append(\"Not Sure\")\n",
    "df['Voter'] = eligible\n",
    "print(df)"
   ]
  },
  {
   "cell_type": "code",
   "execution_count": 71,
   "metadata": {
    "colab": {
     "base_uri": "https://localhost:8080/",
     "height": 206
    },
    "id": "YeSs--wKMan4",
    "outputId": "6292fc65-3adf-4b30-de65-7dcd7e8048d3"
   },
   "outputs": [
    {
     "data": {
      "text/html": [
       "<div>\n",
       "<style scoped>\n",
       "    .dataframe tbody tr th:only-of-type {\n",
       "        vertical-align: middle;\n",
       "    }\n",
       "\n",
       "    .dataframe tbody tr th {\n",
       "        vertical-align: top;\n",
       "    }\n",
       "\n",
       "    .dataframe thead th {\n",
       "        text-align: right;\n",
       "    }\n",
       "</style>\n",
       "<table border=\"1\" class=\"dataframe\">\n",
       "  <thead>\n",
       "    <tr style=\"text-align: right;\">\n",
       "      <th></th>\n",
       "      <th>Name</th>\n",
       "      <th>Team</th>\n",
       "      <th>Number</th>\n",
       "      <th>Position</th>\n",
       "      <th>Age</th>\n",
       "      <th>Height</th>\n",
       "      <th>Weight</th>\n",
       "      <th>College</th>\n",
       "      <th>Salary</th>\n",
       "    </tr>\n",
       "  </thead>\n",
       "  <tbody>\n",
       "    <tr>\n",
       "      <th>0</th>\n",
       "      <td>Avery Bradley</td>\n",
       "      <td>Boston Celtics</td>\n",
       "      <td>0.0</td>\n",
       "      <td>PG</td>\n",
       "      <td>25.0</td>\n",
       "      <td>6-2</td>\n",
       "      <td>180.0</td>\n",
       "      <td>Texas</td>\n",
       "      <td>7730337.0</td>\n",
       "    </tr>\n",
       "    <tr>\n",
       "      <th>1</th>\n",
       "      <td>Jae Crowder</td>\n",
       "      <td>Boston Celtics</td>\n",
       "      <td>99.0</td>\n",
       "      <td>SF</td>\n",
       "      <td>25.0</td>\n",
       "      <td>6-6</td>\n",
       "      <td>235.0</td>\n",
       "      <td>Marquette</td>\n",
       "      <td>6796117.0</td>\n",
       "    </tr>\n",
       "    <tr>\n",
       "      <th>2</th>\n",
       "      <td>John Holland</td>\n",
       "      <td>Boston Celtics</td>\n",
       "      <td>30.0</td>\n",
       "      <td>SG</td>\n",
       "      <td>27.0</td>\n",
       "      <td>6-5</td>\n",
       "      <td>205.0</td>\n",
       "      <td>Boston University</td>\n",
       "      <td>NaN</td>\n",
       "    </tr>\n",
       "    <tr>\n",
       "      <th>3</th>\n",
       "      <td>R.J. Hunter</td>\n",
       "      <td>Boston Celtics</td>\n",
       "      <td>28.0</td>\n",
       "      <td>SG</td>\n",
       "      <td>22.0</td>\n",
       "      <td>6-5</td>\n",
       "      <td>185.0</td>\n",
       "      <td>Georgia State</td>\n",
       "      <td>1148640.0</td>\n",
       "    </tr>\n",
       "    <tr>\n",
       "      <th>4</th>\n",
       "      <td>Jonas Jerebko</td>\n",
       "      <td>Boston Celtics</td>\n",
       "      <td>8.0</td>\n",
       "      <td>PF</td>\n",
       "      <td>29.0</td>\n",
       "      <td>6-10</td>\n",
       "      <td>231.0</td>\n",
       "      <td>NaN</td>\n",
       "      <td>5000000.0</td>\n",
       "    </tr>\n",
       "  </tbody>\n",
       "</table>\n",
       "</div>"
      ],
      "text/plain": [
       "            Name            Team  Number Position   Age Height  Weight  \\\n",
       "0  Avery Bradley  Boston Celtics     0.0       PG  25.0    6-2   180.0   \n",
       "1    Jae Crowder  Boston Celtics    99.0       SF  25.0    6-6   235.0   \n",
       "2   John Holland  Boston Celtics    30.0       SG  27.0    6-5   205.0   \n",
       "3    R.J. Hunter  Boston Celtics    28.0       SG  22.0    6-5   185.0   \n",
       "4  Jonas Jerebko  Boston Celtics     8.0       PF  29.0   6-10   231.0   \n",
       "\n",
       "             College     Salary  \n",
       "0              Texas  7730337.0  \n",
       "1          Marquette  6796117.0  \n",
       "2  Boston University        NaN  \n",
       "3      Georgia State  1148640.0  \n",
       "4                NaN  5000000.0  "
      ]
     },
     "execution_count": 71,
     "metadata": {},
     "output_type": "execute_result"
    }
   ],
   "source": [
    "data = pd.read_csv(\"https://media.geeksforgeeks.org/wp-content/uploads/nba.csv\")\n",
    "data_top = data.head()\n",
    "data_top"
   ]
  },
  {
   "cell_type": "code",
   "execution_count": 72,
   "metadata": {
    "colab": {
     "base_uri": "https://localhost:8080/"
    },
    "id": "s8rMQT5tMgCs",
    "outputId": "03e7c155-a62d-4b5d-d8fa-77eedf81a54f"
   },
   "outputs": [
    {
     "data": {
      "text/plain": [
       "array(['B1', 'B2', 'B3', 'B4'], dtype=object)"
      ]
     },
     "execution_count": 72,
     "metadata": {},
     "output_type": "execute_result"
    }
   ],
   "source": [
    "data = {\n",
    "'A':['A1', 'A2', 'A3', 'A4', 'A5'],\n",
    "'B':['B1', 'B2', 'B3', 'B4', 'B4'],\n",
    "'C':['C1', 'C2', 'C3', 'C3', 'C3'],\n",
    "'D':['D1', 'D2', 'D2', 'D2', 'D2'],\n",
    "'E':['E1', 'E1', 'E1', 'E1', 'E1'] }\n",
    "df = pd.DataFrame(data)\n",
    "df.B.unique()"
   ]
  },
  {
   "cell_type": "code",
   "execution_count": 73,
   "metadata": {
    "colab": {
     "base_uri": "https://localhost:8080/"
    },
    "id": "vpmRRjfPMsD6",
    "outputId": "1ffb4ee1-cf77-494a-aaea-1a98ef16e36b"
   },
   "outputs": [
    {
     "name": "stdout",
     "output_type": "stream",
     "text": [
      "        Date    Product  Last Price  Updated Price  Discount\n",
      "0  10/2/2011   Umbrella        1200           1250        10\n",
      "1  11/2/2011    Matress        1500           1450        10\n",
      "2  12/2/2011  Badminton        1600           1550        10\n",
      "3  13/2/2011    Shuttle         352            400        10\n"
     ]
    }
   ],
   "source": [
    "df = pd.DataFrame({'Date':['10/2/2011', '11/2/2011', '12/2/2011', '13/2/2011'],\n",
    "'Product':['Umbrella', 'Matress', 'Badminton', 'Shuttle'],\n",
    "'Last Price':[1200, 1500, 1600, 352],\n",
    "'Updated Price':[1250, 1450, 1550, 400],\n",
    "'Discount':[10, 10, 10, 10]})\n",
    "print(df)"
   ]
  },
  {
   "cell_type": "code",
   "execution_count": 74,
   "metadata": {
    "colab": {
     "base_uri": "https://localhost:8080/"
    },
    "id": "1vpX_ArdMtad",
    "outputId": "62a41c66-a8bc-47d0-e640-93b99dc23301"
   },
   "outputs": [
    {
     "name": "stdout",
     "output_type": "stream",
     "text": [
      "        Date    Event   Cost\n",
      "0  10/2/2011    Music  10000\n",
      "1  11/2/2011   Poetry   5000\n",
      "2  12/2/2011  Theatre  15000\n",
      "3  13/2/2011   Comedy   2000\n"
     ]
    }
   ],
   "source": [
    "df = pd.DataFrame({'Date':['10/2/2011', '11/2/2011', '12/2/2011', '13/2/2011'],\n",
    "'Event':['Music', 'Poetry', 'Theatre', 'Comedy'],\n",
    "'Cost':[10000, 5000, 15000, 2000]})\n",
    "print(df)"
   ]
  },
  {
   "cell_type": "code",
   "execution_count": 75,
   "metadata": {
    "colab": {
     "base_uri": "https://localhost:8080/"
    },
    "id": "9WSmI_n0M3I2",
    "outputId": "9427f95b-8aac-4047-8a01-110df950c5da"
   },
   "outputs": [
    {
     "name": "stdout",
     "output_type": "stream",
     "text": [
      "        Date    Event   Cost\n",
      "0  10/2/2011    Music  10000\n",
      "1  11/2/2011   Poetry   5000\n",
      "2  12/2/2011  Theatre  15000\n",
      "3  13/2/2011   Comedy   2000\n"
     ]
    }
   ],
   "source": [
    "df = pd.DataFrame({'Date':['10/2/2011', '11/2/2011', '12/2/2011', '13/2/2011'],\n",
    "'Event':['Music', 'Poetry', 'Theatre', 'Comedy'],\n",
    "'Cost':[10000, 5000, 15000, 2000]})\n",
    "print(df)"
   ]
  },
  {
   "cell_type": "code",
   "execution_count": 76,
   "metadata": {
    "colab": {
     "base_uri": "https://localhost:8080/"
    },
    "id": "q255xxWFM7TC",
    "outputId": "4b1509f4-654e-4574-e5a5-b1acd16ba3d2"
   },
   "outputs": [
    {
     "name": "stdout",
     "output_type": "stream",
     "text": [
      "bar    4\n",
      "g2g    3\n",
      "foo    2\n",
      "Name: A, dtype: int64\n"
     ]
    }
   ],
   "source": [
    "df = pd.DataFrame({'A': ['foo', 'bar', 'g2g', 'g2g', 'g2g',\n",
    "'bar', 'bar', 'foo', 'bar'],\n",
    "'B': ['a', 'b', 'a', 'b', 'b', 'b', 'a', 'a', 'b'] })\n",
    "count = df['A'].value_counts()\n",
    "print(count)"
   ]
  },
  {
   "cell_type": "code",
   "execution_count": 77,
   "metadata": {
    "colab": {
     "base_uri": "https://localhost:8080/"
    },
    "id": "QnSz8cwiNFCH",
    "outputId": "b71cd95f-ad14-496f-c538-c57b97a23e95"
   },
   "outputs": [
    {
     "name": "stdout",
     "output_type": "stream",
     "text": [
      "Given Dataframe :\n",
      "       Name  score1  score2\n",
      "0   George      62      45\n",
      "1   Andrea      47      78\n",
      "2  micheal      55      44\n",
      "3   maggie      74      89\n",
      "4     Ravi      32      66\n",
      "5     Xien      77      49\n",
      "6    Jalpa      86      72\n",
      "\n",
      "Difference of score1 and score2 :\n",
      "       Name  score1  score2  Score_diff\n",
      "0   George      62      45          17\n",
      "1   Andrea      47      78         -31\n",
      "2  micheal      55      44          11\n",
      "3   maggie      74      89         -15\n",
      "4     Ravi      32      66         -34\n",
      "5     Xien      77      49          28\n",
      "6    Jalpa      86      72          14\n"
     ]
    }
   ],
   "source": [
    "df1 = { 'Name':['George','Andrea','micheal',\n",
    "'maggie','Ravi','Xien','Jalpa'],\n",
    "'score1':[62,47,55,74,32,77,86],\n",
    "'score2':[45,78,44,89,66,49,72]}\n",
    "df1 = pd.DataFrame(df1,columns= ['Name','score1','score2'])\n",
    "print(\"Given Dataframe :\\n\", df1)\n",
    "df1['Score_diff'] = df1['score1'] - df1['score2']\n",
    "print(\"\\nDifference of score1 and score2 :\\n\", df1)"
   ]
  },
  {
   "cell_type": "code",
   "execution_count": 78,
   "metadata": {
    "colab": {
     "base_uri": "https://localhost:8080/",
     "height": 206
    },
    "id": "vNS5PFqUNKpm",
    "outputId": "4a426aba-a3d9-4417-9f9b-0bbe04ed23e0"
   },
   "outputs": [
    {
     "data": {
      "text/html": [
       "<div>\n",
       "<style scoped>\n",
       "    .dataframe tbody tr th:only-of-type {\n",
       "        vertical-align: middle;\n",
       "    }\n",
       "\n",
       "    .dataframe tbody tr th {\n",
       "        vertical-align: top;\n",
       "    }\n",
       "\n",
       "    .dataframe thead th {\n",
       "        text-align: right;\n",
       "    }\n",
       "</style>\n",
       "<table border=\"1\" class=\"dataframe\">\n",
       "  <thead>\n",
       "    <tr style=\"text-align: right;\">\n",
       "      <th></th>\n",
       "      <th>A</th>\n",
       "      <th>B</th>\n",
       "      <th>C</th>\n",
       "      <th>D</th>\n",
       "      <th>E</th>\n",
       "    </tr>\n",
       "  </thead>\n",
       "  <tbody>\n",
       "    <tr>\n",
       "      <th>0</th>\n",
       "      <td>A1</td>\n",
       "      <td>B1</td>\n",
       "      <td>C1</td>\n",
       "      <td>D1</td>\n",
       "      <td>E1</td>\n",
       "    </tr>\n",
       "    <tr>\n",
       "      <th>1</th>\n",
       "      <td>A2</td>\n",
       "      <td>B2</td>\n",
       "      <td>C2</td>\n",
       "      <td>D2</td>\n",
       "      <td>E2</td>\n",
       "    </tr>\n",
       "    <tr>\n",
       "      <th>2</th>\n",
       "      <td>A3</td>\n",
       "      <td>B3</td>\n",
       "      <td>C3</td>\n",
       "      <td>D3</td>\n",
       "      <td>E3</td>\n",
       "    </tr>\n",
       "    <tr>\n",
       "      <th>3</th>\n",
       "      <td>A4</td>\n",
       "      <td>B4</td>\n",
       "      <td>C4</td>\n",
       "      <td>D4</td>\n",
       "      <td>E4</td>\n",
       "    </tr>\n",
       "    <tr>\n",
       "      <th>4</th>\n",
       "      <td>A5</td>\n",
       "      <td>B5</td>\n",
       "      <td>C5</td>\n",
       "      <td>D5</td>\n",
       "      <td>E5</td>\n",
       "    </tr>\n",
       "  </tbody>\n",
       "</table>\n",
       "</div>"
      ],
      "text/plain": [
       "    A   B   C   D   E\n",
       "0  A1  B1  C1  D1  E1\n",
       "1  A2  B2  C2  D2  E2\n",
       "2  A3  B3  C3  D3  E3\n",
       "3  A4  B4  C4  D4  E4\n",
       "4  A5  B5  C5  D5  E5"
      ]
     },
     "execution_count": 78,
     "metadata": {},
     "output_type": "execute_result"
    }
   ],
   "source": [
    "data = {\n",
    "'A': ['A1', 'A2', 'A3', 'A4', 'A5'],\n",
    "'B': ['B1', 'B2', 'B3', 'B4', 'B5'],\n",
    "'C': ['C1', 'C2', 'C3', 'C4', 'C5'],\n",
    "'D': ['D1', 'D2', 'D3', 'D4', 'D5'],\n",
    "'E': ['E1', 'E2', 'E3', 'E4', 'E5']}\n",
    "df = pd.DataFrame(data)\n",
    "df"
   ]
  },
  {
   "cell_type": "code",
   "execution_count": 79,
   "metadata": {
    "colab": {
     "base_uri": "https://localhost:8080/",
     "height": 363
    },
    "id": "bFEAmYOTNLzp",
    "outputId": "bd21a5b3-644d-4131-ec2e-3f3d8d9e3027"
   },
   "outputs": [
    {
     "data": {
      "text/html": [
       "<div>\n",
       "<style scoped>\n",
       "    .dataframe tbody tr th:only-of-type {\n",
       "        vertical-align: middle;\n",
       "    }\n",
       "\n",
       "    .dataframe tbody tr th {\n",
       "        vertical-align: top;\n",
       "    }\n",
       "\n",
       "    .dataframe thead th {\n",
       "        text-align: right;\n",
       "    }\n",
       "</style>\n",
       "<table border=\"1\" class=\"dataframe\">\n",
       "  <thead>\n",
       "    <tr style=\"text-align: right;\">\n",
       "      <th></th>\n",
       "      <th>Name</th>\n",
       "      <th>Team</th>\n",
       "      <th>Number</th>\n",
       "      <th>Position</th>\n",
       "      <th>Age</th>\n",
       "      <th>Height</th>\n",
       "      <th>Weight</th>\n",
       "      <th>College</th>\n",
       "      <th>Salary</th>\n",
       "    </tr>\n",
       "  </thead>\n",
       "  <tbody>\n",
       "    <tr>\n",
       "      <th>0</th>\n",
       "      <td>Avery Bradley</td>\n",
       "      <td>Boston Celtics</td>\n",
       "      <td>0.0</td>\n",
       "      <td>PG</td>\n",
       "      <td>25.0</td>\n",
       "      <td>6-2</td>\n",
       "      <td>180.0</td>\n",
       "      <td>Texas</td>\n",
       "      <td>7730337.0</td>\n",
       "    </tr>\n",
       "    <tr>\n",
       "      <th>1</th>\n",
       "      <td>Jae Crowder</td>\n",
       "      <td>Boston Celtics</td>\n",
       "      <td>99.0</td>\n",
       "      <td>SF</td>\n",
       "      <td>25.0</td>\n",
       "      <td>6-6</td>\n",
       "      <td>235.0</td>\n",
       "      <td>Marquette</td>\n",
       "      <td>6796117.0</td>\n",
       "    </tr>\n",
       "    <tr>\n",
       "      <th>2</th>\n",
       "      <td>John Holland</td>\n",
       "      <td>Boston Celtics</td>\n",
       "      <td>30.0</td>\n",
       "      <td>SG</td>\n",
       "      <td>27.0</td>\n",
       "      <td>6-5</td>\n",
       "      <td>205.0</td>\n",
       "      <td>Boston University</td>\n",
       "      <td>NaN</td>\n",
       "    </tr>\n",
       "    <tr>\n",
       "      <th>3</th>\n",
       "      <td>R.J. Hunter</td>\n",
       "      <td>Boston Celtics</td>\n",
       "      <td>28.0</td>\n",
       "      <td>SG</td>\n",
       "      <td>22.0</td>\n",
       "      <td>6-5</td>\n",
       "      <td>185.0</td>\n",
       "      <td>Georgia State</td>\n",
       "      <td>1148640.0</td>\n",
       "    </tr>\n",
       "    <tr>\n",
       "      <th>4</th>\n",
       "      <td>Jonas Jerebko</td>\n",
       "      <td>Boston Celtics</td>\n",
       "      <td>8.0</td>\n",
       "      <td>PF</td>\n",
       "      <td>29.0</td>\n",
       "      <td>6-10</td>\n",
       "      <td>231.0</td>\n",
       "      <td>NaN</td>\n",
       "      <td>5000000.0</td>\n",
       "    </tr>\n",
       "    <tr>\n",
       "      <th>5</th>\n",
       "      <td>Amir Johnson</td>\n",
       "      <td>Boston Celtics</td>\n",
       "      <td>90.0</td>\n",
       "      <td>PF</td>\n",
       "      <td>29.0</td>\n",
       "      <td>6-9</td>\n",
       "      <td>240.0</td>\n",
       "      <td>NaN</td>\n",
       "      <td>12000000.0</td>\n",
       "    </tr>\n",
       "    <tr>\n",
       "      <th>6</th>\n",
       "      <td>Jordan Mickey</td>\n",
       "      <td>Boston Celtics</td>\n",
       "      <td>55.0</td>\n",
       "      <td>PF</td>\n",
       "      <td>21.0</td>\n",
       "      <td>6-8</td>\n",
       "      <td>235.0</td>\n",
       "      <td>LSU</td>\n",
       "      <td>1170960.0</td>\n",
       "    </tr>\n",
       "    <tr>\n",
       "      <th>7</th>\n",
       "      <td>Kelly Olynyk</td>\n",
       "      <td>Boston Celtics</td>\n",
       "      <td>41.0</td>\n",
       "      <td>C</td>\n",
       "      <td>25.0</td>\n",
       "      <td>7-0</td>\n",
       "      <td>238.0</td>\n",
       "      <td>Gonzaga</td>\n",
       "      <td>2165160.0</td>\n",
       "    </tr>\n",
       "    <tr>\n",
       "      <th>8</th>\n",
       "      <td>Terry Rozier</td>\n",
       "      <td>Boston Celtics</td>\n",
       "      <td>12.0</td>\n",
       "      <td>PG</td>\n",
       "      <td>22.0</td>\n",
       "      <td>6-2</td>\n",
       "      <td>190.0</td>\n",
       "      <td>Louisville</td>\n",
       "      <td>1824360.0</td>\n",
       "    </tr>\n",
       "    <tr>\n",
       "      <th>9</th>\n",
       "      <td>Marcus Smart</td>\n",
       "      <td>Boston Celtics</td>\n",
       "      <td>36.0</td>\n",
       "      <td>PG</td>\n",
       "      <td>22.0</td>\n",
       "      <td>6-4</td>\n",
       "      <td>220.0</td>\n",
       "      <td>Oklahoma State</td>\n",
       "      <td>3431040.0</td>\n",
       "    </tr>\n",
       "  </tbody>\n",
       "</table>\n",
       "</div>"
      ],
      "text/plain": [
       "            Name            Team  Number Position   Age Height  Weight  \\\n",
       "0  Avery Bradley  Boston Celtics     0.0       PG  25.0    6-2   180.0   \n",
       "1    Jae Crowder  Boston Celtics    99.0       SF  25.0    6-6   235.0   \n",
       "2   John Holland  Boston Celtics    30.0       SG  27.0    6-5   205.0   \n",
       "3    R.J. Hunter  Boston Celtics    28.0       SG  22.0    6-5   185.0   \n",
       "4  Jonas Jerebko  Boston Celtics     8.0       PF  29.0   6-10   231.0   \n",
       "5   Amir Johnson  Boston Celtics    90.0       PF  29.0    6-9   240.0   \n",
       "6  Jordan Mickey  Boston Celtics    55.0       PF  21.0    6-8   235.0   \n",
       "7   Kelly Olynyk  Boston Celtics    41.0        C  25.0    7-0   238.0   \n",
       "8   Terry Rozier  Boston Celtics    12.0       PG  22.0    6-2   190.0   \n",
       "9   Marcus Smart  Boston Celtics    36.0       PG  22.0    6-4   220.0   \n",
       "\n",
       "             College      Salary  \n",
       "0              Texas   7730337.0  \n",
       "1          Marquette   6796117.0  \n",
       "2  Boston University         NaN  \n",
       "3      Georgia State   1148640.0  \n",
       "4                NaN   5000000.0  \n",
       "5                NaN  12000000.0  \n",
       "6                LSU   1170960.0  \n",
       "7            Gonzaga   2165160.0  \n",
       "8         Louisville   1824360.0  \n",
       "9     Oklahoma State   3431040.0  "
      ]
     },
     "execution_count": 79,
     "metadata": {},
     "output_type": "execute_result"
    }
   ],
   "source": [
    "data = pd.read_csv(\"https://media.geeksforgeeks.org/wp-content/uploads/nba.csv\")\n",
    "data_top = data.head(10)\n",
    "data_top"
   ]
  },
  {
   "cell_type": "markdown",
   "metadata": {
    "id": "rVCODZDvYJYr"
   },
   "source": [
    "# Pandas Series – Practice Exercise"
   ]
  },
  {
   "cell_type": "code",
   "execution_count": 80,
   "metadata": {
    "colab": {
     "base_uri": "https://localhost:8080/"
    },
    "id": "_v1CfICoYbrg",
    "outputId": "52d001a3-5324-423c-be00-edac9deb6f17"
   },
   "outputs": [
    {
     "name": "stdout",
     "output_type": "stream",
     "text": [
      "0    a\n",
      "1    b\n",
      "2    c\n",
      "3    d\n",
      "dtype: object\n"
     ]
    }
   ],
   "source": [
    "# create pandas series from array\n",
    "data = np.array(['a','b','c','d'])\n",
    "s = pd.Series(data)\n",
    "print(s)"
   ]
  },
  {
   "cell_type": "code",
   "execution_count": 81,
   "metadata": {
    "colab": {
     "base_uri": "https://localhost:8080/"
    },
    "id": "pM7vuH2ZYdnQ",
    "outputId": "1d107f3f-a8c9-4bab-e1e0-e5ac7119801c"
   },
   "outputs": [
    {
     "name": "stdout",
     "output_type": "stream",
     "text": [
      "A    10\n",
      "B    20\n",
      "C    30\n",
      "D    40\n",
      "dtype: int64\n"
     ]
    }
   ],
   "source": [
    "# Creating pandas series from dictionary\n",
    "d = {\n",
    "    'A':10,\n",
    "    'B':20,\n",
    "    'C':30,\n",
    "    'D':40\n",
    "}\n",
    "s = pd.Series(d)\n",
    "print(s)"
   ]
  },
  {
   "cell_type": "code",
   "execution_count": 82,
   "metadata": {
    "colab": {
     "base_uri": "https://localhost:8080/"
    },
    "id": "Ao34IkTMYgQm",
    "outputId": "16cf1337-71d2-4ef2-bfa5-117124da7d86"
   },
   "outputs": [
    {
     "name": "stdout",
     "output_type": "stream",
     "text": [
      "0    10\n",
      "1    20\n",
      "2    30\n",
      "3    40\n",
      "4    50\n",
      "5    60\n",
      "dtype: int64\n"
     ]
    }
   ],
   "source": [
    "# Creating pandas series from list\n",
    "lst = [10,20,30,40,50,60]\n",
    "s = pd.Series(lst)\n",
    "print(s)"
   ]
  },
  {
   "cell_type": "code",
   "execution_count": 83,
   "metadata": {
    "colab": {
     "base_uri": "https://localhost:8080/"
    },
    "id": "87VBVvc9YiLm",
    "outputId": "8a4a3fde-9e39-4aa3-9a09-eaf363107ecc"
   },
   "outputs": [
    {
     "name": "stdout",
     "output_type": "stream",
     "text": [
      "0     3.0\n",
      "1     8.0\n",
      "2    13.0\n",
      "3    18.0\n",
      "4    23.0\n",
      "5    28.0\n",
      "6    33.0\n",
      "dtype: float64\n",
      "0     1.000000\n",
      "1     6.444444\n",
      "2    11.888889\n",
      "3    17.333333\n",
      "4    22.777778\n",
      "5    28.222222\n",
      "6    33.666667\n",
      "7    39.111111\n",
      "8    44.555556\n",
      "9    50.000000\n",
      "dtype: float64\n"
     ]
    }
   ],
   "source": [
    "#create pandas series using numpy functions\n",
    "s1 = pd.Series(np.linspace(3,33,7))\n",
    "s2 = pd.Series(np.linspace(1,50,10))\n",
    "print(s1)\n",
    "print(s2)"
   ]
  },
  {
   "cell_type": "code",
   "execution_count": 84,
   "metadata": {
    "colab": {
     "base_uri": "https://localhost:8080/"
    },
    "id": "7a61qUjNYkUZ",
    "outputId": "d365dd09-8ec7-4e70-bfa2-4e71cd7ebdff"
   },
   "outputs": [
    {
     "name": "stdout",
     "output_type": "stream",
     "text": [
      "0      Avery Bradley\n",
      "1        Jae Crowder\n",
      "2       John Holland\n",
      "3        R.J. Hunter\n",
      "4      Jonas Jerebko\n",
      "           ...      \n",
      "453     Shelvin Mack\n",
      "454        Raul Neto\n",
      "455     Tibor Pleiss\n",
      "456      Jeff Withey\n",
      "457              NaN\n",
      "Name: Name, Length: 458, dtype: object\n"
     ]
    }
   ],
   "source": [
    "# Access elements series in padas\n",
    "df = pd.read_csv(\"https://media.geeksforgeeks.org/wp-content/uploads/nba.csv\")\n",
    "s = pd.Series(df['Name'])\n",
    "print(s)"
   ]
  },
  {
   "cell_type": "markdown",
   "metadata": {
    "id": "QRhkx8VkN9pX"
   },
   "source": [
    "# Pandas Date and Time – Practice Exercise"
   ]
  },
  {
   "cell_type": "code",
   "execution_count": 85,
   "metadata": {
    "colab": {
     "base_uri": "https://localhost:8080/"
    },
    "id": "r2BbIIDFOA3p",
    "outputId": "3d0196b4-adc9-4833-d3f0-f4d1b97825cf"
   },
   "outputs": [
    {
     "name": "stdout",
     "output_type": "stream",
     "text": [
      "DatetimeIndex(['2000-01-01 00:00:00', '2000-01-01 00:01:00',\n",
      "               '2000-01-01 00:02:00', '2000-01-01 00:03:00',\n",
      "               '2000-01-01 00:04:00', '2000-01-01 00:05:00',\n",
      "               '2000-01-01 00:06:00', '2000-01-01 00:07:00',\n",
      "               '2000-01-01 00:08:00', '2000-01-01 00:09:00',\n",
      "               ...\n",
      "               '2000-01-07 23:51:00', '2000-01-07 23:52:00',\n",
      "               '2000-01-07 23:53:00', '2000-01-07 23:54:00',\n",
      "               '2000-01-07 23:55:00', '2000-01-07 23:56:00',\n",
      "               '2000-01-07 23:57:00', '2000-01-07 23:58:00',\n",
      "               '2000-01-07 23:59:00', '2000-01-08 00:00:00'],\n",
      "              dtype='datetime64[ns]', length=10081, freq='T')\n"
     ]
    }
   ],
   "source": [
    "from datetime import datetime\n",
    "range_date = pd.date_range(start='1/1/2000',end='1/8/2000',freq='Min')\n",
    "print(range_date)"
   ]
  },
  {
   "cell_type": "code",
   "execution_count": 86,
   "metadata": {
    "colab": {
     "base_uri": "https://localhost:8080/"
    },
    "id": "1yWbFPwgYn4V",
    "outputId": "df18c16e-4743-4c0f-fa03-1c03fa96f747"
   },
   "outputs": [
    {
     "name": "stdout",
     "output_type": "stream",
     "text": [
      "               City     Event   Cost\n",
      "2018-01-06   Lisbon     Music  10000\n",
      "2018-04-06  Parague    Poetry   5000\n",
      "2018-07-06    Macao  Theature  15000\n",
      "2018-10-06   Venice    Comedy   2000\n"
     ]
    }
   ],
   "source": [
    "df = pd.DataFrame({'City':['Lisbon','Parague','Macao','Venice'],\n",
    "                  'Event':['Music','Poetry','Theature','Comedy'],\n",
    "                  'Cost':[10000,5000,15000,2000]})\n",
    "index_ = [pd.Timestamp('01-06-2018'),pd.Timestamp('04-06-2018'),pd.Timestamp('07-06-2018'),pd.Timestamp('10-06-2018')]\n",
    "df.index= index_\n",
    "print(df)"
   ]
  },
  {
   "cell_type": "code",
   "execution_count": 87,
   "metadata": {
    "colab": {
     "base_uri": "https://localhost:8080/"
    },
    "id": "gYjTmQRVYq1W",
    "outputId": "9a9bd904-8033-4414-8be1-70cb95f3ac5f"
   },
   "outputs": [
    {
     "name": "stdout",
     "output_type": "stream",
     "text": [
      "         Date    Event   Cost\n",
      "0   11/8/2011    Music  10000\n",
      "1  04/23/2008   Poetry   5000\n",
      "2   10/2/2019  Theatre  15000\n",
      "<class 'pandas.core.frame.DataFrame'>\n",
      "RangeIndex: 3 entries, 0 to 2\n",
      "Data columns (total 3 columns):\n",
      " #   Column  Non-Null Count  Dtype \n",
      "---  ------  --------------  ----- \n",
      " 0   Date    3 non-null      object\n",
      " 1   Event   3 non-null      object\n",
      " 2   Cost    3 non-null      int64 \n",
      "dtypes: int64(1), object(2)\n",
      "memory usage: 200.0+ bytes\n"
     ]
    }
   ],
   "source": [
    "df = pd.DataFrame({'Date':['11/8/2011', '04/23/2008', '10/2/2019'],\n",
    "                   'Event':['Music', 'Poetry', 'Theatre'],\n",
    "                   'Cost':[10000, 5000, 15000]})\n",
    "print(df)\n",
    "df.info()"
   ]
  }
 ],
 "metadata": {
  "colab": {
   "collapsed_sections": [],
   "name": "12_pandas_23-08-2002.ipynb",
   "provenance": []
  },
  "kernelspec": {
   "display_name": "Python 3",
   "language": "python",
   "name": "python3"
  },
  "language_info": {
   "codemirror_mode": {
    "name": "ipython",
    "version": 3
   },
   "file_extension": ".py",
   "mimetype": "text/x-python",
   "name": "python",
   "nbconvert_exporter": "python",
   "pygments_lexer": "ipython3",
   "version": "3.8.8"
  }
 },
 "nbformat": 4,
 "nbformat_minor": 1
}
