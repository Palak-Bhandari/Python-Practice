{
 "cells": [
  {
   "cell_type": "code",
   "execution_count": 3,
   "id": "3ee52518",
   "metadata": {},
   "outputs": [
    {
     "name": "stdout",
     "output_type": "stream",
     "text": [
      "sum 15\n",
      "difference -5\n",
      "multiplication 50\n",
      "division 0.5\n",
      "remainder 5\n"
     ]
    }
   ],
   "source": [
    "# program to perform arithmetic operation\n",
    "a=5   \n",
    "b=10\n",
    "c=a+b\n",
    "print('sum',c)\n",
    "c=a-b\n",
    "print('difference',c)\n",
    "c=b*a\n",
    "print('multiplication',c)\n",
    "c=a/b\n",
    "print('division',c)\n",
    "c=a%b\n",
    "print('remainder',c)"
   ]
  },
  {
   "cell_type": "code",
   "execution_count": 4,
   "id": "44c4e0c4",
   "metadata": {},
   "outputs": [
    {
     "name": "stdout",
     "output_type": "stream",
     "text": [
      "area of circle is 1257.142857142857\n"
     ]
    }
   ],
   "source": [
    "# to calculate area of circle \n",
    "r=20\n",
    "area=(22/7)*r*r\n",
    "print('area of circle is',area)"
   ]
  },
  {
   "cell_type": "code",
   "execution_count": 5,
   "id": "afc65016",
   "metadata": {},
   "outputs": [
    {
     "name": "stdout",
     "output_type": "stream",
     "text": [
      "enter the radius: 20\n",
      "area of circle is 1257.142857142857\n"
     ]
    }
   ],
   "source": [
    "# program to find area of circle \n",
    "r=int(input('enter the radius: '))\n",
    "area=(22/7)*r*r\n",
    "print('area of circle is',area)"
   ]
  },
  {
   "cell_type": "code",
   "execution_count": 8,
   "id": "ae4c843b",
   "metadata": {},
   "outputs": [
    {
     "name": "stdout",
     "output_type": "stream",
     "text": [
      "enter value for a: 1\n",
      "enter value for b: 2\n",
      "enter value for c: 3\n",
      "enter value for d: 4\n",
      "enter value for e: 5\n",
      "1.25\n"
     ]
    }
   ],
   "source": [
    "a=int(input('enter value for a: '))\n",
    "b=int(input('enter value for b: '))\n",
    "c=int(input('enter value for c: '))\n",
    "d=int(input('enter value for d: '))\n",
    "e=int(input('enter value for e: '))\n",
    "g=a*b-c/d+e%a\n",
    "print(g)"
   ]
  },
  {
   "cell_type": "code",
   "execution_count": 1,
   "id": "017610a8",
   "metadata": {},
   "outputs": [
    {
     "name": "stdout",
     "output_type": "stream",
     "text": [
      "Enter the number: 100\n",
      "The cube root of the number is 5\n"
     ]
    }
   ],
   "source": [
    "'''Write a Python program for following conditions.\n",
    "• If n is single digit print square of it.\n",
    "• If n is two digit print square root of it.\n",
    "• If n is three digit print cube root of it.'''\n",
    "\n",
    "n=int(input('Enter the number: '))\n",
    "if(0<n<10):\n",
    "    print('The square of the number is',n**2)\n",
    "elif(n<100):\n",
    "    print('The square root of the number is',n**0.5)\n",
    "elif(n<1000):\n",
    "    print('The cube root of the number is',round(n**(1.0/3.0)))\n",
    "else:\n",
    "    print('Maximum 3 digit nos are allowed!')"
   ]
  },
  {
   "cell_type": "code",
   "execution_count": 14,
   "id": "3f433045",
   "metadata": {},
   "outputs": [
    {
     "name": "stdout",
     "output_type": "stream",
     "text": [
      "Enter the value of 1 side: 30\n",
      "Enter the value of 2 side: 45\n",
      "Enter the value of 3 side: 60\n",
      "The triangle is scalene\n"
     ]
    }
   ],
   "source": [
    "'''Write a program to read sides of a triangle and check whether scalene,isosceles or equilateral'''\n",
    "n1=int(input('Enter the value of 1 side: '))\n",
    "n2=int(input('Enter the value of 2 side: '))\n",
    "n3=int(input('Enter the value of 3 side: '))\n",
    "if(n1==n2 and n2==n3 and n1==n3):\n",
    "    print(\"The triangle is equilateral\")\n",
    "else:\n",
    "    if(n1!=n2 and n1!=n3 and n2!=n3):\n",
    "        print(\"The triangle is scalene\")\n",
    "    else:\n",
    "        print(\"The triangle is isocelese\")     "
   ]
  },
  {
   "cell_type": "code",
   "execution_count": 27,
   "id": "9e8f3019",
   "metadata": {},
   "outputs": [
    {
     "name": "stdout",
     "output_type": "stream",
     "text": [
      "Enter the number: 0\n",
      "The number is neither positive even nor negative odd\n"
     ]
    }
   ],
   "source": [
    "'''Write a python program to enter a number.\n",
    "a) if the number is positive even display three succeeding even numbers,\n",
    "b) If the number is negative odd, display three preceding odd numbers.\n",
    "c) Otherwise, display message number is neither a positive even nor a negative odd.'''\n",
    "\n",
    "n=int(input('Enter the number: '))\n",
    "if(n>0 and n%2==0):\n",
    "        print(n+2,n+4,n+6)\n",
    "else:\n",
    "    if(n<0 and n%2!=0):\n",
    "            print(n-2,n-4,n-6)\n",
    "    else:\n",
    "        print(\"The number is neither positive even nor negative odd\")"
   ]
  },
  {
   "cell_type": "code",
   "execution_count": 32,
   "id": "75a0fdf5",
   "metadata": {},
   "outputs": [
    {
     "name": "stdout",
     "output_type": "stream",
     "text": [
      "Enter number10\n",
      "printing with while loop\n",
      "1 2 3 4 5 6 7 8 9 10 \n",
      "\n",
      "printing using for loop\n",
      "1 2 3 4 5 6 7 8 9 10 "
     ]
    }
   ],
   "source": [
    "# printing first n nos using for and while loop\n",
    "n=int(input('Enter number '))\n",
    "print('printing with while loop')\n",
    "i=1\n",
    "while(i<=n):\n",
    "    print(i,end=\" \")\n",
    "    i+=1\n",
    "print(\"\\n\")\n",
    "print('printing using for loop')\n",
    "for i in range(1,n+1,1):\n",
    "    print(i,end=\" \")"
   ]
  },
  {
   "cell_type": "code",
   "execution_count": 41,
   "id": "edd4324f",
   "metadata": {},
   "outputs": [
    {
     "name": "stdout",
     "output_type": "stream",
     "text": [
      "Enter number: 5\n",
      "The sum using while is: 15\n",
      "The sum using for is: 15\n"
     ]
    }
   ],
   "source": [
    "#write a program to find sum of n numbers\n",
    "n=int(input('Enter number: '))\n",
    "i=1\n",
    "sum=0\n",
    "while(i<=n):\n",
    "    sum=sum+i\n",
    "    i=i+1\n",
    "print('The sum using while is:',sum)\n",
    "sum=0\n",
    "for i in range(1,n+1,1):\n",
    "    sum=sum+i\n",
    "print('The sum using for is:',sum)"
   ]
  },
  {
   "cell_type": "code",
   "execution_count": 6,
   "id": "b4f44d4e",
   "metadata": {},
   "outputs": [
    {
     "name": "stdout",
     "output_type": "stream",
     "text": [
      "Enter number: 1\n",
      "Enter number: -1\n",
      "Enter number: 2\n",
      "Enter number: -2\n",
      "Enter number: 3\n",
      "Enter number: -3\n",
      "Enter number: 4\n",
      "Enter number: -4\n",
      "Enter number: 5\n",
      "Enter number: -5\n",
      "The count of positive no: 5\n",
      "The count of negative no: 5\n",
      "The sum of positive no: 15\n",
      "The sum of negative no: -15\n"
     ]
    }
   ],
   "source": [
    "'''Write a program to input any 10 numbers (including positive and negative). Perform the\n",
    "following tasks:\n",
    "A] Count the positive no.\n",
    "B] Count the negative no.\n",
    "C] Sum of positive no.\n",
    "D] Sum of negative no.'''\n",
    "i=1\n",
    "countp=0\n",
    "countn=0\n",
    "sump=0\n",
    "sumn=0\n",
    "for i in range(1,11,1):\n",
    "    n=int(input('Enter number: '))\n",
    "    if(n>0):\n",
    "        countp+=1\n",
    "        sump=sump+n\n",
    "    elif(n<0):\n",
    "        countn+=1\n",
    "        sumn=sumn+n\n",
    "print('The count of positive no:',countp)\n",
    "print('The count of negative no:',countn)\n",
    "print('The sum of positive nos:',sump)\n",
    "print('The sum of negative nos:',sumn)"
   ]
  },
  {
   "cell_type": "code",
   "execution_count": 3,
   "id": "11e6ec65",
   "metadata": {},
   "outputs": [
    {
     "name": "stdout",
     "output_type": "stream",
     "text": [
      "Enter number: 234\n",
      "The sum of digits is: 9\n"
     ]
    }
   ],
   "source": [
    "# write a python program to find sum of digits entered by user\n",
    "n=int(input('Enter number: '))\n",
    "sum=0\n",
    "while(n>0):\n",
    "    sum=sum+n%10\n",
    "    n=n//10\n",
    "print('The sum of digits is:',sum)"
   ]
  },
  {
   "cell_type": "code",
   "execution_count": 12,
   "id": "496b1afb",
   "metadata": {},
   "outputs": [
    {
     "name": "stdout",
     "output_type": "stream",
     "text": [
      "Enter number: 2345678\n",
      "8765432\n"
     ]
    }
   ],
   "source": [
    "# write a program to reverse the digits\n",
    "n=int(input('Enter number: '))\n",
    "rno=0\n",
    "while(n>0):\n",
    "    digit=n%10\n",
    "    rno=rno*10+digit\n",
    "    n=n//10\n",
    "print(rno)"
   ]
  },
  {
   "cell_type": "code",
   "execution_count": 6,
   "id": "5872b331",
   "metadata": {},
   "outputs": [
    {
     "name": "stdout",
     "output_type": "stream",
     "text": [
      "Enter a three digit number: 371\n",
      "The sum of the cubes of its digits is: 371\n",
      "It is an Armstrong number!\n"
     ]
    }
   ],
   "source": [
    "number=int(input('Enter a three digit number: '))\n",
    "n=number\n",
    "sum=0\n",
    "for i in range(3,0,-1):\n",
    "    digit=n%10\n",
    "    sum=sum+(digit**3)\n",
    "    n=n//10\n",
    "print('The sum of the cubes of its digits is:',sum)\n",
    "if(sum==number):\n",
    "    print('It is an Armstrong number!')\n",
    "else:\n",
    "    print('It is NOT an Armstrong number!')"
   ]
  },
  {
   "cell_type": "code",
   "execution_count": 2,
   "id": "67888d56",
   "metadata": {},
   "outputs": [
    {
     "name": "stdout",
     "output_type": "stream",
     "text": [
      "15.56\n",
      "15.56\n",
      "15.56\n"
     ]
    }
   ],
   "source": [
    "a=15.56231344\n",
    "print(\"%.2f\" % round(a, 2))\n",
    "print(\"{:.2f}\".format(a))\n",
    "print(round(a,2))"
   ]
  },
  {
   "cell_type": "code",
   "execution_count": 2,
   "id": "361b5608",
   "metadata": {},
   "outputs": [
    {
     "name": "stdout",
     "output_type": "stream",
     "text": [
      "Enter value for a 3\n",
      "Enter value for b 4\n",
      "Addition is 7\n",
      "Substraction is -1\n",
      "Multiplication is 12\n",
      "Division is 0.75\n"
     ]
    }
   ],
   "source": [
    "# Functions in python\n",
    "def add(a,b):\n",
    "    c=a+b\n",
    "    return c\n",
    "def sub(a,b):\n",
    "    c=a-b\n",
    "    return c\n",
    "def multi(a,b):\n",
    "    c=a*b\n",
    "    return c\n",
    "def div(a,b):\n",
    "    c=a/b\n",
    "    return c\n",
    "a=int(input('Enter value for a '))\n",
    "b=int(input('Enter value for b '))\n",
    "print('Addition is',add(a,b))\n",
    "print('Substraction is',sub(a,b))\n",
    "print('Multiplication is',multi(a,b))\n",
    "print('Division is',div(a,b))"
   ]
  },
  {
   "cell_type": "code",
   "execution_count": 2,
   "id": "25364eae",
   "metadata": {},
   "outputs": [
    {
     "name": "stdout",
     "output_type": "stream",
     "text": [
      "Enter a number 12\n",
      "The number is not prime\n"
     ]
    }
   ],
   "source": [
    "# wap to check whether a no is prime\n",
    "def prime(n):\n",
    "    flag=False\n",
    "    for i in range(2,n):\n",
    "        if(n%i==0):\n",
    "            flag=True\n",
    "            break\n",
    "    if(flag==True):\n",
    "        print('The number is not prime')\n",
    "    else:\n",
    "        print('The number is prime')\n",
    "            \n",
    "    \n",
    "n=int(input('Enter a number '))\n",
    "prime(n)"
   ]
  },
  {
   "cell_type": "code",
   "execution_count": 8,
   "id": "ed71e7a2",
   "metadata": {},
   "outputs": [
    {
     "name": "stdout",
     "output_type": "stream",
     "text": [
      "Enter a number 4\n",
      "The number is not prime\n"
     ]
    }
   ],
   "source": [
    "def prime(n):\n",
    "    flag=False\n",
    "    if(n==0):\n",
    "        print('Enter other number')\n",
    "    else:\n",
    "        for i in range(2,n,):\n",
    "            if(n%i==0):\n",
    "                flag=True\n",
    "                break\n",
    "        if(flag==True):\n",
    "            print('The number is not prime')\n",
    "        else:\n",
    "            print('The number is prime')\n",
    "            \n",
    "n=int(input('Enter a number '))\n",
    "prime(n)"
   ]
  },
  {
   "cell_type": "code",
   "execution_count": 11,
   "id": "9af5a011",
   "metadata": {},
   "outputs": [
    {
     "name": "stdout",
     "output_type": "stream",
     "text": [
      "How many terms? 7\n",
      "Fibonacci sequence:\n",
      "0\n",
      "1\n",
      "1\n",
      "2\n",
      "3\n",
      "5\n",
      "8\n"
     ]
    }
   ],
   "source": [
    "def recur_fibo(n):\n",
    "    if n <= 1:  \n",
    "        return n  \n",
    "    else:  \n",
    "        return(recur_fibo(n-1) + recur_fibo(n-2))  \n",
    "nterms=int(input(\"How many terms? \"))  \n",
    "if nterms <= 0:  \n",
    "    print(\"Plese enter a positive integer\")  \n",
    "else:  \n",
    "    print(\"Fibonacci sequence:\")  \n",
    "    for i in range(nterms):  \n",
    "        print(recur_fibo(i))  "
   ]
  },
  {
   "cell_type": "code",
   "execution_count": 14,
   "id": "0acc1c47",
   "metadata": {},
   "outputs": [
    {
     "name": "stdout",
     "output_type": "stream",
     "text": [
      "[1, 2, 3, 4, 1, 2, 3, 4]\n",
      "[2, 4, 6, 8]\n",
      "enter size of list 4\n",
      "Enter list element 1\n",
      "Enter list element 2\n",
      "Enter list element 3\n",
      "Enter list element 4\n",
      "[1, 2, 3, 4]\n",
      "The sum is 10\n"
     ]
    }
   ],
   "source": [
    "a=[1,2,3,4]\n",
    "b=[1,2,3,4]\n",
    "d=[0,0,0,0]\n",
    "c=a+b\n",
    "print(c)\n",
    "for i in range(4):\n",
    "    d[i]=b[i]+a[i]\n",
    "print(d)\n",
    "e=[]\n",
    "sum=0\n",
    "n=int(input('enter size of list '))\n",
    "for i in range(n):\n",
    "    x=int(input('Enter list element '))\n",
    "    e.append(x)\n",
    "print(e)\n",
    "for i in range(n):\n",
    "    sum+=e[i]\n",
    "print('The sum is',sum)"
   ]
  },
  {
   "cell_type": "code",
   "execution_count": 1,
   "id": "c9c71a7f",
   "metadata": {},
   "outputs": [
    {
     "name": "stdout",
     "output_type": "stream",
     "text": [
      "[4.56, 30, 2]\n",
      "['o', 'i', 'e', 'a', 13, 2, 30, 4.56, 3.2, 1]\n",
      "['o', 'i', 'e', 'a', 13, 2, 30, 4.56]\n",
      "[1, 3.2, 4.56, 30, 2, 13, 'a', 'e', 'i', 'o']\n",
      "17\n",
      "[1, 3.2, 4.56, 30, 2, 13, 'a', 'e', 'i', 'o']\n"
     ]
    }
   ],
   "source": [
    "a=[1,3.2,4.56,30,2,13,'a','e','i','o']\n",
    "print(a[2:5])\n",
    "print(a[10::-1])\n",
    "print(a[10:1:-1])\n",
    "print(a[0::])\n",
    "print(a[3]-a[5])\n",
    "print(a[::])\n",
    "#del(a[1])  del(a)\n",
    "#print(a.remove(a[1]))"
   ]
  },
  {
   "cell_type": "code",
   "execution_count": 7,
   "id": "049be684",
   "metadata": {},
   "outputs": [
    {
     "name": "stdout",
     "output_type": "stream",
     "text": [
      "Enter first number: 12\n",
      "Enter second number: 23\n",
      "The square of the greater number is=529, The cube of the smaller number is=1728\n"
     ]
    }
   ],
   "source": [
    "import math\n",
    "num1=int(input('Enter first number: '))\n",
    "num2=int(input('Enter second number: '))\n",
    "if(num1>num2):\n",
    "    print('The cube of the greater number is = {}, The square of the smaller number is = {}'.format(num1**3,num2**2))\n",
    "elif(num2>num1):\n",
    "    print('The square of the greater number is = {}, The cube of the smaller number is = {}'.format(num2**2,num1**3))\n",
    "else:\n",
    "    print('Both numbers are equal')\n",
    "    print('The square is:',num1**2)\n",
    "    print('The square root is: ',round(math.sqrt(num1), 3))\n",
    "    print('The cube root is: ',round(num1**(1/3), 3))"
   ]
  },
  {
   "cell_type": "code",
   "execution_count": 1,
   "id": "49c5965b",
   "metadata": {},
   "outputs": [
    {
     "name": "stdout",
     "output_type": "stream",
     "text": [
      "Enter Size of list 4\n",
      "Enter list element for a 1\n",
      "Enter list element for a 2\n",
      "Enter list element for a 3\n",
      "Enter list element for a 4\n",
      "Enter list element for b 1\n",
      "Enter list element for b 2\n",
      "Enter list element for b 3\n",
      "Enter list element for b 4\n",
      "[2, 4, 6, 8]\n"
     ]
    }
   ],
   "source": [
    "# wap in python to add two lists and store in third list\n",
    "a=[]\n",
    "b=[]\n",
    "d=[0,0,0,0]\n",
    "n=int(input('Enter Size of list '))\n",
    "i=0\n",
    "for i in range(n):\n",
    "    x=int(input('Enter list element for a '))\n",
    "    a.append(x)\n",
    "i=0\n",
    "for i in range(n):\n",
    "    x=int(input('Enter list element for b '))\n",
    "    b.append(x)\n",
    "for i in range(n):\n",
    "    d[i]=b[i]+a[i]\n",
    "print(d)"
   ]
  },
  {
   "cell_type": "markdown",
   "id": "d7ec92e1",
   "metadata": {},
   "source": [
    " "
   ]
  },
  {
   "cell_type": "code",
   "execution_count": 8,
   "id": "79d8c780",
   "metadata": {
    "scrolled": true
   },
   "outputs": [
    {
     "name": "stdout",
     "output_type": "stream",
     "text": [
      "Enter Size of list 5\n",
      "Enter list element for a 1\n",
      "Enter list element for a 3\n",
      "Enter list element for a 4\n",
      "Enter list element for a 6\n",
      "Enter list element for a 8\n",
      "[1, 3, 4, 6, 8]\n",
      "Sum of even 18\n",
      "Sum of odd 4\n"
     ]
    }
   ],
   "source": [
    "# wap to find sum of even and odd nos in a list\n",
    "a=[]\n",
    "sume=0\n",
    "sumo=0\n",
    "n=int(input('Enter Size of list '))\n",
    "for i in range(n):\n",
    "    x=int(input('Enter list element for a '))\n",
    "    a.append(x)\n",
    "print(a)\n",
    "i=0\n",
    "for i in range(0,n):\n",
    "    if(a[i]%2==0):\n",
    "        sume=sume+a[i]\n",
    "    else:\n",
    "        sumo=sumo+a[i]\n",
    "print('Sum of even',sume)\n",
    "print('Sum of odd',sumo)"
   ]
  },
  {
   "cell_type": "code",
   "execution_count": 6,
   "id": "065f88a0",
   "metadata": {},
   "outputs": [
    {
     "name": "stdout",
     "output_type": "stream",
     "text": [
      "Enter Size of list 6\n",
      "Enter list elements 1\n",
      "Enter list elements 2\n",
      "Enter list elements 5\n",
      "Enter list elements 4\n",
      "Enter list elements 3\n",
      "Enter list elements 6\n",
      "[1, 2, 5, 4, 3, 6]\n",
      "Enter search element 2\n",
      "Element found at 1\n"
     ]
    }
   ],
   "source": [
    "def linear_search(list1,search_ele,n):\n",
    "    for index in range(n):\n",
    "        if search_ele==list1[index]:\n",
    "            return  index\n",
    "    return -1\n",
    "list1=[]\n",
    "n=int(input('Enter Size of list '))\n",
    "for i in range(n):\n",
    "    x=int(input('Enter list elements '))\n",
    "    list1.append(x)\n",
    "print(list1)\n",
    "search_element=int(input('Enter search element '))\n",
    "answer=linear_search(list1,search_element,n)\n",
    "if answer==-1:\n",
    "    print('Element not found!')\n",
    "else:\n",
    "    print('Element found at',answer)"
   ]
  },
  {
   "cell_type": "code",
   "execution_count": 8,
   "id": "fe40fa87",
   "metadata": {},
   "outputs": [
    {
     "name": "stdout",
     "output_type": "stream",
     "text": [
      "Enter the string we\n",
      "Enter another string we\n",
      "weweenter the string we\n",
      "WE\n",
      "not equal\n"
     ]
    }
   ],
   "source": [
    "s1=input('Enter the string ')\n",
    "s2=input('Enter another string ')\n",
    "l1=len(s1)\n",
    "l2=len(s2)\n",
    "for i in s1:\n",
    "    s3=i\n",
    "    print(s3,end='')\n",
    "for j in s2:\n",
    "    s3=j\n",
    "    print(s3,end='')\n",
    "s=input('enter the string ')\n",
    "y=''\n",
    "for i in range(len(s)):\n",
    "    if(ord(s[i])>=65 and ord(s[i])<=91):\n",
    "        x=ord(s[i])+32\n",
    "        y=y+chr(x)\n",
    "    elif(ord(s[i])>=97 and ord(s[i])<=122):\n",
    "        x=ord(s[i])-32\n",
    "        y=y+chr(x)\n",
    "    else:\n",
    "        y+=1\n",
    "print(y)\n",
    "if(s1 is s2):  # works for only single character\n",
    "    print('equal')\n",
    "else:\n",
    "    print('not equal')"
   ]
  },
  {
   "cell_type": "code",
   "execution_count": 10,
   "id": "0d778941",
   "metadata": {},
   "outputs": [
    {
     "name": "stdout",
     "output_type": "stream",
     "text": [
      "Enter the string ghyd\n",
      "Enter another string jhyd\n",
      "Strings are not equal\n"
     ]
    }
   ],
   "source": [
    "s1=input('Enter the string ')\n",
    "s2=input('Enter another string ')\n",
    "if(s1==s2):\n",
    "    print('Strings are equal')\n",
    "else:\n",
    "    print('Strings are not equal')"
   ]
  },
  {
   "cell_type": "code",
   "execution_count": 8,
   "id": "29079380",
   "metadata": {},
   "outputs": [
    {
     "name": "stdout",
     "output_type": "stream",
     "text": [
      "Enter Size of list 3\n",
      "Enter list element 1\n",
      "Enter list element 2\n",
      "Enter list element 2\n",
      "[1, 2, 2]\n",
      "Enter search element 2\n",
      "Element 2 found at location 1\n",
      "Element 2 found at location 2\n",
      "Element 2 found 2 times in the given list\n"
     ]
    }
   ],
   "source": [
    "#Select the number from the entered list and find its position in python (use linear search)--Alternative\n",
    "a=[]\n",
    "c=0\n",
    "n=int(input('Enter Size of list '))\n",
    "for i in range(n):\n",
    "    x=int(input('Enter list element '))\n",
    "    a.append(x)\n",
    "print(a)\n",
    "search_element=int(input('Enter search element '))\n",
    "for i in range(n):\n",
    "    if(search_element==a[i]):\n",
    "        print('Element',a[i],'found at location',i)\n",
    "        c+=1\n",
    "if(c==0):\n",
    "    print('Element not found')\n",
    "else:\n",
    "    print('Element',search_element,'found',c,'times in the given list')    "
   ]
  },
  {
   "cell_type": "code",
   "execution_count": 17,
   "id": "c7563a58",
   "metadata": {},
   "outputs": [
    {
     "name": "stdout",
     "output_type": "stream",
     "text": [
      "    * \n",
      "\n",
      "   * * \n",
      "\n",
      "  * * * \n",
      "\n",
      " * * * * \n",
      "\n",
      "* * * * * \n",
      "\n"
     ]
    }
   ],
   "source": [
    "n=5\n",
    "k=n-1\n",
    "for i in range(0,n):\n",
    "    for j in range(0,k):\n",
    "        print(end=' ')\n",
    "    k=k-1\n",
    "    for j in range(0,i+1):\n",
    "        print('*',end=' ')\n",
    "    print('\\n')"
   ]
  },
  {
   "cell_type": "code",
   "execution_count": 19,
   "id": "9630bae3",
   "metadata": {},
   "outputs": [
    {
     "name": "stdout",
     "output_type": "stream",
     "text": [
      "Enter no of rows 5\n",
      "     *  \n",
      "\n",
      "   *   *  \n",
      "\n",
      " *   *   *  \n",
      "\n",
      "   *   *  \n",
      "\n",
      "     *  \n",
      "\n"
     ]
    }
   ],
   "source": [
    "num=int(input('Enter no of rows '))\n",
    "n=num//2\n",
    "for i in range(0,n):\n",
    "    for j in range(n,i,-1):\n",
    "        print(' ',end=' ')\n",
    "    for j in range(0,i+1,1):\n",
    "        print(' * ',end=' ')\n",
    "    print('\\n')\n",
    "for i in range(0,n+1,1):\n",
    "    for j in range(0,i,1):\n",
    "        print(' ',end=' ')\n",
    "    for j in range(n+1,i,-1):\n",
    "        print(' * ',end=' ')\n",
    "    print('\\n')"
   ]
  },
  {
   "cell_type": "code",
   "execution_count": null,
   "id": "0b9d71e7",
   "metadata": {},
   "outputs": [],
   "source": [
    "'''1]wap to create a list of index positions of all two digit numbers in input list of integers\n",
    "   2]wap to perform and display addition of all two digit numbers in the input list of integers\n",
    "   3] Square Inc. processes thousands of transactions daily amounting to millions of dollars.\n",
    "      They also have a daily target that they must achieve.Given a list of transactions done by square Inc. \n",
    "      and daily target your task is to determine at which transaction does square achieves the same. \n",
    "    4] wap to display the terms as follows 1,4,9,16,25,36'''"
   ]
  },
  {
   "cell_type": "code",
   "execution_count": 22,
   "id": "b221f532",
   "metadata": {},
   "outputs": [
    {
     "name": "stdout",
     "output_type": "stream",
     "text": [
      "Enter the size of list 4\n",
      "Enter elements 1\n",
      "Enter elements 2\n",
      "Enter elements 3\n",
      "Enter elements 4\n",
      "[1, 2, 3, 4]\n",
      "Even list [2, 4]\n",
      "Odd list [1, 3]\n",
      "Sum of Even list 6\n",
      "Sum of Odd list 4\n"
     ]
    }
   ],
   "source": [
    "# wap to find sum of even and odd elements in the given list\n",
    "a=[]\n",
    "even=[]\n",
    "odd=[]\n",
    "n=int(input('Enter the size of list '))\n",
    "for i in range(n):\n",
    "    x=int(input('Enter elements '))\n",
    "    a.append(x)\n",
    "print(a)\n",
    "for i in a:\n",
    "    if(i%2==0):\n",
    "        even.append(i)\n",
    "    else:\n",
    "        odd.append(i)\n",
    "print('Even list',even)\n",
    "print('Odd list',odd)\n",
    "print('Sum of Even list',sum(even))\n",
    "print('Sum of Odd list',sum(odd))"
   ]
  },
  {
   "cell_type": "code",
   "execution_count": 23,
   "id": "9f3b580f",
   "metadata": {},
   "outputs": [
    {
     "name": "stdout",
     "output_type": "stream",
     "text": [
      "Enter Size of list 4\n",
      "Enter list element 1\n",
      "Enter list element 2\n",
      "Enter list element 3\n",
      "Enter list element 4\n",
      "[1, 2, 3, 4]\n",
      "Enter search element 1\n",
      "Element 1 found at location 0\n"
     ]
    }
   ],
   "source": [
    "# Wapp to find element how many no of times present in the list \n",
    "a=[]\n",
    "n=int(input('Enter Size of list '))\n",
    "for i in range(n):\n",
    "    x=int(input('Enter list element '))\n",
    "    a.append(x)\n",
    "print(a)\n",
    "search_element=int(input('Enter search element '))\n",
    "flag=0\n",
    "for i in range(n):\n",
    "    if(search_element==a[i]):\n",
    "        flag=True\n",
    "        break\n",
    "if(flag==True):\n",
    "    print('Element',search_element,'found at location',i)\n",
    "else:\n",
    "    print('Element not found')"
   ]
  },
  {
   "cell_type": "code",
   "execution_count": 26,
   "id": "91b8cb22",
   "metadata": {},
   "outputs": [
    {
     "name": "stdout",
     "output_type": "stream",
     "text": [
      "Enter the size of list 5\n",
      "Enter the element 4\n",
      "Enter the element 1\n",
      "Enter the element 8\n",
      "Enter the element 2\n",
      "Enter the element 9\n",
      "[4, 1, 8, 2, 9]\n",
      "The sorted list is [1, 2, 4, 8, 9]\n"
     ]
    }
   ],
   "source": [
    "'''The weather forecasting company want to sort the 10 cities temprature in ascending order so wapp to \n",
    "   sort the temprature with the city name in ascending order use any sorting algorithm without built in function'''\n",
    "a=[]\n",
    "n=int(input('Enter the size of list '))\n",
    "for i in range(n):\n",
    "    x=int(input('Enter the element '))\n",
    "    a.append(x)\n",
    "print(a)\n",
    "for i in range(n):\n",
    "    for j in range(i):\n",
    "        if(a[j]>=a[j+1]):\n",
    "            t=a[j]\n",
    "            a[j]=a[j+1]\n",
    "            a[j+1]=t\n",
    "print('The sorted list is',a)"
   ]
  },
  {
   "cell_type": "code",
   "execution_count": 28,
   "id": "b4c7c588",
   "metadata": {},
   "outputs": [
    {
     "name": "stdout",
     "output_type": "stream",
     "text": [
      "1\n",
      "6\n",
      "4\n",
      "[1, 2, 3, 4, 5, 6, 7]\n",
      "[1, 2, 3, 4, 6, 7]\n",
      "[1, 2, 4, 6, 7]\n",
      "[1, 2, 4, 6]\n",
      "[1, 2, 4, 10, 6]\n",
      "[1, 2, 4, 10, 6, 7, 8, 9]\n",
      "8\n",
      "[1, 2, 4, 10, 6, 7, 8, 9, 50]\n",
      "[]\n"
     ]
    }
   ],
   "source": [
    "# built in functions for lists\n",
    "a=[1,2,3,4,5,6]\n",
    "b=[7,8,9]\n",
    "print(min(a))\n",
    "print(max(a))\n",
    "print(a.index(5))\n",
    "a.append(7)\n",
    "print(a)\n",
    "a.remove(5)\n",
    "print(a)\n",
    "a.pop(2)\n",
    "print(a)\n",
    "a.pop()\n",
    "print(a)\n",
    "a.insert(3,10)\n",
    "print(a)\n",
    "a.extend(b)\n",
    "print(a)\n",
    "print(len(a))\n",
    "# a[9]=50 is not allowed\n",
    "# print(a)\n",
    "a.insert(9,50)\n",
    "print(a)\n",
    "a.clear()\n",
    "print(a)"
   ]
  },
  {
   "cell_type": "code",
   "execution_count": 6,
   "id": "bc58201d",
   "metadata": {},
   "outputs": [
    {
     "name": "stdout",
     "output_type": "stream",
     "text": [
      "Enter the string Border Security Force\n",
      "BSF"
     ]
    }
   ],
   "source": [
    "# Wapp to input Border Security Force then print:BSF\n",
    "a=input('Enter the string ').split()\n",
    "for i in a:\n",
    "    for j in i:\n",
    "        print((j),end='')\n",
    "        break"
   ]
  },
  {
   "cell_type": "code",
   "execution_count": 8,
   "id": "efe24269",
   "metadata": {
    "scrolled": true
   },
   "outputs": [
    {
     "name": "stdout",
     "output_type": "stream",
     "text": [
      "Enter Full Name Palak Bhandari\n",
      "PB\n"
     ]
    }
   ],
   "source": [
    "# Wapp to shorthand the input string\n",
    "str1=input(\"Enter String \")\n",
    "s=str1[0]\n",
    "for i in range(len(str1)):\n",
    "        if(str1[i]==' '):\n",
    "            s=s+str1[i+1]\n",
    "print(s)"
   ]
  },
  {
   "cell_type": "code",
   "execution_count": 1,
   "id": "a8179cf9",
   "metadata": {},
   "outputs": [
    {
     "name": "stdout",
     "output_type": "stream",
     "text": [
      "Enter the string:- army navy airforce bsf crpf ndrf\n",
      "['army', 'navy', 'airforce', 'bsf', 'crpf', 'ndrf']\n",
      "bsf\n",
      "crpf\n",
      "ndrf\n"
     ]
    }
   ],
   "source": [
    "# wapp to input army navy airforce bsf crpf ndrf\n",
    "a=input('Enter the string:- ').split()\n",
    "print(a)\n",
    "for i in a:\n",
    "    for j in i:\n",
    "        if(j=='a' or j=='e' or j=='i' or j=='o' or j=='u'):\n",
    "            break\n",
    "    else:\n",
    "        print(i)      "
   ]
  },
  {
   "cell_type": "code",
   "execution_count": 2,
   "id": "68b15855",
   "metadata": {},
   "outputs": [
    {
     "name": "stdout",
     "output_type": "stream",
     "text": [
      "hi hello My name is palak\n"
     ]
    }
   ],
   "source": [
    "# wapp to remove duplicate words\n",
    "s = 'hi hello My name is palak hi hello '\n",
    "l = s.split()\n",
    "k = []\n",
    "for i in l:\n",
    "    if (s.count(i)>=1 and (i not in k)):\n",
    "        k.append(i)\n",
    "print(' '.join(k))"
   ]
  },
  {
   "cell_type": "code",
   "execution_count": 23,
   "id": "9115cd6b",
   "metadata": {},
   "outputs": [
    {
     "name": "stdout",
     "output_type": "stream",
     "text": [
      "Enter the string:- hi hello getting bored in hi python lab hello today hi\n",
      "['hi', 'hello', 'getting', 'bored', 'in', 'python', 'lab', 'today']\n"
     ]
    }
   ],
   "source": [
    "l=input('Enter the string:- ').split()\n",
    "a = []\n",
    "for x in l:\n",
    "    if x not in a:\n",
    "        a.append(x)\n",
    "print(a)"
   ]
  },
  {
   "cell_type": "code",
   "execution_count": 6,
   "id": "ec86a6c6",
   "metadata": {},
   "outputs": [
    {
     "name": "stdout",
     "output_type": "stream",
     "text": [
      "enter string Palak Bhandari\n",
      "5\n"
     ]
    }
   ],
   "source": [
    "# wapp to count the number of vowels in the given string\n",
    "count=0\n",
    "a=input('enter string ')\n",
    "for i in a:\n",
    "    for j in i:\n",
    "        if(j=='a' or j=='A' or j=='e'or j=='E' or j=='i'or j=='I' or j=='o' or j=='O' or j=='u' or j=='U'):\n",
    "            count+=1\n",
    "print(count)"
   ]
  },
  {
   "cell_type": "code",
   "execution_count": 12,
   "id": "b593857d",
   "metadata": {},
   "outputs": [
    {
     "name": "stdout",
     "output_type": "stream",
     "text": [
      "enter string Talking to you is wasting time\n",
      "2\n"
     ]
    }
   ],
   "source": [
    "# wapp to count words end with ing\n",
    "count=0\n",
    "a=input('enter string ').split()\n",
    "for i in a:\n",
    "        if(i[-3:]==\"ing\"):\n",
    "            count+=1\n",
    "print(count)"
   ]
  },
  {
   "cell_type": "code",
   "execution_count": 28,
   "id": "6857bbd4",
   "metadata": {},
   "outputs": [
    {
     "name": "stdout",
     "output_type": "stream",
     "text": [
      "enter string I was born in 2002\n",
      "Letters number- 10\n",
      "Digits number- 4\n"
     ]
    }
   ],
   "source": [
    "# wapp to count number of letter and digits\n",
    "countl=0\n",
    "countd=0\n",
    "a=input('enter string ')\n",
    "for i in a:\n",
    "    for j in i:\n",
    "        if(65<=ord(j)<=90 or 97<=ord(j)<=122):\n",
    "            countl+=1\n",
    "        elif(48<=ord(j)<=57): #'0'<=ord(j)<='9'\n",
    "            countd+=1\n",
    "print('Letters number-',countl)\n",
    "print('Digits number-',countd)            "
   ]
  },
  {
   "cell_type": "code",
   "execution_count": 4,
   "id": "a6bff5ea",
   "metadata": {},
   "outputs": [
    {
     "name": "stdout",
     "output_type": "stream",
     "text": [
      "enter string Palak\n",
      "Zkvku\n",
      "Palak\n"
     ]
    }
   ],
   "source": [
    "'''Write a Python program to create a Caesar encryption.\n",
    "[Hint:\n",
    "Step I: use asci code of each character and add some constant value in that and\n",
    "convert new character and display encrypted string\n",
    "Step II: use asci code of encrypted string, subtract the constant value, and decrypt\n",
    "with original string and display]'''\n",
    "nes=''\n",
    "es=''\n",
    "a=input('enter string ')\n",
    "for i in a:\n",
    "    x=ord(i)\n",
    "    x+=10\n",
    "    es+=chr(x)\n",
    "print(es)\n",
    "for i in es:\n",
    "    es=ord(i)\n",
    "    es-=10\n",
    "    nes+=chr(es)\n",
    "print(nes)   "
   ]
  },
  {
   "cell_type": "code",
   "execution_count": 24,
   "id": "b25ab197",
   "metadata": {},
   "outputs": [
    {
     "name": "stdout",
     "output_type": "stream",
     "text": [
      "{1: 13, 2: 20, 3: 40}\n",
      "{1: 13, 2: 20, 3: 40, 4: 30}\n",
      "180\n",
      "{'Dhoni': 180, 'Virat': 175, 'Rohit': 175}\n",
      "{'name': 'mitaoe', 'loc': 'alandi', 'brch': 'Cs', 'name1': 'mitcoe', 'loc1': 'kothrud', 'brch1': 'Mech'}\n",
      "dict_keys(['name', 'loc', 'brch', 'name1', 'loc1', 'brch1'])\n",
      "dict_values(['mitcoe', 'kothrud', 'Mech'])\n",
      "dict_items([('Dhoni', 180), ('Virat', 175), ('Rohit', 175)])\n",
      "{'Dhoni': 180, 'Rohit': 175}\n",
      "{}\n"
     ]
    }
   ],
   "source": [
    "'''Dictionary: Collection of unordered items=key+value\n",
    "dict={key:value,key:value,...}--key is char or int but value can be int float char all types '''\n",
    "di={'Dhoni':180,'Virat':175,'Rohit':175}\n",
    "d={1:10,2:20,3:40}\n",
    "d[1]=13\n",
    "print(d)\n",
    "d[4]=30\n",
    "print(d)\n",
    "print(di.get('Dhoni'))\n",
    "d2=di.copy()\n",
    "print(d2)\n",
    "d3={'name':'mitaoe','loc':'alandi','brch':'Cs'}\n",
    "d4={'name1':'mitcoe','loc1':'kothrud','brch1':'Mech'}\n",
    "d3.update(d4)\n",
    "print(d3)\n",
    "print(d3.keys())\n",
    "print(d4.values())\n",
    "print(di.items())\n",
    "d2.pop('Virat')\n",
    "print(d2)\n",
    "d2.clear()\n",
    "print(d2)"
   ]
  },
  {
   "cell_type": "code",
   "execution_count": 25,
   "id": "fc129d90",
   "metadata": {},
   "outputs": [
    {
     "name": "stdout",
     "output_type": "stream",
     "text": [
      "Enter no of items: 3\n",
      "Enter the keys: 1\n",
      "Enter fruit name: Mango\n",
      "Enter the keys: 2\n",
      "Enter fruit name: Apple\n",
      "Enter the keys: 3\n",
      "Enter fruit name: Cherry\n",
      "Entered dictionary items are: {1: 'Mango', 2: 'Apple', 3: 'Cherry'}\n"
     ]
    }
   ],
   "source": [
    "# program to read dictionary items from user\n",
    "d={}\n",
    "n=int(input('Enter no of items: '))\n",
    "for i in range(n):\n",
    "    key=int(input('Enter the key: '))\n",
    "    fruit=input('Enter fruit name: ')\n",
    "    d[key]=fruit\n",
    "print('Entered dictionary items are:',d)"
   ]
  },
  {
   "cell_type": "code",
   "execution_count": 32,
   "id": "de5ecccc",
   "metadata": {},
   "outputs": [
    {
     "name": "stdout",
     "output_type": "stream",
     "text": [
      "sachin\n",
      "Morgan\n",
      "{'india': ['Dhoni', 'sachin', 'Ganguly', 'Kapil', 'Azhar', 'Virat'], 'Eng': ['Morgan', 'Root', 'Cook', 'Joe']}\n"
     ]
    }
   ],
   "source": [
    "d={'india':['Dhoni','sachin','Ganguly','Kapil','Azhar','Virat'],'Eng':['Morgan','Root','Cook']}\n",
    "print(d['india'][1])\n",
    "print(d['Eng'][0])\n",
    "d['Eng'].append('Joe')\n",
    "print(d)"
   ]
  },
  {
   "cell_type": "code",
   "execution_count": 17,
   "id": "88af8fe4",
   "metadata": {},
   "outputs": [
    {
     "name": "stdout",
     "output_type": "stream",
     "text": [
      "Enter here Hero\n",
      "['Hero', 'Cadbury', 'Amul', 'Bajaj']\n"
     ]
    }
   ],
   "source": [
    "# wapp to read company names and their slogan and search\n",
    "d={'Hero':'Desh ki dhadkan','Cadbury':'Kuch mitha ho jaye','Amul':'The taste of India','Bajaj':'Hamara bajaj'}\n",
    "e=input('Enter here ')\n",
    "for i in range(0,4):\n",
    "    if (e == d.keys()):\n",
    "        print(d[e])\n",
    "        if(e == d.values()):\n",
    "            print(d.get(e))\n",
    "        else:\n",
    "            print('Not in dictionary')\n",
    "list = []\n",
    "for key in d.keys():\n",
    "    list.append(key)\n",
    "print(list)"
   ]
  },
  {
   "cell_type": "code",
   "execution_count": null,
   "id": "4ba47890",
   "metadata": {},
   "outputs": [],
   "source": [
    "d={'Hero':'Desh ki dhadkan','Cadbury':'Kuch mitha ho jaye','Amul':'The taste of India','Bajaj':'Hamara bajaj'}\n",
    "print(d.keys())\n",
    "print(d)\n",
    "w=input('Enter the key')\n",
    "if w in d.keys():\n",
    "    print(d[w])\n",
    "else:\n",
    "    print('Invalid')"
   ]
  },
  {
   "cell_type": "code",
   "execution_count": 14,
   "id": "3127fa1a",
   "metadata": {},
   "outputs": [
    {
     "name": "stdout",
     "output_type": "stream",
     "text": [
      "enter keyHero\n",
      "Desh ki dhadkan\n"
     ]
    }
   ],
   "source": [
    "d={'Hero':'Desh ki dhadkan','Cadbury':'Kuch mitha ho jaye','Amul':'The taste of India','Bajaj':'Hamara bajaj'}\n",
    "w=input('enter key')\n",
    "if w in d.keys():\n",
    "    print(d[w])\n",
    "else:\n",
    "    print('invalid')"
   ]
  },
  {
   "cell_type": "code",
   "execution_count": 19,
   "id": "8c352603",
   "metadata": {},
   "outputs": [
    {
     "name": "stdout",
     "output_type": "stream",
     "text": [
      "170\n"
     ]
    }
   ],
   "source": [
    "# print sum of all prices\n",
    "d={'Idli':30,'Dosa':60,'Pohe':20,'Upma':40,'Vada Pav':20}\n",
    "sum=0\n",
    "for i in d:\n",
    "    sum+=d[i]\n",
    "print(sum)"
   ]
  },
  {
   "cell_type": "code",
   "execution_count": 26,
   "id": "7cb406ac",
   "metadata": {},
   "outputs": [
    {
     "name": "stdout",
     "output_type": "stream",
     "text": [
      "{'pune': 'Shanivar wada', 'Mumbai': 'gateway of India'}\n"
     ]
    }
   ],
   "source": [
    "d={'pune':'Shanivar wada','Pune':'Shanivar wada','Mumbai':'gateway of India'}\n",
    "d1={}\n",
    "for key,value in d.items():\n",
    "    if value not in d1.values():\n",
    "        d1[key]=value\n",
    "print(d1)"
   ]
  },
  {
   "cell_type": "code",
   "execution_count": null,
   "id": "76f2e681",
   "metadata": {},
   "outputs": [],
   "source": [
    "''' OOPs properties-\n",
    "1] Abstraction\n",
    "2] Encapsulation\n",
    "3] Inheritance\n",
    "4] Polymorphism \n",
    "class=data + functions '''"
   ]
  },
  {
   "cell_type": "code",
   "execution_count": 9,
   "id": "b8a713fc",
   "metadata": {},
   "outputs": [
    {
     "name": "stdout",
     "output_type": "stream",
     "text": [
      "Welcome\n"
     ]
    }
   ],
   "source": [
    "# OOPs demo\n",
    "class Demo:\n",
    "    def __init__(self):\n",
    "        pass\n",
    "    def display(self):\n",
    "        print('Welcome')\n",
    "d1=Demo()\n",
    "d1.display()"
   ]
  },
  {
   "cell_type": "code",
   "execution_count": 10,
   "id": "72c3fd16",
   "metadata": {},
   "outputs": [
    {
     "name": "stdout",
     "output_type": "stream",
     "text": [
      "Enter no1:- 10\n",
      "Enter no2:- 5\n",
      "Addition= 15\n",
      "Substartion= 5\n",
      "Multiplication= 50\n",
      "Division= 2.0\n",
      "Remainder= 0\n"
     ]
    }
   ],
   "source": [
    "# Python class for addition of 2 nos \n",
    "class Arithmetic:\n",
    "    def __init__(self,a,b):\n",
    "        self.a=a\n",
    "        self.b=b\n",
    "    def add(self):\n",
    "        print('Addition=',self.a+self.b)\n",
    "    def sub(self):\n",
    "        print('Substartion=',self.a-self.b)\n",
    "    def multi(self):\n",
    "        print('Multiplication=',self.a*self.b)\n",
    "    def div(self):\n",
    "        print('Division=',self.a/self.b)\n",
    "    def mod(self):\n",
    "        print('Remainder=',self.a%self.b)\n",
    "a=int(input('Enter no1:- '))\n",
    "b=int(input('Enter no2:- '))\n",
    "a1=Arithmetic(a,b)\n",
    "a1.add()\n",
    "a1.sub()\n",
    "a1.multi()\n",
    "a1.div()\n",
    "a1.mod()    "
   ]
  },
  {
   "cell_type": "code",
   "execution_count": 20,
   "id": "f882c03b",
   "metadata": {},
   "outputs": [
    {
     "name": "stdout",
     "output_type": "stream",
     "text": [
      "Enter name of the flower Rose\n",
      "Enter no of petals in the flower 10\n",
      "Enter the price 2\n",
      "The name of the flower is Rose\n",
      "The no of petals are 10\n",
      "The price is 2.0\n",
      "Rose\n"
     ]
    }
   ],
   "source": [
    "'''Write a Python class, Flower, that has three instance variables of str, int, and float,\n",
    "which respectively represent the name of flower, its number of petals, and its price.\n",
    "Your class must include a constructor method that initializes each variable to an appropriate value,\n",
    "and your class should include methods for setting the value of each type and retrieving the value of each type.\n",
    "Demonstrate how to use the Flower class in code. '''\n",
    "class flower:\n",
    "    def __init__(self,s,i,f):\n",
    "        self.s=s\n",
    "        self.i=i\n",
    "        self.f=f\n",
    "    def setting_values(self):\n",
    "        self.s=input('Enter name of the flower ')\n",
    "        self.i=int(input('Enter no of petals in the flower '))\n",
    "        self.f=float(input('Enter the price '))\n",
    "    def retrieving_values(self):\n",
    "        print('The name of the flower is',self.s)\n",
    "        print('The no of petals are',self.i)\n",
    "        print('The price is',self.f)\n",
    "display=flower('a',1,1)\n",
    "display.setting_values()\n",
    "display.retrieving_values()\n",
    "print(display.s)"
   ]
  },
  {
   "cell_type": "code",
   "execution_count": 3,
   "id": "7f2fcbd4",
   "metadata": {},
   "outputs": [
    {
     "name": "stdout",
     "output_type": "stream",
     "text": [
      "enter company TATA\n",
      "enter price 1200000\n",
      "enter speed 220\n",
      "enter company Mahindra\n",
      "enter price 1300000\n",
      "enter speed 300\n",
      "enter company Honda\n",
      "enter price 3000000\n",
      "enter speed 350\n",
      "enter company Maruti\n",
      "enter price 100000\n",
      "enter speed 200\n",
      "enter company MG\n",
      "enter price 200000\n",
      "enter speed 280\n",
      "The best vechile is  MG with speed  280\n"
     ]
    }
   ],
   "source": [
    "'''WAPP class to read 5 vechiles information like make,price,speed and choose which bike has maximum speed'''\n",
    "class vechile:\n",
    "    def __init__(self,m,p,s,x,y):\n",
    "        self.m=m\n",
    "        self.p=p\n",
    "        self.s=s\n",
    "        self.x=0\n",
    "        self.y=''\n",
    "    def read(self):\n",
    "        for i in range(5):\n",
    "            self.m=input('enter company ')\n",
    "            self.p=int(input('enter price '))\n",
    "            self.s=int(input('enter speed '))\n",
    "    def choose(self):\n",
    "        for i in range(5):\n",
    "            if(self.x<self.s):\n",
    "                self.x=self.s\n",
    "                self.y=self.m\n",
    "    def display(self):\n",
    "        print('The best vechile is ',self.y,'with speed ',self.x)\n",
    "        \n",
    "v=vechile('','','','','')\n",
    "v.read()\n",
    "v.choose()\n",
    "v.display()"
   ]
  },
  {
   "cell_type": "code",
   "execution_count": null,
   "id": "b218c726",
   "metadata": {},
   "outputs": [],
   "source": [
    "adder = lambda x,y: x+y\n",
    "print(adder(1,2))\n",
    "'''Every annymous function you define in python will have 3 essential parts:\n",
    "1 the lambda keyword\n",
    "2 the parameter(or bound variables), and\n",
    "3 the function body\n",
    "A lambda function can have any number of parameters, \n",
    "but the function can only contain one expreession.\n",
    "Moreover, a lambda is written in a single line of code and also be invoked immediately. '''\n",
    "string='some kind of a useless lambda'\n",
    "print(lambda string:print(string))\n",
    "sequences=[10,2,8,7,5,4,3,11,0,1]\n",
    "filtered_result=filter(lambda x:x>4,sequences)\n",
    "filter_result=map(lambda x:x*x,sequences)\n",
    "print(list(filtered_result))\n",
    "print(list(filter_result))"
   ]
  },
  {
   "cell_type": "code",
   "execution_count": 4,
   "id": "e422ecab",
   "metadata": {},
   "outputs": [
    {
     "name": "stdout",
     "output_type": "stream",
     "text": [
      "5,7,8,9,"
     ]
    }
   ],
   "source": [
    "def f(a):\n",
    "    for i in range(len(a)):\n",
    "        if(a[i]>4):\n",
    "            print(a[i],end=',')\n",
    "a=[1,2,5,7,8,9]\n",
    "f(a)"
   ]
  },
  {
   "cell_type": "code",
   "execution_count": 8,
   "id": "631f1dcb",
   "metadata": {},
   "outputs": [
    {
     "name": "stdout",
     "output_type": "stream",
     "text": [
      "Enter how many names6\n",
      "Enter the namearmy\n",
      "Enter the namenavy\n",
      "Enter the nameairforce\n",
      "Enter the namebsf\n",
      "Enter the namecrpf\n",
      "Enter the namendrf\n",
      "Given names are ['army', 'navy', 'airforce', 'bsf', 'crpf', 'ndrf']\n",
      "string without vowels is ['bsf', 'crpf', 'ndrf']\n"
     ]
    }
   ],
   "source": [
    "'''WAPP to input army navy airforce bsf crpf ndrf output bsf crpf ndrf'''\n",
    "# print strings without vowels or print the non vowel strings\n",
    "names=[]\n",
    "vowels=[]\n",
    "n=int(input('Enter how many names'))\n",
    "for i in range(n):\n",
    "    x=input('Enter the name')\n",
    "    names.append(x)\n",
    "print('Given names are',names)\n",
    "for i in names:\n",
    "    count=0\n",
    "    for j in i:\n",
    "        if(j=='a' or j=='e' or j=='i' or j=='o' or j=='u'):\n",
    "            count+=1\n",
    "    if(count==0):\n",
    "        vowels.append(i)\n",
    "print('string without vowels is',vowels)"
   ]
  },
  {
   "cell_type": "code",
   "execution_count": 12,
   "id": "58f0aefd",
   "metadata": {},
   "outputs": [
    {
     "name": "stdout",
     "output_type": "stream",
     "text": [
      "enter the stringwalking and talking with you\n",
      "2\n"
     ]
    }
   ],
   "source": [
    "s=input('enter the string')\n",
    "c=0\n",
    "for i in range(len(s)):\n",
    "    if(s[i]=='i'):\n",
    "        if(s[i+1]=='n'):\n",
    "            if(s[i+2]=='g'):\n",
    "                c+=1\n",
    "print(c)"
   ]
  },
  {
   "cell_type": "code",
   "execution_count": null,
   "id": "34fabbe6",
   "metadata": {},
   "outputs": [],
   "source": [
    "'''Tuples:Collection of elements in sequence.\n",
    "List:Collection of elements in sequene.'''\n",
    "a=[1,2,3,4]#mutable\n",
    "t={1,2,3,,4,5,2}#immutable write protective\n",
    "print(t[1])\n",
    "print(t)\n",
    "#modify update append insert\n",
    "print(t.index(2))\n",
    "print(len(t))\n",
    "print(t.count(2))\n",
    "# + ,*, in ,not in\n",
    "t3=t1+t2\n",
    "print(t3)\n",
    "print(t1*3)\n",
    "print(7 in t)\n",
    "print(1 not in t)"
   ]
  },
  {
   "cell_type": "code",
   "execution_count": 7,
   "id": "2d73cd18",
   "metadata": {},
   "outputs": [
    {
     "name": "stdout",
     "output_type": "stream",
     "text": [
      "punaaa\n",
      "PUNEEE\n",
      "puneee\n",
      "3\n",
      "0\n",
      "True\n",
      "['puneee']\n",
      "0\n",
      "None\n",
      "['mit']\n",
      "pun\n",
      "eeenup\n"
     ]
    }
   ],
   "source": [
    "'''String immutable datatype s=mit'''\n",
    "s='puneee'\n",
    "s1=[]\n",
    "print(s.replace('e','a'))\n",
    "print(s.upper())\n",
    "print(s.lower())\n",
    "print(s.count('e'))\n",
    "print(s.index('p'))\n",
    "print(s.startswith('p'))\n",
    "print(s.split())\n",
    "print(s.split().index('puneee'))\n",
    "print(s1.insert(1,'mit'))\n",
    "print(s1)\n",
    "#slicing\n",
    "print(s[0:3])\n",
    "print(s[len(s)-1::-1])\n",
    "#initialization:condition:increment/decrement"
   ]
  },
  {
   "cell_type": "code",
   "execution_count": null,
   "id": "542425a2",
   "metadata": {},
   "outputs": [],
   "source": [
    "'''OOPs in Python\n",
    "class=human=attributes or values or properties + behaviour\n",
    "vechiles = 2 wheelers, 4 wheelers , color\n",
    "Properties of OOPs:\n",
    "1] Abstraction\n",
    "2] Encapsulation:private, public, protected\n",
    "3] Inheritance: reusability\n",
    "4] Polymorhism\n",
    "class:blue print of application \n",
    "object: real time entity\n",
    "attributes\n",
    "behaviour\n",
    "a=10\n",
    "class test:\n",
    "int a=10\n",
    "obj=test()\n",
    "class=attributes + functions'''\n",
    "#OOPs concept \n",
    "collection of classes and objects \n",
    "oops=classes+objects\n",
    "classes=data + functions\n",
    "object= attributes and behaviour\n",
    "object:real time entity\n",
    "oops concepts:\n",
    "    1] abstraction: hiding internal properties of an object\n",
    "    2] encapsulation: using access specifiers: private(__) public and protected(_)\n",
    "            __a(private data) _a(protected) a(public)\n",
    "    3] Inheritance:reusability : Base class and derived class\n",
    "    4] polymorphism"
   ]
  },
  {
   "cell_type": "code",
   "execution_count": 2,
   "id": "1f577668",
   "metadata": {},
   "outputs": [
    {
     "name": "stdout",
     "output_type": "stream",
     "text": [
      "Enter the first name Palak\n",
      "Enter the last name Bhandari\n",
      "Enter roll no 413\n",
      "Name- Palak Bhandari\n",
      "Roll No- 413\n",
      "413 Palak Bhandari has scored 85.5 marks\n"
     ]
    }
   ],
   "source": [
    "#WAPP to read students data parent class 2 methods 1) get data fname,lname,rollno,\n",
    "#child class or derived class: marks\n",
    "class student:#base class\n",
    "    c=0\n",
    "    def __init__(self,fname,lname,rno):\n",
    "        self.fname=fname\n",
    "        self.lname=lname\n",
    "        self.rno=rno\n",
    "    def get_data(self):\n",
    "        self.fname=input('Enter the first name ')\n",
    "        self.lname=input('Enter the last name ')\n",
    "        self.rno=int(input('Enter roll no '))\n",
    "    def print_data(self):\n",
    "        print('Name-',self.fname,self.lname)\n",
    "        print('Roll No-',self.rno)\n",
    "#Result class inheriting the properties of base class student\n",
    "class result(student):#single level inheritance\n",
    "    # derived class syntax=class derivedclass name(base class)\n",
    "    def __init__(self,m1,m2,m3,m4,avg):\n",
    "        self.m1=m1\n",
    "        self.m2=m2\n",
    "        self.m3=m3\n",
    "        self.m4=m4\n",
    "        self.avg=avg\n",
    "    def process(self):\n",
    "        self.m1=90\n",
    "        self.m2=87\n",
    "        self.m3=78\n",
    "        self.m4=87\n",
    "        self.avg=(self.m1+self.m2+self.m3+self.m4)/4\n",
    "        print(self.rno,self.fname,self.lname,'has scored',self.avg,'marks')\n",
    "        \n",
    "s1=result('m1','m2','m3','m4','avg')\n",
    "s1.get_data()\n",
    "s1.print_data()\n",
    "s1.process()"
   ]
  },
  {
   "cell_type": "code",
   "execution_count": 25,
   "id": "df92baa3",
   "metadata": {},
   "outputs": [
    {
     "name": "stdout",
     "output_type": "stream",
     "text": [
      "Enter the number of rows 2\n",
      "Enter the number of columuns 2\n",
      "Enter the elements for matrix I = 1\n",
      "Enter the elements for matrix I = 1\n",
      "Enter the elements for matrix I = 1\n",
      "Enter the elements for matrix I = 1\n",
      "-------- Given matrix I is --------\n",
      "1 1 \n",
      "1 1 \n",
      "Enter the elements for matrix II = 0\n",
      "Enter the elements for matrix II = 0\n",
      "Enter the elements for matrix II = 0\n",
      "Enter the elements for matrix II = 0\n",
      "---------- Given matrix II is ---------\n",
      "0 0 \n",
      "0 0 \n",
      "----- Addition of the 2 matrices is -----\n",
      "1 1 \n",
      "1 1 \n",
      "----- Multiplication of the 2 matrices is -----\n",
      "0 0 \n",
      "0 0 \n"
     ]
    }
   ],
   "source": [
    "# 13-{1}-Write a Python program to perform addition and multiplication of 2 matrices.\n",
    "a=[]\n",
    "b=[]\n",
    "r=int(input('Enter the number of rows '))\n",
    "c=int(input('Enter the number of columuns '))\n",
    "z=[[0 for j in range(c)] for i in range(r)]\n",
    "y=[[0 for j in range(c)] for i in range(r)]\n",
    "for i in range(r):\n",
    "    x=[]\n",
    "    for j in range(c):\n",
    "        x.append(int(input('Enter the elements for matrix I = ')))\n",
    "    a.append(x)\n",
    "print('-------- Given matrix I is --------')\n",
    "for i in range(r):\n",
    "    for j in range(c):\n",
    "        print(a[i][j],end=' ')\n",
    "    print()\n",
    "for i in range(r):\n",
    "    x=[]\n",
    "    for j in range(c):\n",
    "        x.append(int(input('Enter the elements for matrix II = ')))\n",
    "    b.append(x)\n",
    "print('---------- Given matrix II is ---------')\n",
    "for i in range(r):\n",
    "    for j in range(c):\n",
    "        print(b[i][j],end=' ')\n",
    "    print()\n",
    "print('----- Addition of the 2 matrices is -----')\n",
    "for i in range(r):\n",
    "    for j in range(c):\n",
    "        z[i][j]=a[i][j]+b[i][j]\n",
    "        print(z[i][j],end=' ')\n",
    "    print()\n",
    "print('----- Multiplication of the 2 matrices is -----')  \n",
    "for i in range(r):\n",
    "    for j in range(c):\n",
    "        y[i][j]=0\n",
    "        for k in range(c):\n",
    "            y[i][j]+=a[i][k]*b[k][j]\n",
    "for i in range(r):\n",
    "    for j in range(c):\n",
    "        print(y[i][j],end=' ')\n",
    "    print()"
   ]
  },
  {
   "cell_type": "code",
   "execution_count": 24,
   "id": "d50bd33b",
   "metadata": {},
   "outputs": [
    {
     "name": "stdout",
     "output_type": "stream",
     "text": [
      "Enter your name: MNO\n",
      "Enter your age: 2\n",
      "--------- BIGBAZAR THEATRE -----------\n",
      "Name- MNO\n",
      "Age- 2\n",
      "Ticket charge- Rs 0.0\n",
      "-------------------------------------\n"
     ]
    }
   ],
   "source": [
    "'''13-{2}-An admission charge for The BigBazar Theater varies according to the age of the person.  \n",
    "a. Over 60: Rs.100.00 \n",
    "b. 21–59: Rs150.00 \n",
    "c. 13–20: Rs.100.00 \n",
    "d. 3–12: Rs.50.00 \n",
    "e. Under 3: Free \n",
    "Develop a solution to print the ticket charge given the age of the person.'''\n",
    "name=input('Enter your name: ')\n",
    "age=int(input('Enter your age: '))\n",
    "if age>=60:\n",
    "    admission_charge=100.00\n",
    "elif 21<=age<=59:\n",
    "    admission_charge=150.00\n",
    "elif 13<=age<=20:\n",
    "    admission_charge=100.00\n",
    "elif 3<=age<=12:\n",
    "    admission_charge=50.00\n",
    "else:\n",
    "     admission_charge=0.00\n",
    "print('--------- BIGBAZAR THEATRE -----------')\n",
    "print('Name-',name)\n",
    "print('Age-', age)\n",
    "print('Ticket charge- Rs', admission_charge)\n",
    "print('-------------------------------------')\n"
   ]
  },
  {
   "cell_type": "code",
   "execution_count": 1,
   "id": "2124d781",
   "metadata": {},
   "outputs": [
    {
     "name": "stdout",
     "output_type": "stream",
     "text": [
      "Hi there!!\n"
     ]
    }
   ],
   "source": [
    "print('Hi there!!')"
   ]
  },
  {
   "cell_type": "code",
   "execution_count": 5,
   "id": "ae0ca8d8",
   "metadata": {},
   "outputs": [
    {
     "name": "stdout",
     "output_type": "stream",
     "text": [
      "98\n"
     ]
    }
   ],
   "source": [
    "x= int(98.6)\n",
    "print(x)"
   ]
  },
  {
   "cell_type": "code",
   "execution_count": 2,
   "id": "698d6cbf",
   "metadata": {},
   "outputs": [
    {
     "name": "stdout",
     "output_type": "stream",
     "text": [
      "Enter Hours:45\n",
      "Enter Rate:10.50\n",
      "Pay 498.75\n"
     ]
    }
   ],
   "source": [
    "def computepay(h,r):\n",
    "    if h > 40 :\n",
    "        s = 40 * r\n",
    "        p = (h - 40.0) * (r * 1.5)\n",
    "        return (s + p)\n",
    "    else:\n",
    "        return (r * h)\n",
    "    \n",
    "hrs = input(\"Enter Hours:\")\n",
    "h = float(hrs)\n",
    "rate = input(\"Enter Rate:\")\n",
    "r = float(rate)\n",
    "print(\"Pay\",computepay(h,r))"
   ]
  },
  {
   "cell_type": "code",
   "execution_count": 10,
   "id": "b413fe4a",
   "metadata": {},
   "outputs": [
    {
     "name": "stdout",
     "output_type": "stream",
     "text": [
      "Enter Score: 0.85\n",
      "B\n"
     ]
    }
   ],
   "source": [
    "score = input(\"Enter Score: \")\n",
    "try:\n",
    "    s=float(score)\n",
    "except:\n",
    "    print('Not a decimal number!!')\n",
    "    quit()\n",
    "if(0.0>s>1.0):\n",
    "    print('Enter correct range!')\n",
    "    quit()\n",
    "elif(s>=0.9):\n",
    "    print('A')\n",
    "elif(s>=0.8):\n",
    "    print('B')\n",
    "elif(s>=0.7):\n",
    "    print('C')\n",
    "elif(s>=0.6):\n",
    "    print('D')\n",
    "elif(s<0.6):\n",
    "    print('F')\n",
    "    "
   ]
  },
  {
   "cell_type": "code",
   "execution_count": 1,
   "id": "afad1364",
   "metadata": {},
   "outputs": [
    {
     "name": "stdout",
     "output_type": "stream",
     "text": [
      "2\n"
     ]
    }
   ],
   "source": [
    "def addtwo(a, b):\n",
    "    added = a + b\n",
    "    return a\n",
    "\n",
    "x = addtwo(2, 7)\n",
    "print(x)"
   ]
  },
  {
   "cell_type": "code",
   "execution_count": 5,
   "id": "9616f197",
   "metadata": {},
   "outputs": [
    {
     "name": "stdout",
     "output_type": "stream",
     "text": [
      "Enter a number: 7\n",
      "Maximum None\n",
      "Minimum None\n"
     ]
    }
   ],
   "source": [
    "'''Write a program that repeatedly prompts a user for integer numbers until the user enters 'done'. \n",
    "Once 'done' is entered, print out the largest and smallest of the numbers. \n",
    "If the user enters anything other than a valid number catch it with a \n",
    "try/except and put out an appropriate message and ignore the number. \n",
    "Enter 7, 2, bob, 10, and 4 and match the output below.'''\n",
    "largest = None\n",
    "smallest = None\n",
    "while True:\n",
    "    num = input(\"Enter a number: \")\n",
    "    if num == \"done\":\n",
    "        break\n",
    "    try:\n",
    "        n=int(num)\n",
    "    except:\n",
    "        print('Invalid input!!')\n",
    "    break\n",
    "    if largest < n:\n",
    "        largest=n\n",
    "    if smallest > n:\n",
    "        smallest=n\n",
    "\n",
    "print(\"Maximum\", largest)\n",
    "print(\"Minimum\", smallest)"
   ]
  },
  {
   "cell_type": "code",
   "execution_count": 11,
   "id": "28779ea9",
   "metadata": {},
   "outputs": [
    {
     "name": "stdout",
     "output_type": "stream",
     "text": [
      "Enter a number: 7\n",
      "Enter a number: 2\n",
      "Enter a number: bob\n",
      "Invalid input\n",
      "Enter a number: 10\n",
      "Enter a number: 4\n",
      "Enter a number: done\n",
      "Maximum is 10\n",
      "Minimum is 2\n"
     ]
    }
   ],
   "source": [
    "largest = None\n",
    "smallest = None\n",
    "while True:\n",
    "    try:\n",
    "        num = input(\"Enter a number: \")\n",
    "        if (num == \"done\"):\n",
    "            break\n",
    "        num = int(num)\n",
    "        if largest is None or largest < num:\n",
    "            largest = num\n",
    "        elif smallest is None or smallest > num:\n",
    "            smallest = num\n",
    "    except :\n",
    "        print(\"Invalid input\")\n",
    "\n",
    "print (\"Maximum is\", largest)\n",
    "print (\"Minimum is\", smallest)"
   ]
  },
  {
   "cell_type": "code",
   "execution_count": 1,
   "id": "4547f2df",
   "metadata": {},
   "outputs": [
    {
     "name": "stdout",
     "output_type": "stream",
     "text": [
      "0\n"
     ]
    }
   ],
   "source": [
    "int1 = 10\n",
    "int2 = 6\n",
    "if int != int2:\n",
    "    int2 = ++int1\n",
    "    print(int1-int2)\n",
    "    "
   ]
  },
  {
   "cell_type": "code",
   "execution_count": null,
   "id": "83354fd8",
   "metadata": {},
   "outputs": [],
   "source": []
  }
 ],
 "metadata": {
  "kernelspec": {
   "display_name": "Python 3",
   "language": "python",
   "name": "python3"
  },
  "language_info": {
   "codemirror_mode": {
    "name": "ipython",
    "version": 3
   },
   "file_extension": ".py",
   "mimetype": "text/x-python",
   "name": "python",
   "nbconvert_exporter": "python",
   "pygments_lexer": "ipython3",
   "version": "3.8.8"
  }
 },
 "nbformat": 4,
 "nbformat_minor": 5
}
