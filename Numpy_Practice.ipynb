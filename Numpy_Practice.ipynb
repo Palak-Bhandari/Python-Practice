{
 "cells": [
  {
   "cell_type": "markdown",
   "metadata": {
    "id": "fMhTocXmWrZ7"
   },
   "source": [
    " # Questions on NumPy Array "
   ]
  },
  {
   "cell_type": "code",
   "execution_count": 27,
   "metadata": {
    "id": "3Qxb9l_LDxLB"
   },
   "outputs": [],
   "source": [
    "import numpy as np"
   ]
  },
  {
   "cell_type": "code",
   "execution_count": 28,
   "metadata": {
    "colab": {
     "base_uri": "https://localhost:8080/"
    },
    "id": "OQXNhMiiFsgd",
    "outputId": "e8c74c74-69b9-4a97-f380-875211fb51e8"
   },
   "outputs": [
    {
     "name": "stdout",
     "output_type": "stream",
     "text": [
      "Empty Array is\n",
      "[[         0 1075576832          0 1075314688]\n",
      " [         0 1075052544          0 1074790400]\n",
      " [         0 1074266112          0 1073741824]]\n",
      "\n",
      " Full Array is\n",
      "[[55 55 55]\n",
      " [55 55 55]\n",
      " [55 55 55]]\n"
     ]
    }
   ],
   "source": [
    "# Create a empty numpy array\n",
    "empa = np.empty((3, 4), dtype=int)\n",
    "print(\"Empty Array is\")\n",
    "print(empa)\n",
    "# Create a full numpy array\n",
    "flla = np.full([3, 3], 55, dtype=int)\n",
    "print(\"\\n Full Array is\")\n",
    "print(flla)"
   ]
  },
  {
   "cell_type": "code",
   "execution_count": 29,
   "metadata": {
    "colab": {
     "base_uri": "https://localhost:8080/"
    },
    "id": "C2afuXHqHoks",
    "outputId": "d10f79b9-1d44-4495-8d57-5d0a6fc18731"
   },
   "outputs": [
    {
     "name": "stdout",
     "output_type": "stream",
     "text": [
      "\n",
      "Matrix with all zeroes : \n",
      " [[0 0 0]\n",
      " [0 0 0]\n",
      " [0 0 0]]\n"
     ]
    }
   ],
   "source": [
    "# Python Program to create array with all zeroes\n",
    "allzero = np.zeros([3, 3], dtype = int) \n",
    "print(\"\\nMatrix with all zeroes : \\n\", allzero) "
   ]
  },
  {
   "cell_type": "code",
   "execution_count": 30,
   "metadata": {
    "colab": {
     "base_uri": "https://localhost:8080/"
    },
    "id": "pC927hlxH5ht",
    "outputId": "09d2b95c-1057-4804-aff2-7da63691ba78"
   },
   "outputs": [
    {
     "name": "stdout",
     "output_type": "stream",
     "text": [
      "\n",
      "Matrix with all zeroes : \n",
      " [[1 1 1]\n",
      " [1 1 1]\n",
      " [1 1 1]]\n"
     ]
    }
   ],
   "source": [
    "# Python Program to create array with all ones\n",
    "allone = np.ones([3, 3], dtype = int) \n",
    "print(\"\\nMatrix with all zeroes : \\n\", allone) "
   ]
  },
  {
   "cell_type": "code",
   "execution_count": 31,
   "metadata": {
    "colab": {
     "base_uri": "https://localhost:8080/"
    },
    "id": "PWB4xz6CIZ0J",
    "outputId": "917a572f-7c71-4ec2-8086-6e29421f1ef5"
   },
   "outputs": [
    {
     "name": "stdout",
     "output_type": "stream",
     "text": [
      "[[ 1  6 11 16]\n",
      " [ 2  7 12 17]\n",
      " [ 3  8 13 18]\n",
      " [ 4  9 14 19]]\n",
      "True\n",
      "False\n"
     ]
    }
   ],
   "source": [
    "# Check whether a Numpy array contains a specified row\n",
    "# Create numpy array\n",
    "arr = np.array([[1,6,11,16],\n",
    "                   [2,7,12,17],\n",
    "                   [3,8,13,18],\n",
    "                   [4,9,14,19]\n",
    "                   ])\n",
    "print(arr)\n",
    "# check for some lists\n",
    "print([2,7,12,17] in arr.tolist())\n",
    "print([1,2,3,4] in arr.tolist())"
   ]
  },
  {
   "cell_type": "code",
   "execution_count": 32,
   "metadata": {
    "colab": {
     "base_uri": "https://localhost:8080/"
    },
    "id": "_V2-iZZ3JIOc",
    "outputId": "08a82b82-dfa3-492e-e142-8add9faf8af1"
   },
   "outputs": [
    {
     "name": "stdout",
     "output_type": "stream",
     "text": [
      "Given array:\n",
      "[[10.5 22.5  3.8]\n",
      " [41.   nan  nan]]\n",
      "\n",
      "Remove all rows containing non-numeric elements\n",
      "[[10.5 22.5  3.8]]\n"
     ]
    }
   ],
   "source": [
    "# How to Remove rows in Numpy array that contains non-numeric values?\n",
    "# Creating 2X3 2-D Numpy array\n",
    "n_arr = np.array([[10.5, 22.5, 3.8],\n",
    "                  [41, np.nan, np.nan]])\n",
    "print(\"Given array:\")\n",
    "print(n_arr)\n",
    "print(\"\\nRemove all rows containing non-numeric elements\")\n",
    "print(n_arr[~np.isnan(n_arr).any(axis=1)])"
   ]
  },
  {
   "cell_type": "code",
   "execution_count": 33,
   "metadata": {
    "colab": {
     "base_uri": "https://localhost:8080/"
    },
    "id": "O5zhlnHHCwnd",
    "outputId": "53b26160-2628-4bc7-cd93-b97ba07cd14e"
   },
   "outputs": [
    {
     "name": "stdout",
     "output_type": "stream",
     "text": [
      "Shape of Input array:-  (1, 2, 3)\n",
      "output array :  [[2 2 2]\n",
      " [2 2 2]]\n",
      "Shape of output array is:  (2, 3)\n"
     ]
    }
   ],
   "source": [
    "# Removing single dimensional entries from the shape of an array\n",
    "in_array = np.array([[[2,2,2],[2,2,2]]])\n",
    "print('Shape of Input array:- ', in_array.shape)\n",
    "out_array = np.squeeze(in_array)\n",
    "print('output array : ',out_array)\n",
    "print('Shape of output array is: ',out_array.shape)\n"
   ]
  },
  {
   "cell_type": "code",
   "execution_count": 34,
   "metadata": {
    "colab": {
     "base_uri": "https://localhost:8080/"
    },
    "id": "hrV0vshTDL7k",
    "outputId": "3df219b6-37e3-49c2-dcb0-afd3e1364a72"
   },
   "outputs": [
    {
     "name": "stdout",
     "output_type": "stream",
     "text": [
      "3\n"
     ]
    }
   ],
   "source": [
    "# No.of occurence of a sequence in Numpy array\n",
    "array = np.array([[1,5,6,2],[4,5,6,2],[8,7,5,6],[9,8,7,0]])\n",
    "print(repr(array).count(\"5, 6\"))"
   ]
  },
  {
   "cell_type": "code",
   "execution_count": 35,
   "metadata": {
    "colab": {
     "base_uri": "https://localhost:8080/"
    },
    "id": "X8nmER-PDPKN",
    "outputId": "be96170f-cb99-4700-f6aa-a04ec9717f0c"
   },
   "outputs": [
    {
     "name": "stdout",
     "output_type": "stream",
     "text": [
      "original array:-  [1 2 2 5 4 1 2 2 2 6 8 2 2]\n",
      "Most frequent value in array is:-  2\n"
     ]
    }
   ],
   "source": [
    "# Most frequent value in Numpy array\n",
    "x = np.array([1,2,2,5,4,1,2,2,2,6,8,2,2])\n",
    "print('original array:- ',x)\n",
    "print('Most frequent value in array is:- ', np.bincount(x).argmax())"
   ]
  },
  {
   "cell_type": "code",
   "execution_count": 36,
   "metadata": {
    "colab": {
     "base_uri": "https://localhost:8080/"
    },
    "id": "f_uBho2hDSkF",
    "outputId": "d64e0e67-0561-4a12-e48c-44563ab188dd"
   },
   "outputs": [
    {
     "name": "stdout",
     "output_type": "stream",
     "text": [
      "[0 1 2 3 4]\n",
      "[[0 1 2 3 4]\n",
      " [5 6 7 8 9]]\n",
      "0 : 0\n",
      "1 : 1\n",
      "2 : 2\n",
      "3 : 3\n",
      "4 : 4\n",
      "0 : 5\n",
      "1 : 6\n",
      "2 : 7\n",
      "3 : 8\n",
      "4 : 9\n"
     ]
    }
   ],
   "source": [
    "# Combining array\n",
    "a = np.arange(5)\n",
    "b = np.arange(10).reshape(2,5)\n",
    "print(a)\n",
    "print(b)\n",
    "for x,y in np.nditer([a,b]):\n",
    "    print(\"%d : %d\" %(x,y),)"
   ]
  },
  {
   "cell_type": "code",
   "execution_count": 37,
   "metadata": {
    "colab": {
     "base_uri": "https://localhost:8080/"
    },
    "id": "hb_9DBOiDWW2",
    "outputId": "b3037a45-a07e-447b-8312-b6709cfb3d9e"
   },
   "outputs": [
    {
     "name": "stdout",
     "output_type": "stream",
     "text": [
      "[2 1 3] \n",
      " [5 1 6] \n",
      " [9 8]\n",
      "Combine array:- \n",
      "[[2 5 9]\n",
      " [2 1 9]\n",
      " [2 6 9]\n",
      " [1 5 9]\n",
      " [1 1 9]\n",
      " [1 6 9]\n",
      " [3 5 9]\n",
      " [3 1 9]\n",
      " [3 6 9]\n",
      " [2 5 8]\n",
      " [2 1 8]\n",
      " [2 6 8]\n",
      " [1 5 8]\n",
      " [1 1 8]\n",
      " [1 6 8]\n",
      " [3 5 8]\n",
      " [3 1 8]\n",
      " [3 6 8]]\n"
     ]
    }
   ],
   "source": [
    "# Combination of two numpy array\n",
    "array1 = np.array([2,1,3])\n",
    "array2 = np.array([5,1,6])\n",
    "array3 = np.array([9,8])\n",
    "print(array1,\"\\n\",array2,\"\\n\",array3)\n",
    "comb_array = np.array(np.meshgrid(array1,array2,array3)).T.reshape(-1,3)\n",
    "print('Combine array:- ')\n",
    "print(comb_array)"
   ]
  },
  {
   "cell_type": "code",
   "execution_count": 38,
   "metadata": {
    "colab": {
     "base_uri": "https://localhost:8080/"
    },
    "id": "XJxWsRYtDZDy",
    "outputId": "faff633c-ab2f-44a8-c689-e4bd36951716"
   },
   "outputs": [
    {
     "name": "stdout",
     "output_type": "stream",
     "text": [
      "array is:-  [[0 1 2]\n",
      " [3 4 5]\n",
      " [6 7 8]]\n",
      "array with border with 0\n",
      "[[0 0 0 0 0]\n",
      " [0 0 1 2 0]\n",
      " [0 3 4 5 0]\n",
      " [0 6 7 8 0]\n",
      " [0 0 0 0 0]]\n"
     ]
    }
   ],
   "source": [
    "# Adding border around numpy array\n",
    "a = np.arange(9).reshape(3,3)\n",
    "print('array is:- ',a)\n",
    "print('array with border with 0')\n",
    "a = np.pad(a,pad_width = 1,mode = 'constant',constant_values=0)\n",
    "print(a)"
   ]
  },
  {
   "cell_type": "code",
   "execution_count": 39,
   "metadata": {
    "colab": {
     "base_uri": "https://localhost:8080/"
    },
    "id": "PUIz_6QcDb7n",
    "outputId": "0eda2589-1127-43db-de2d-814b54351b79"
   },
   "outputs": [
    {
     "name": "stdout",
     "output_type": "stream",
     "text": [
      "True\n",
      "***********************\n",
      "Array a1:  [1 9 7]\n",
      "Array a2:  [10  8 54]\n",
      "a1 > a2\n",
      "[False  True False]\n",
      "a1 >= a2\n",
      "[False  True False]\n",
      "a1 < a2\n",
      "[ True False  True]\n",
      "a1 <= a2\n",
      "[ True False  True]\n"
     ]
    }
   ],
   "source": [
    "# Compare two array\n",
    "a1 = np.arange(10).reshape(2,5)\n",
    "a2 = np.arange(10).reshape(2,5)\n",
    "comparison = a1 == a2\n",
    "equal_array = comparison.all()\n",
    "print(equal_array)\n",
    "print('***********************')\n",
    "a1 = np.array([1, 9, 7])\n",
    "a2 = np.array([10, 8, 54])\n",
    " \n",
    "print(\"Array a1: \", a1)\n",
    "print(\"Array a2: \", a2)\n",
    " \n",
    "print(\"a1 > a2\")\n",
    "print(np.greater(a1, a2))\n",
    " \n",
    "print(\"a1 >= a2\")\n",
    "print(np.greater_equal(a1, a2))\n",
    " \n",
    "print(\"a1 < a2\")\n",
    "print(np.less(a1, a2))\n",
    " \n",
    "print(\"a1 <= a2\")\n",
    "print(np.less_equal(a1, a2))"
   ]
  },
  {
   "cell_type": "code",
   "execution_count": 40,
   "metadata": {
    "colab": {
     "base_uri": "https://localhost:8080/"
    },
    "id": "_B3ZTcAoDf8f",
    "outputId": "ae6f0a79-60c0-4c24-d08b-b987419b6e8b"
   },
   "outputs": [
    {
     "name": "stdout",
     "output_type": "stream",
     "text": [
      "array is:- [[1 5 6 2]\n",
      " [4 5 6 2]\n",
      " [8 7 5 6]\n",
      " [9 8 7 0]]\n",
      "True\n",
      "False\n"
     ]
    }
   ],
   "source": [
    "# Checking specific value is present in the array or not\n",
    "print('array is:-', array)\n",
    "print(5 in array)\n",
    "print(10 in array)"
   ]
  },
  {
   "cell_type": "code",
   "execution_count": 41,
   "metadata": {
    "colab": {
     "base_uri": "https://localhost:8080/"
    },
    "id": "EsDnSWN0DiOT",
    "outputId": "8aca9552-88b7-4544-9ef0-bca50730a860"
   },
   "outputs": [
    {
     "name": "stdout",
     "output_type": "stream",
     "text": [
      "Original 3d array:\n",
      " [[[ 0  1  2  3]\n",
      "  [ 4  5  6  7]\n",
      "  [ 8  9 10 11]\n",
      "  [12 13 14 15]]\n",
      "\n",
      " [[16 17 18 19]\n",
      "  [20 21 22 23]\n",
      "  [24 25 26 27]\n",
      "  [28 29 30 31]]\n",
      "\n",
      " [[32 33 34 35]\n",
      "  [36 37 38 39]\n",
      "  [40 41 42 43]\n",
      "  [44 45 46 47]]]\n",
      "2d diagonal array:\n",
      " [[ 0  5 10 15]\n",
      " [16 21 26 31]\n",
      " [32 37 42 47]]\n"
     ]
    }
   ],
   "source": [
    "# Get all 2D diagonals of 3D Numpy array\n",
    "arr = np.arange(3 * 4 * 4).reshape(3, 4, 4)\n",
    "print(\"Original 3d array:\\n\", arr)\n",
    "diagonal_Array = np.diagonal(arr,axis1 = 1,axis2 = 2)\n",
    "print(\"2d diagonal array:\\n\", diagonal_Array)"
   ]
  },
  {
   "cell_type": "code",
   "execution_count": 42,
   "metadata": {
    "colab": {
     "base_uri": "https://localhost:8080/"
    },
    "id": "SYPkju2EDkxB",
    "outputId": "aa5fa18c-628a-4bf0-ebc9-65f362e7fa06"
   },
   "outputs": [
    {
     "name": "stdout",
     "output_type": "stream",
     "text": [
      "[1 5 6 2 4 5 6 2 8 7 5 6 9 8 7 0]\n"
     ]
    }
   ],
   "source": [
    "# Flatten array in list\n",
    "flatten_Array = array.flatten()\n",
    "print(flatten_Array)"
   ]
  },
  {
   "cell_type": "code",
   "execution_count": 43,
   "metadata": {
    "colab": {
     "base_uri": "https://localhost:8080/"
    },
    "id": "hceeRQTuDnws",
    "outputId": "9200d107-a4c7-45d9-d17e-813b8f84212a"
   },
   "outputs": [
    {
     "name": "stdout",
     "output_type": "stream",
     "text": [
      "original array:-\n",
      " [[1 5 6 2]\n",
      " [4 5 6 2]\n",
      " [8 7 5 6]\n",
      " [9 8 7 0]]\n",
      "new 1D array:-  [1 5 6 2 4 5 6 2 8 7 5 6 9 8 7 0]\n"
     ]
    }
   ],
   "source": [
    "# Flatten 2D array into 1D array\n",
    "print('original array:-\\n',array)\n",
    "result = array.flatten()\n",
    "print('new 1D array:- ',result)"
   ]
  },
  {
   "cell_type": "code",
   "execution_count": 44,
   "metadata": {
    "colab": {
     "base_uri": "https://localhost:8080/"
    },
    "id": "MxjVJum2Dp7G",
    "outputId": "5b7b9b5d-09a3-4b5a-ae33-f8d20099460e"
   },
   "outputs": [
    {
     "name": "stdout",
     "output_type": "stream",
     "text": [
      "(2, 3, 4, 1)\n"
     ]
    }
   ],
   "source": [
    "# Moving axis\n",
    "arr = np.zeros((1,2,3,4))\n",
    "f_arr = np.moveaxis(arr,0,-1).shape\n",
    "print(f_arr)"
   ]
  },
  {
   "cell_type": "code",
   "execution_count": 45,
   "metadata": {
    "colab": {
     "base_uri": "https://localhost:8080/"
    },
    "id": "bh0zkHvgDsvG",
    "outputId": "71951d0d-9783-4ab6-ac13-ee17e8ce94c9"
   },
   "outputs": [
    {
     "name": "stdout",
     "output_type": "stream",
     "text": [
      "[[[0 4]\n",
      "  [2 6]]\n",
      "\n",
      " [[1 5]\n",
      "  [3 7]]]\n"
     ]
    }
   ],
   "source": [
    "# Interchange 2 axis of array\n",
    "arr = np.array([[[0, 1], [2, 3]], [[4, 5], [6, 7]]])\n",
    "result = np.swapaxes(arr, 0, 2)\n",
    "print (result)"
   ]
  },
  {
   "cell_type": "code",
   "execution_count": 46,
   "metadata": {
    "colab": {
     "base_uri": "https://localhost:8080/"
    },
    "id": "hFD-g5gdDvAK",
    "outputId": "8d53b8a1-1027-4d43-e5f5-22e3219a8e7b"
   },
   "outputs": [
    {
     "name": "stdout",
     "output_type": "stream",
     "text": [
      "Enter the value of n + 1'th number : 11\n",
      "The first 10 numbers of Fibonacci series are [ 1.  1.  2.  3.  5.  8. 13. 21. 34. 55.] . \n"
     ]
    }
   ],
   "source": [
    "# Fibonacci series using Binet Formula\n",
    "fNumber = int(input(\"Enter the value of n + 1'th number : \"))\n",
    "a = np.arange(1, fNumber)\n",
    "length_a = len(a)\n",
    "sqrt_five = np.sqrt(5)\n",
    "alpha = (1 + sqrt_five) / 2\n",
    "beta = (1 - sqrt_five) / 2\n",
    "Fn = np.rint(((alpha ** a) - (beta ** a)) / (sqrt_five))\n",
    "print(\"The first {} numbers of Fibonacci series are {} . \".format(length_a, Fn))"
   ]
  },
  {
   "cell_type": "code",
   "execution_count": 48,
   "metadata": {
    "colab": {
     "base_uri": "https://localhost:8080/"
    },
    "id": "2tMiZ8VvD3P8",
    "outputId": "0f6a166a-3f30-4dc7-e7b7-a2c317830221"
   },
   "outputs": [
    {
     "name": "stdout",
     "output_type": "stream",
     "text": [
      "array is:-\n",
      "\n",
      "[[1 2 3 4 5]\n",
      " [4 8 9 5 6]]\n",
      "10\n",
      "2\n",
      "5\n"
     ]
    }
   ],
   "source": [
    "# Number of element along the axis\n",
    "a = np.array([[1,2,3,4,5],[4,8,9,5,6]])\n",
    "print('array is:-\\n')\n",
    "print(a)\n",
    "print(np.size(a))\n",
    "print(np.size(a,0))\n",
    "print(np.size(a,1))"
   ]
  },
  {
   "cell_type": "code",
   "execution_count": 49,
   "metadata": {
    "colab": {
     "base_uri": "https://localhost:8080/"
    },
    "id": "D2SVFfBWD6Ys",
    "outputId": "9d0e27c9-574c-46ff-8881-e3587516adc3"
   },
   "outputs": [
    {
     "name": "stdout",
     "output_type": "stream",
     "text": [
      "[2 3 4 5 6 7]\n"
     ]
    }
   ],
   "source": [
    "# Trim leading and trailing zeros\n",
    "a = np.array([0,0,0,2,3,4,5,6,7,0,0,0])\n",
    "print(np.trim_zeros(a))"
   ]
  },
  {
   "cell_type": "code",
   "execution_count": 50,
   "metadata": {
    "colab": {
     "base_uri": "https://localhost:8080/"
    },
    "id": "vMhvYKlMD_mV",
    "outputId": "cba91e51-80dd-4fcc-8f78-80df4e15ecfd"
   },
   "outputs": [
    {
     "name": "stdout",
     "output_type": "stream",
     "text": [
      "int32\n",
      "[0. 0. 0. 2. 3. 4. 5. 6. 7. 0. 0. 0.]\n",
      "float64\n"
     ]
    }
   ],
   "source": [
    "# Change the datatype of the numpy array\n",
    "print(a.dtype)\n",
    "a = a.astype('float64')\n",
    "print(a)\n",
    "print(a.dtype)"
   ]
  },
  {
   "cell_type": "code",
   "execution_count": 51,
   "metadata": {
    "colab": {
     "base_uri": "https://localhost:8080/"
    },
    "id": "GDIgtGf-EC5e",
    "outputId": "0ad70bb4-e140-4d36-ee2f-3ecb2d524113"
   },
   "outputs": [
    {
     "name": "stdout",
     "output_type": "stream",
     "text": [
      "[0. 0. 0. 2. 3. 4. 5. 6. 7. 0. 0. 0.]\n",
      "reverse array is:-  [0. 0. 0. 7. 6. 5. 4. 3. 2. 0. 0. 0.]\n"
     ]
    }
   ],
   "source": [
    "# Reverse the numpy array\n",
    "print(a)\n",
    "print('reverse array is:- ',a[::-1])"
   ]
  },
  {
   "cell_type": "markdown",
   "metadata": {
    "id": "nTeTi8P8FODi"
   },
   "source": [
    "# Questions on NumPy Matrix \n"
   ]
  },
  {
   "cell_type": "code",
   "execution_count": 53,
   "metadata": {
    "colab": {
     "base_uri": "https://localhost:8080/"
    },
    "id": "QNQzIO66KKSs",
    "outputId": "72f7cc35-fe7b-4e1a-cb36-8514c6205650"
   },
   "outputs": [
    {
     "name": "stdout",
     "output_type": "stream",
     "text": [
      "9\n"
     ]
    }
   ],
   "source": [
    "# Get the maximum value from given matrix\n",
    "matrix1 = np.matrix('[1, 2, 3; 4, 5, 6; 7, 8, 9]')       \n",
    "matrix2 = matrix1.max() \n",
    "print(matrix2)"
   ]
  },
  {
   "cell_type": "code",
   "execution_count": 54,
   "metadata": {
    "colab": {
     "base_uri": "https://localhost:8080/"
    },
    "id": "BXiMS4-kKn4d",
    "outputId": "5f23ce69-a421-4f11-8e28-e34c308cfe4c"
   },
   "outputs": [
    {
     "name": "stdout",
     "output_type": "stream",
     "text": [
      "1\n"
     ]
    }
   ],
   "source": [
    "matrix1 = np.matrix('[1, 2, 3; 4, 5, 6; 7, 8, 9]')         \n",
    "matrix2 = matrix1.min()\n",
    "print(matrix2)"
   ]
  },
  {
   "cell_type": "code",
   "execution_count": 55,
   "metadata": {
    "colab": {
     "base_uri": "https://localhost:8080/"
    },
    "id": "EqFcsCitLA7N",
    "outputId": "d47cb402-b11c-4a0f-d841-0ad1d4ba3d53"
   },
   "outputs": [
    {
     "name": "stdout",
     "output_type": "stream",
     "text": [
      "(3, 3)\n",
      "()\n"
     ]
    }
   ],
   "source": [
    "# Number of rows and columns of the said matrix\n",
    "print(matrix1.shape)\n",
    "print(matrix2.shape)"
   ]
  },
  {
   "cell_type": "code",
   "execution_count": 56,
   "metadata": {
    "colab": {
     "base_uri": "https://localhost:8080/"
    },
    "id": "swlRhG2tLR-9",
    "outputId": "d92da5d5-36c4-4058-b043-928245cbfdff"
   },
   "outputs": [
    {
     "name": "stdout",
     "output_type": "stream",
     "text": [
      "[[1 3 5]]\n"
     ]
    }
   ],
   "source": [
    "# Select the elements from a given matrix\n",
    "matrix3 = np.matrix('[4, 1, 9; 12, 3, 1; 4, 5, 6]')     \n",
    "sel_matrix = matrix3.take(1, 1)   \n",
    "print(sel_matrix)"
   ]
  },
  {
   "cell_type": "code",
   "execution_count": 57,
   "metadata": {
    "colab": {
     "base_uri": "https://localhost:8080/"
    },
    "id": "wbQ4uvczMAY-",
    "outputId": "e79a98cd-bd36-49ec-bdbe-e112b4fb5e4e"
   },
   "outputs": [
    {
     "name": "stdout",
     "output_type": "stream",
     "text": [
      "45\n"
     ]
    }
   ],
   "source": [
    "#Find the sum of values in a matrix             \n",
    "sum_matrix = matrix3.sum()\n",
    "print(sum_matrix)"
   ]
  },
  {
   "cell_type": "code",
   "execution_count": 58,
   "metadata": {
    "colab": {
     "base_uri": "https://localhost:8080/"
    },
    "id": "o9JHCykLMWUa",
    "outputId": "12d3c000-dde5-4641-9c96-5fe554666eec"
   },
   "outputs": [
    {
     "name": "stdout",
     "output_type": "stream",
     "text": [
      "Numpy Matrix is:\n",
      "[[ 4  1  9]\n",
      " [12  3  1]\n",
      " [ 4  5  6]]\n",
      "\n",
      "Trace (diagonal sum ) of given 3X3 matrix:\n",
      "13\n",
      "\n",
      " Printing sum of diagonla elements 2nd method\n",
      "\n",
      "Diagonal elements are:\n",
      "[4 3 6]\n",
      "\n",
      "Sum of Diagonal elements is:\n",
      "13\n"
     ]
    }
   ],
   "source": [
    "# Calculate the sum of the diagonal elements of a NumPy array\n",
    "# Displaying the Matrix\n",
    "print(\"Numpy Matrix is:\")\n",
    "print(matrix3)\n",
    "# Calculating the Trace of a matrix\n",
    "diag_sum_matrix = np.trace(matrix3)\n",
    "print(\"\\nTrace (diagonal sum ) of given 3X3 matrix:\")\n",
    "print(diag_sum_matrix)\n",
    "# Method 2\n",
    "print(\"\\n Printing sum of diagonla elements 2nd method\")\n",
    "diag_mat = np.diagonal(matrix3)\n",
    "print(\"\\nDiagonal elements are:\")\n",
    "print(diag_mat)\n",
    "print(\"\\nSum of Diagonal elements is:\")\n",
    "print(sum(diag_mat))"
   ]
  },
  {
   "cell_type": "code",
   "execution_count": 132,
   "metadata": {
    "colab": {
     "base_uri": "https://localhost:8080/"
    },
    "id": "rws3keXiNNBt",
    "outputId": "70d53247-9b06-44fb-ca56-80a264e38fae"
   },
   "outputs": [
    {
     "name": "stdout",
     "output_type": "stream",
     "text": [
      "Printing elements of first matrix\n",
      "[[1 2 3]\n",
      " [4 5 6]\n",
      " [7 8 9]]\n",
      "Printing elements of second matrix\n",
      "[[ 4  1  9]\n",
      " [12  3  1]\n",
      " [ 4  5  6]]\n",
      "Addition of two matrix\n",
      "[[ 5  3 12]\n",
      " [16  8  7]\n",
      " [11 13 15]]\n"
     ]
    }
   ],
   "source": [
    "# Adding and Subtracting Matrices \n",
    "matrix1 = np.matrix('[1, 2, 3; 4, 5, 6; 7, 8, 9]')   \n",
    "print(\"Printing elements of first matrix\")\n",
    "print(matrix1)\n",
    "print(\"Printing elements of second matrix\")\n",
    "print(matrix3)\n",
    "  \n",
    "print(\"Addition of two matrix\")\n",
    "print(np.add(matrix1, matrix3))"
   ]
  },
  {
   "cell_type": "code",
   "execution_count": 60,
   "metadata": {
    "colab": {
     "base_uri": "https://localhost:8080/"
    },
    "id": "pjBV-0A6NoPu",
    "outputId": "c263be3e-e42e-4dab-9c62-7141877b12cb"
   },
   "outputs": [
    {
     "name": "stdout",
     "output_type": "stream",
     "text": [
      "initial_array :  [[1 2 3]\n",
      " [4 5 6]\n",
      " [7 8 9]]\n",
      "column_to_be_added: [1 2 3]\n",
      "resultant array [[1 2 3 1]\n",
      " [4 5 6 2]\n",
      " [7 8 9 3]]\n"
     ]
    }
   ],
   "source": [
    "# Ways to add row/columns in numpy array\n",
    "print(\"initial_array : \", str(matrix1));\n",
    "column_to_be_added = np.array([1, 2, 3])\n",
    "print(\"column_to_be_added:\",column_to_be_added)\n",
    " \n",
    "# Adding column to numpy array\n",
    "result = np.hstack((matrix1, np.atleast_2d(column_to_be_added).T))\n",
    "print (\"resultant array\", str(result))"
   ]
  },
  {
   "cell_type": "code",
   "execution_count": 61,
   "metadata": {
    "colab": {
     "base_uri": "https://localhost:8080/"
    },
    "id": "AzawBSjvOkdP",
    "outputId": "63dbbbf9-b455-4cef-ad41-462eaf2d2780"
   },
   "outputs": [
    {
     "name": "stdout",
     "output_type": "stream",
     "text": [
      "Matrix 1 :\n",
      "[[1 2 3]\n",
      " [4 5 6]\n",
      " [7 8 9]]\n",
      "Matrix 2 :\n",
      "[[ 4  1  9]\n",
      " [12  3  1]\n",
      " [ 4  5  6]]\n",
      "The matrix multiplication is :\n",
      "[[ 40  22  29]\n",
      " [100  49  77]\n",
      " [160  76 125]]\n"
     ]
    }
   ],
   "source": [
    "# Matrix multiplication\n",
    "print(\"Matrix 1 :\")\n",
    "print(matrix1)\n",
    "print(\"Matrix 2 :\")\n",
    "print(matrix3)\n",
    "  \n",
    "result = np.dot(matrix1, matrix3)\n",
    "print(\"The matrix multiplication is :\")\n",
    "print(result)"
   ]
  },
  {
   "cell_type": "code",
   "execution_count": 62,
   "metadata": {
    "colab": {
     "base_uri": "https://localhost:8080/"
    },
    "id": "a8JtA6n1O6cO",
    "outputId": "de404989-fd0e-4338-cf39-2674888ece3c"
   },
   "outputs": [
    {
     "name": "stdout",
     "output_type": "stream",
     "text": [
      "[14.82527413+0.j        -0.91263707+5.2179769j -0.91263707-5.2179769j]\n"
     ]
    }
   ],
   "source": [
    "# Get eigen values of a matrix\n",
    "from numpy import linalg as LA\n",
    "# np.eigvals() method\n",
    "eigen_values = LA.eigvals(matrix3)\n",
    "print(eigen_values)"
   ]
  },
  {
   "cell_type": "code",
   "execution_count": 63,
   "metadata": {
    "colab": {
     "base_uri": "https://localhost:8080/"
    },
    "id": "k1kgvt0iPYFA",
    "outputId": "652bea06-d1c8-4866-b581-9899fe0dbc19"
   },
   "outputs": [
    {
     "name": "stdout",
     "output_type": "stream",
     "text": [
      "Numpy Matrix is:\n",
      "[[ 4  1  9]\n",
      " [12  3  1]\n",
      " [ 4  5  6]]\n",
      "\n",
      "Determinant of given 3X3 matrix:\n",
      "416\n"
     ]
    }
   ],
   "source": [
    "# Calculate the determinant of a matrix using NumPy\n",
    "print(\"Numpy Matrix is:\")\n",
    "print(matrix3)\n",
    "  \n",
    "# Calculating the determinant of matrix\n",
    "det = np.linalg.det(matrix3)\n",
    "print(\"\\nDeterminant of given 3X3 matrix:\")\n",
    "print(int(det))"
   ]
  },
  {
   "cell_type": "code",
   "execution_count": 64,
   "metadata": {
    "colab": {
     "base_uri": "https://localhost:8080/"
    },
    "id": "TblCJLgOPyWT",
    "outputId": "d2a27521-0ea9-4e1f-95b0-9c1630e25990"
   },
   "outputs": [
    {
     "name": "stdout",
     "output_type": "stream",
     "text": [
      "[[ 3.12500000e-02  9.37500000e-02 -6.25000000e-02]\n",
      " [-1.63461538e-01 -2.88461538e-02  2.50000000e-01]\n",
      " [ 1.15384615e-01 -3.84615385e-02 -1.60128321e-18]]\n"
     ]
    }
   ],
   "source": [
    "# Inverse a matrix using NumPy\n",
    "print(np.linalg.inv(matrix3))"
   ]
  },
  {
   "cell_type": "code",
   "execution_count": 65,
   "metadata": {
    "colab": {
     "base_uri": "https://localhost:8080/"
    },
    "id": "Fu2mP8djQFk9",
    "outputId": "92f6efb0-a2f3-4aac-8b29-8a02f647ed76"
   },
   "outputs": [
    {
     "name": "stdout",
     "output_type": "stream",
     "text": [
      "Unique Values: [  5   8   9 301 302]\n",
      "Frequency Values: [1 2 1 2 2]\n"
     ]
    }
   ],
   "source": [
    "# Count the frequency of unique values in NumPy array\n",
    "initial_array = np.array([301, 302, 5,301, 8, 302, 8, 9])\n",
    "unique_element, frequency_of_unique_element = np.unique(initial_array, return_counts = True)\n",
    "print(\"Unique Values:\",unique_element)\n",
    "print(\"Frequency Values:\",frequency_of_unique_element)"
   ]
  },
  {
   "cell_type": "code",
   "execution_count": 66,
   "metadata": {
    "colab": {
     "base_uri": "https://localhost:8080/"
    },
    "id": "81b94cOZSIiM",
    "outputId": "0aa12196-94ac-4925-c810-0814bf474f57"
   },
   "outputs": [
    {
     "name": "stdout",
     "output_type": "stream",
     "text": [
      "Printing First complex matrix:\n",
      "[7.+6.j 3.+1.j]\n",
      "Printing Second complex matrix:\n",
      "[11.+7.j  4.+6.j]\n",
      "Product of first and second matrices are:\n",
      "(137-3j)\n"
     ]
    }
   ],
   "source": [
    "# Multiply matrices of complex numbers using NumPy\n",
    "complex_mat1 = np.array([7+6j, 3+1j])\n",
    "print(\"Printing First complex matrix:\")\n",
    "print(complex_mat1)\n",
    "  \n",
    "complex_mat2 = np.array([11+7j, 4+6j])\n",
    "print(\"Printing Second complex matrix:\")\n",
    "print(complex_mat2)\n",
    "  \n",
    "# vector dot product of two matrices\n",
    "complex_reult_mat = np.vdot(complex_mat1, complex_mat2)\n",
    "print(\"Product of first and second matrices are:\")\n",
    "print(complex_reult_mat)"
   ]
  },
  {
   "cell_type": "code",
   "execution_count": 67,
   "metadata": {
    "colab": {
     "base_uri": "https://localhost:8080/"
    },
    "id": "OJ8hDShGT0QA",
    "outputId": "ab18be48-a1d3-431b-aa0c-bed96a919e91"
   },
   "outputs": [
    {
     "name": "stdout",
     "output_type": "stream",
     "text": [
      "Vectors :\n",
      "a =  [2 6]\n",
      "\n",
      "b =  [ 3 10]\n",
      "\n",
      "Inner product of vectors a and b =\n",
      "66\n",
      "\n",
      "Outer product of vectors a and b =\n",
      "[[ 6 20]\n",
      " [18 60]]\n",
      "\n",
      "cross product of vectors a and b =\n",
      "2\n",
      "---------------------------------------\n",
      "\n",
      "Matrices :\n",
      "x = [[2 3 4]\n",
      " [3 2 9]]\n",
      "\n",
      "y = [[ 1  5  0]\n",
      " [ 5 10  3]]\n",
      "\n",
      "Inner product of matrices x and y =\n",
      "[[17 52]\n",
      " [13 62]]\n",
      "\n",
      "outer product of matrices x and y =\n",
      "[[ 2 10  0 10 20  6]\n",
      " [ 3 15  0 15 30  9]\n",
      " [ 4 20  0 20 40 12]\n",
      " [ 3 15  0 15 30  9]\n",
      " [ 2 10  0 10 20  6]\n",
      " [ 9 45  0 45 90 27]]\n",
      "\n",
      "cross product of matrices x and y =\n",
      "[[-20   4   7]\n",
      " [-84  36  20]]\n"
     ]
    }
   ],
   "source": [
    "# Calculate inner, outer, and cross products of matrices and vectors using NumPy\n",
    "# Python Program illustrating\n",
    "\n",
    "# Vectors\n",
    "a = np.array([2, 6])\n",
    "b = np.array([3, 10])\n",
    "print(\"Vectors :\")\n",
    "print(\"a = \", a)\n",
    "print(\"\\nb = \", b)\n",
    "\n",
    "# Inner Product of Vectors\n",
    "print(\"\\nInner product of vectors a and b =\")\n",
    "print(np.inner(a, b))\n",
    "\n",
    "# Outer product of vectors \n",
    "print(\"\\nOuter product of vectors a and b =\")\n",
    "print(np.outer(a, b))\n",
    "\n",
    "# cross product of vectors \n",
    "print(\"\\ncross product of vectors a and b =\")\n",
    "print(np.cross(a, b))\n",
    "\n",
    "print(\"---------------------------------------\")\n",
    "\n",
    "# Matrices\n",
    "x = np.array([[2, 3, 4], [3, 2, 9]])\n",
    "y = np.array([[1, 5, 0], [5, 10, 3]])\n",
    "print(\"\\nMatrices :\")\n",
    "print(\"x =\", x)\n",
    "print(\"\\ny =\", y)\n",
    "\n",
    "# Inner product of matrices\n",
    "print(\"\\nInner product of matrices x and y =\")\n",
    "print(np.inner(x, y))\n",
    "\n",
    "# outer product of matrices\n",
    "print(\"\\nouter product of matrices x and y =\")\n",
    "print(np.outer(x, y))\n",
    "\n",
    "# cross product of matrices\n",
    "print(\"\\ncross product of matrices x and y =\")\n",
    "print(np.cross(x, y))"
   ]
  },
  {
   "cell_type": "code",
   "execution_count": 68,
   "metadata": {
    "colab": {
     "base_uri": "https://localhost:8080/"
    },
    "id": "lBSpTF-4WnJO",
    "outputId": "4f71cb7b-de1a-4581-c992-723e1ac51a86"
   },
   "outputs": [
    {
     "name": "stdout",
     "output_type": "stream",
     "text": [
      "[0 1 1]\n",
      "[2 2 1]\n",
      "\n",
      "Covariance matrix of the said arrays:\n",
      " [[ 0.33333333 -0.16666667]\n",
      " [-0.16666667  0.33333333]]\n"
     ]
    }
   ],
   "source": [
    "# Compute the covariance matrix of two given NumPy arrays\n",
    "array1 = np.array([0, 1, 1])\n",
    "array2 = np.array([2, 2, 1])\n",
    "  \n",
    "# Original array1\n",
    "print(array1)\n",
    "  \n",
    "# Original array2\n",
    "print(array2)\n",
    "  \n",
    "# Covariance matrix\n",
    "print(\"\\nCovariance matrix of the said arrays:\\n\",\n",
    "      np.cov(array1, array2))"
   ]
  },
  {
   "cell_type": "code",
   "execution_count": 69,
   "metadata": {
    "colab": {
     "base_uri": "https://localhost:8080/"
    },
    "id": "yNfWEx9RXUHN",
    "outputId": "71ac5a17-14cc-4ad8-fb4b-a4a88b619928"
   },
   "outputs": [
    {
     "name": "stdout",
     "output_type": "stream",
     "text": [
      "Array1:\n",
      " [[1 2]\n",
      " [3 4]]\n",
      "\n",
      "Array2:\n",
      " [[5 6]\n",
      " [7 8]]\n",
      "\n",
      "Array1 ⊗ Array2:\n",
      "[[ 5  6 10 12]\n",
      " [ 7  8 14 16]\n",
      " [15 18 20 24]\n",
      " [21 24 28 32]]\n"
     ]
    }
   ],
   "source": [
    "# Compute the Kronecker product of two mulitdimensionNumPy arrays\n",
    "# Creating arrays\n",
    "array1 = np.array([[1, 2], [3, 4]])\n",
    "print('Array1:\\n', array1)\n",
    " \n",
    "array2 = np.array([[5, 6], [7, 8]])\n",
    "print('\\nArray2:\\n', array2)\n",
    " \n",
    "# Computing the Kronecker Product\n",
    "kroneckerProduct = np.kron(array1, array2)\n",
    "print('\\nArray1 ⊗ Array2:')\n",
    "print(kroneckerProduct)"
   ]
  },
  {
   "cell_type": "code",
   "execution_count": 70,
   "metadata": {
    "colab": {
     "base_uri": "https://localhost:8080/"
    },
    "id": "kw5Qi6akXlKh",
    "outputId": "cfa10d4c-27c9-449f-f4e2-7ab528c0c8ed"
   },
   "outputs": [
    {
     "name": "stdout",
     "output_type": "stream",
     "text": [
      "[[4, 1, 9], [12, 3, 1], [4, 5, 6]]\n"
     ]
    }
   ],
   "source": [
    "# Convert the matrix into a list          \n",
    "# applying matrix.tolist() method\n",
    "matrix_to_list = matrix3.tolist()  \n",
    "print(matrix_to_list)"
   ]
  },
  {
   "cell_type": "markdown",
   "metadata": {
    "id": "aKj69T73FYNo"
   },
   "source": [
    "# Questions on NumPyIndexing\n"
   ]
  },
  {
   "cell_type": "code",
   "execution_count": 71,
   "metadata": {
    "colab": {
     "base_uri": "https://localhost:8080/"
    },
    "id": "coEeRwQuBaAa",
    "outputId": "0377b405-77d2-46f2-f99f-372f68038e2e"
   },
   "outputs": [
    {
     "name": "stdout",
     "output_type": "stream",
     "text": [
      "array is:-  [65 12  3  2 23 41 52 10 96  1 87]\n",
      "array after replacing element:-  [100  12   3   2  23  41 100  10 100   1 100]\n",
      "[ 0 12  3  2  0  0  0 10  0  1  0]\n"
     ]
    }
   ],
   "source": [
    "# Replace numpy element with specific condition\n",
    "a = np.array([65,12,3,2,23,41,52,10,96,1,87])\n",
    "print('array is:- ',a)\n",
    "a[a>50] = 100\n",
    "print('array after replacing element:- ',a)\n",
    "\n",
    "print(np.where(a>20,0,a))"
   ]
  },
  {
   "cell_type": "code",
   "execution_count": 72,
   "metadata": {
    "colab": {
     "base_uri": "https://localhost:8080/"
    },
    "id": "FTnHgQuZGIf9",
    "outputId": "94e4f436-354e-4dd8-9d5b-5ffeb11b3c91"
   },
   "outputs": [
    {
     "name": "stdout",
     "output_type": "stream",
     "text": [
      "initial array [[1.3 2.5 3.6 nan]\n",
      " [2.6 3.3 nan 5.5]\n",
      " [2.1 3.2 5.4 6.5]]\n",
      "columns mean [2.  3.  4.5 6. ]\n",
      "final array [[1.3 2.5 3.6 6. ]\n",
      " [2.6 3.3 4.5 5.5]\n",
      " [2.1 3.2 5.4 6.5]]\n",
      "********************************\n",
      "initial array [[1.3 2.5 3.6 nan]\n",
      " [2.6 3.3 nan 5.5]\n",
      " [2.1 3.2 5.4 6.5]]\n",
      "final array [[1.3 2.5 3.6 6. ]\n",
      " [2.6 3.3 4.5 5.5]\n",
      " [2.1 3.2 5.4 6.5]]\n"
     ]
    }
   ],
   "source": [
    "#Replace NaN values with average of columns\n",
    "ini_array = np.array([[1.3, 2.5, 3.6, np.nan], \n",
    "                      [2.6, 3.3, np.nan, 5.5],\n",
    "                      [2.1, 3.2, 5.4, 6.5]])\n",
    "print (\"initial array\", ini_array)\n",
    "col_mean = np.nanmean(ini_array, axis = 0)\n",
    "print (\"columns mean\", str(col_mean))\n",
    "inds = np.where(np.isnan(ini_array))\n",
    "ini_array[inds] = np.take(col_mean, inds[1])\n",
    "print (\"final array\", ini_array)\n",
    "print('********************************')\n",
    "\n",
    "#Method 2\n",
    "ini_array = np.array([[1.3, 2.5, 3.6, np.nan],\n",
    "                      [2.6, 3.3, np.nan, 5.5],\n",
    "                      [2.1, 3.2, 5.4, 6.5]])\n",
    "print (\"initial array\", ini_array)\n",
    "res = np.where(np.isnan(ini_array), np.ma.array(ini_array, mask = np.isnan(ini_array)).mean(axis = 0), ini_array)    \n",
    "print (\"final array\", res)"
   ]
  },
  {
   "cell_type": "code",
   "execution_count": 73,
   "metadata": {
    "colab": {
     "base_uri": "https://localhost:8080/"
    },
    "id": "x19BGqRkGYr_",
    "outputId": "8a4699bb-f541-4752-be51-9ef84ad2803e"
   },
   "outputs": [
    {
     "name": "stdout",
     "output_type": "stream",
     "text": [
      "Array:-  [1 2 0 0 4 5 0 3 0 8 0 9]\n",
      "Indices of element equal to 0 method 1:-  (array([ 2,  3,  6,  8, 10], dtype=int64),)\n",
      "Indices of element equal to 0 method 2:-  [[ 2]\n",
      " [ 3]\n",
      " [ 6]\n",
      " [ 8]\n",
      " [10]]\n",
      "Indices of element equal to 0 method 3:-  (array([ 2,  3,  6,  8, 10], dtype=int64),)\n"
     ]
    }
   ],
   "source": [
    "# Find indices of elements equal to zero in a NumPy array\n",
    "a = np.array([1,2,0,0,4,5,0,3,0,8,0,9])\n",
    "print('Array:- ',a)\n",
    "res = np.where(a==0)\n",
    "print('Indices of element equal to 0 method 1:- ',res)\n",
    "res2 = np.argwhere(a==0)\n",
    "print('Indices of element equal to 0 method 2:- ',res2)\n",
    "res3 = np.nonzero(a==0)\n",
    "print('Indices of element equal to 0 method 3:- ',res3)"
   ]
  },
  {
   "cell_type": "code",
   "execution_count": 74,
   "metadata": {
    "colab": {
     "base_uri": "https://localhost:8080/"
    },
    "id": "Qndz4jQqGhUV",
    "outputId": "5bf443a0-b855-4179-e54d-789026ae1275"
   },
   "outputs": [
    {
     "name": "stdout",
     "output_type": "stream",
     "text": [
      "[[ 1.  2.  3.]\n",
      " [41. nan nan]]\n",
      "array after removing non numeric values:-\n",
      "[[1. 2. 3.]]\n"
     ]
    }
   ],
   "source": [
    "# Removing rows in numpy array with non numeric values\n",
    "n_arr = np.array([[1,2,3],[41,np.nan,np.nan]])\n",
    "print(n_arr)\n",
    "print('array after removing non numeric values:-')\n",
    "print(n_arr[~np.isnan(n_arr).any(axis=1)])"
   ]
  },
  {
   "cell_type": "code",
   "execution_count": 75,
   "metadata": {
    "colab": {
     "base_uri": "https://localhost:8080/"
    },
    "id": "qo6_JUXiGjdy",
    "outputId": "97805694-b14b-4afe-8a10-b353f8990c5c"
   },
   "outputs": [
    {
     "name": "stdout",
     "output_type": "stream",
     "text": [
      "array is:- [[1 2 3 4 5]\n",
      " [4 8 9 5 6]]\n",
      "True\n",
      "False\n"
     ]
    }
   ],
   "source": [
    "# Checking specific value is present in the array or not\n",
    "array = np.array([[1, 2, 3, 4, 5],[4, 8, 9, 5, 6]])\n",
    "print('array is:-', array)\n",
    "print(5 in array)\n",
    "print(10 in array)"
   ]
  },
  {
   "cell_type": "code",
   "execution_count": 76,
   "metadata": {
    "colab": {
     "base_uri": "https://localhost:8080/"
    },
    "id": "A2b3ehucGnSD",
    "outputId": "19a1c8c6-8974-4b3c-9605-8d34fa4c0f51"
   },
   "outputs": [
    {
     "name": "stdout",
     "output_type": "stream",
     "text": [
      "[[[1 8]\n",
      "  [2 9]\n",
      "  [3 7]\n",
      "  [4 4]]]\n"
     ]
    }
   ],
   "source": [
    "# Combining array index by index\n",
    "a = np.array([1,2,3,4])\n",
    "b = np.array([8,9,7,4])\n",
    "print(np.dstack((a, b)))"
   ]
  },
  {
   "cell_type": "markdown",
   "metadata": {
    "id": "aAFiJdF-Ffxm"
   },
   "source": [
    "# Questions on numpy Linear Algebra\n"
   ]
  },
  {
   "cell_type": "code",
   "execution_count": 77,
   "metadata": {
    "colab": {
     "base_uri": "https://localhost:8080/"
    },
    "id": "E3oAhrlZFjl9",
    "outputId": "a4cacb79-7dd8-46e3-81ae-62308eb5ee82"
   },
   "outputs": [
    {
     "name": "stdout",
     "output_type": "stream",
     "text": [
      "Vector norm:\n",
      "16.881943016134134\n",
      "Matrix norm:\n",
      "9.539392014169456\n"
     ]
    }
   ],
   "source": [
    "# Matrix or vector norm using NumPy\n",
    "\n",
    "vec = np.arange(10)\n",
    "vec_norm = np.linalg.norm(vec)\n",
    "print(\"Vector norm:\")\n",
    "print(vec_norm)\n",
    "mat = np.array([[ 1, 2, 3],\n",
    "               [4, 5, 6]])\n",
    "mat_norm = np.linalg.norm(mat)\n",
    "print(\"Matrix norm:\")\n",
    "print(mat_norm)"
   ]
  },
  {
   "cell_type": "code",
   "execution_count": 78,
   "metadata": {
    "colab": {
     "base_uri": "https://localhost:8080/"
    },
    "id": "huG9vWg6GwYH",
    "outputId": "159c6a4f-8410-4b3c-e082-0ac5f44135c3"
   },
   "outputs": [
    {
     "name": "stdout",
     "output_type": "stream",
     "text": [
      "[[1 2 3]\n",
      " [3 4 5]]\n",
      "\n",
      "Q:\n",
      " [[-0.31622777 -0.9486833 ]\n",
      " [-0.9486833   0.31622777]]\n",
      "\n",
      "R:\n",
      " [[-3.16227766 -4.42718872 -5.69209979]\n",
      " [ 0.         -0.63245553 -1.26491106]]\n"
     ]
    }
   ],
   "source": [
    "# Calculate the QR decomposition of a given matrix using NumPy\n",
    "matrix1 = np.array([[1, 2, 3], [3, 4, 5]])\n",
    "print(matrix1)\n",
    "q, r = np.linalg.qr(matrix1)\n",
    "print('\\nQ:\\n', q)\n",
    "print('\\nR:\\n', r)"
   ]
  },
  {
   "cell_type": "code",
   "execution_count": 79,
   "metadata": {
    "colab": {
     "base_uri": "https://localhost:8080/"
    },
    "id": "Mg4NpIviGzjW",
    "outputId": "4850dad0-9ca0-4cbc-cae2-63b00596acd2"
   },
   "outputs": [
    {
     "name": "stdout",
     "output_type": "stream",
     "text": [
      "Original matrix:\n",
      "[[4 2]\n",
      " [3 1]]\n",
      "Condition number of the matrix:\n",
      "14.933034373659254\n"
     ]
    }
   ],
   "source": [
    "# Compute the condition number of a given matrix using NumPy\n",
    "\n",
    "matrix = np.array([[4, 2], [3, 1]]) \n",
    "print(\"Original matrix:\")\n",
    "print(matrix) \n",
    "result =  np.linalg.cond(matrix) \n",
    "print(\"Condition number of the matrix:\")\n",
    "print(result)"
   ]
  },
  {
   "cell_type": "code",
   "execution_count": 80,
   "metadata": {
    "colab": {
     "base_uri": "https://localhost:8080/"
    },
    "id": "aAxFqJ-SG2Fk",
    "outputId": "f15ff22f-4ad5-4acd-fa29-58cfc84fb03c"
   },
   "outputs": [
    {
     "name": "stdout",
     "output_type": "stream",
     "text": [
      "Eigen values:- \n",
      " [ 5.37228132 -0.37228132]\n",
      "Eigen Vector:- \n",
      " [[ 0.82456484 -0.41597356]\n",
      " [ 0.56576746  0.90937671]]\n"
     ]
    }
   ],
   "source": [
    "# Eigenvalues and right eigenvectors of a given square array using NumPY\n",
    "w, v = np.linalg.eig(matrix)\n",
    "print('Eigen values:- \\n',w)\n",
    "print('Eigen Vector:- \\n',v)"
   ]
  },
  {
   "cell_type": "code",
   "execution_count": 81,
   "metadata": {
    "colab": {
     "base_uri": "https://localhost:8080/"
    },
    "id": "VdwCvAliG4gD",
    "outputId": "87aefb6c-4069-470e-a59b-6861286c9ac7"
   },
   "outputs": [
    {
     "name": "stdout",
     "output_type": "stream",
     "text": [
      "2.23606797749979\n"
     ]
    }
   ],
   "source": [
    "# Euclidean distance using NumPy\n",
    "point1 = np.array((1, 2, 3))\n",
    "point2 = np.array((1, 1, 1))\n",
    "dist = np.linalg.norm(point1 - point2)\n",
    "print(dist)"
   ]
  },
  {
   "cell_type": "markdown",
   "metadata": {
    "id": "NwByFneEFgWl"
   },
   "source": [
    "# Questions on NumPy Random\n"
   ]
  },
  {
   "cell_type": "code",
   "execution_count": 82,
   "metadata": {
    "id": "Hgst2ULvHoJ0"
   },
   "outputs": [],
   "source": [
    "import random"
   ]
  },
  {
   "cell_type": "code",
   "execution_count": 83,
   "metadata": {
    "colab": {
     "base_uri": "https://localhost:8080/"
    },
    "id": "FEjtFW8FRk55",
    "outputId": "aa1aeffd-7f1e-4f2f-9a77-df6202a628e5"
   },
   "outputs": [
    {
     "name": "stdout",
     "output_type": "stream",
     "text": [
      "[[ 40  22  29]\n",
      " [100  49  77]\n",
      " [160  76 125]]\n"
     ]
    }
   ],
   "source": [
    "# Create an numpy array with random values\n",
    "arr = np.empty([3,3],dtype=int)\n",
    "print(arr)"
   ]
  },
  {
   "cell_type": "code",
   "execution_count": 84,
   "metadata": {
    "colab": {
     "base_uri": "https://localhost:8080/"
    },
    "id": "yVwwQGiYRnLp",
    "outputId": "4f86cb5a-4365-490a-9334-f369f85817c7"
   },
   "outputs": [
    {
     "name": "stdout",
     "output_type": "stream",
     "text": [
      "[300, 400, 500, 200, 300]\n"
     ]
    }
   ],
   "source": [
    "# How to get weighted random choice in python\n",
    "sample = [100,200,300,400,500]\n",
    "randomlist = random.choices(sample,weights=(10,20,30,40,50),k=5)\n",
    "print(randomlist)"
   ]
  },
  {
   "cell_type": "code",
   "execution_count": 85,
   "metadata": {
    "colab": {
     "base_uri": "https://localhost:8080/",
     "height": 265
    },
    "id": "LUKJNr8tRpnR",
    "outputId": "90fef181-c4e8-43e1-9480-e6fa377fe80a"
   },
   "outputs": [
    {
     "data": {
      "image/png": "[encoded data removed]",
      "text/plain": [
       "<Figure size 432x288 with 1 Axes>"
      ]
     },
     "metadata": {
      "needs_background": "light"
     },
     "output_type": "display_data"
    }
   ],
   "source": [
    "# Get random elements from geometric distibution\n",
    "import matplotlib.pyplot as plt\n",
    "data = np.random.geometric(0.85,1000)\n",
    "count, bins, ignored = plt.hist(data, density=True)\n",
    "plt.show()"
   ]
  },
  {
   "cell_type": "code",
   "execution_count": 86,
   "metadata": {
    "colab": {
     "base_uri": "https://localhost:8080/",
     "height": 265
    },
    "id": "bn8r1tyDRsdM",
    "outputId": "196d0f4d-e091-410e-af17-5876a7583010"
   },
   "outputs": [
    {
     "data": {
      "image/png": "[encoded data removed]",
      "text/plain": [
       "<Figure size 432x288 with 1 Axes>"
      ]
     },
     "metadata": {
      "needs_background": "light"
     },
     "output_type": "display_data"
    }
   ],
   "source": [
    "# Get random elements from laplace distribution\n",
    "data = np.random.laplace(1.45,15,1000)\n",
    "count, bins, ignored = plt.hist(data, 30, density=True)\n",
    "plt.show()"
   ]
  },
  {
   "cell_type": "code",
   "execution_count": 87,
   "metadata": {
    "colab": {
     "base_uri": "https://localhost:8080/"
    },
    "id": "3pCMA3lDRvHI",
    "outputId": "379d010f-c9e1-4f48-8d4c-c81cb998a8a8"
   },
   "outputs": [
    {
     "name": "stdout",
     "output_type": "stream",
     "text": [
      "[[-0.04017587  0.81493309  0.33377175  0.00843135]\n",
      " [-0.92195325 -0.82222955 -0.75436827 -0.71545265]\n",
      " [-0.59608694  0.64630393  0.51833487 -1.84291419]]\n"
     ]
    }
   ],
   "source": [
    "# Return a Matrix of random values from a Gaussian Distribution\n",
    "import numpy.matlib\n",
    "arr = np.matlib.randn((3,4))\n",
    "print(arr)"
   ]
  },
  {
   "cell_type": "markdown",
   "metadata": {
    "id": "HV0slS00Hj8w"
   },
   "source": [
    "# Questions on NumPy Sorting and Searching"
   ]
  },
  {
   "cell_type": "code",
   "execution_count": 88,
   "metadata": {
    "colab": {
     "base_uri": "https://localhost:8080/"
    },
    "id": "SUlfrWCGFkJ2",
    "outputId": "a3a8fc75-f208-4ddc-c0a2-c7e1611409e9"
   },
   "outputs": [
    {
     "name": "stdout",
     "output_type": "stream",
     "text": [
      "[5 1 0 3 2 4]\n"
     ]
    }
   ],
   "source": [
    "# How to get the indices of the sorted array using Numpy in python\n",
    "arr = np.array([33,24,64,45,75,21])\n",
    "result = np.argsort(arr)\n",
    "print(result)"
   ]
  },
  {
   "cell_type": "code",
   "execution_count": 89,
   "metadata": {
    "colab": {
     "base_uri": "https://localhost:8080/"
    },
    "id": "_Ca2KamJRLlj",
    "outputId": "a05d7d59-8a61-42ee-91b5-78038faeeaff"
   },
   "outputs": [
    {
     "name": "stdout",
     "output_type": "stream",
     "text": [
      "[12 23 24]\n"
     ]
    }
   ],
   "source": [
    "# Finding the k smallest values of a Numpy array\n",
    "arr = np.array([12,43,23,65,86,24])\n",
    "k=3\n",
    "result = np.argpartition(arr,k)\n",
    "print(arr[result[:k]])"
   ]
  },
  {
   "cell_type": "code",
   "execution_count": 90,
   "metadata": {
    "colab": {
     "base_uri": "https://localhost:8080/"
    },
    "id": "69avOi-pRNer",
    "outputId": "f4bcc592-a8b6-42de-f975-95800b0cd32c"
   },
   "outputs": [
    {
     "name": "stdout",
     "output_type": "stream",
     "text": [
      "[24 43 65 86]\n"
     ]
    }
   ],
   "source": [
    "# How to get the n-largest values of an array using numpy \n",
    "arr = np.array([12,43,23,65,86,24])\n",
    "sorted_arr = np.sort(arr)\n",
    "\n",
    "n = 4\n",
    "result = sorted_arr[-n:]\n",
    "print(result)"
   ]
  },
  {
   "cell_type": "code",
   "execution_count": 91,
   "metadata": {
    "colab": {
     "base_uri": "https://localhost:8080/"
    },
    "id": "oQQkMiIfRQLG",
    "outputId": "df368b5e-2b76-4a13-ffef-606cad4710ee"
   },
   "outputs": [
    {
     "name": "stdout",
     "output_type": "stream",
     "text": [
      "[[1 2 5]\n",
      " [3 6 7]\n",
      " [4 7 9]]\n"
     ]
    }
   ],
   "source": [
    "# Sort the values in matrix\n",
    "mat = np.matrix('[2,1,5; 3,6,7; 4,9,7]')\n",
    "mat.sort()\n",
    "print(mat)"
   ]
  },
  {
   "cell_type": "code",
   "execution_count": 92,
   "metadata": {
    "colab": {
     "base_uri": "https://localhost:8080/"
    },
    "id": "WnZErtSFRSLb",
    "outputId": "c0ed2e22-846c-4ee0-cb6f-9e5f7c60452e"
   },
   "outputs": [
    {
     "name": "stdout",
     "output_type": "stream",
     "text": [
      "[1. 3.]\n"
     ]
    }
   ],
   "source": [
    "# Filter out integers from float numpy array\n",
    "arr = np.array([1.0,1.2,2.2,3.0,3.2])\n",
    "result = arr[arr==arr.astype(int)]\n",
    "print(result)\n"
   ]
  },
  {
   "cell_type": "code",
   "execution_count": 93,
   "metadata": {
    "colab": {
     "base_uri": "https://localhost:8080/"
    },
    "id": "okuPaMCwRUjc",
    "outputId": "856b1019-1845-49bf-a7ec-119289ea57d0"
   },
   "outputs": [
    {
     "name": "stdout",
     "output_type": "stream",
     "text": [
      "1\n"
     ]
    }
   ],
   "source": [
    "# Find the indices into a sorted array\n",
    "arr = [2,3,4,5,6]\n",
    "n = 3\n",
    "print(np.searchsorted(arr,n))"
   ]
  },
  {
   "cell_type": "markdown",
   "metadata": {
    "id": "DSFySQKeFgsV"
   },
   "source": [
    "# Questions on numpy Mathematics\n"
   ]
  },
  {
   "cell_type": "code",
   "execution_count": 94,
   "metadata": {
    "colab": {
     "base_uri": "https://localhost:8080/"
    },
    "id": "Cms9pNYPFknD",
    "outputId": "73d0bdd0-302a-4d51-e16e-72de42db4f6c"
   },
   "outputs": [
    {
     "name": "stdout",
     "output_type": "stream",
     "text": [
      "[0.5 1.  1.5 2.  2.5]\n"
     ]
    }
   ],
   "source": [
    "# How to get element wise true division of an array using Numpy\n",
    "a = np.array([1,2,3,4,5])\n",
    "result = np.true_divide(a,2)\n",
    "print(result)"
   ]
  },
  {
   "cell_type": "code",
   "execution_count": 95,
   "metadata": {
    "colab": {
     "base_uri": "https://localhost:8080/"
    },
    "id": "liWhx9nxHryW",
    "outputId": "32ebfc8d-3b5b-46ac-f885-dee02caa9c5b"
   },
   "outputs": [
    {
     "name": "stdout",
     "output_type": "stream",
     "text": [
      "[1 2 3 4 5]\n"
     ]
    }
   ],
   "source": [
    "# How to calculate elementwise absolute value of Numpy array\n",
    "a = np.array([1,-2,3,-4,5])\n",
    "result = np.absolute(a)\n",
    "print(result)"
   ]
  },
  {
   "cell_type": "code",
   "execution_count": 96,
   "metadata": {
    "colab": {
     "base_uri": "https://localhost:8080/"
    },
    "id": "z5Fxdhg2Ht2E",
    "outputId": "88a9902c-23a4-464c-8652-8631825ce567"
   },
   "outputs": [
    {
     "name": "stdout",
     "output_type": "stream",
     "text": [
      "[-1 -2 -3 -4 -5]\n"
     ]
    }
   ],
   "source": [
    "# Compute the negative of numpy array\n",
    "a = np.array([1,2,3,4,5])\n",
    "result = np.negative(a)\n",
    "print(result)"
   ]
  },
  {
   "cell_type": "code",
   "execution_count": 97,
   "metadata": {
    "colab": {
     "base_uri": "https://localhost:8080/"
    },
    "id": "SNW5fEwfHv3U",
    "outputId": "f736c999-32b6-47b5-f757-7a09c24548a1"
   },
   "outputs": [
    {
     "name": "stdout",
     "output_type": "stream",
     "text": [
      "[[ 0  0  0]\n",
      " [ 4  5  6]\n",
      " [14 16 18]]\n"
     ]
    }
   ],
   "source": [
    "# Multiply 2D numpy array corresponding to 1D array\n",
    "a = np.array([[1,2,3],[4,5,6],[7,8,9]])\n",
    "b = np.array([0,1,2])\n",
    "result = a*b[:,None]\n",
    "print(result)"
   ]
  },
  {
   "cell_type": "code",
   "execution_count": 98,
   "metadata": {
    "colab": {
     "base_uri": "https://localhost:8080/"
    },
    "id": "PLZK9ZTQHxla",
    "outputId": "5c52d43b-d9c5-46cc-b6de-097ebf13fa85"
   },
   "outputs": [
    {
     "name": "stdout",
     "output_type": "stream",
     "text": [
      "[[17 23]\n",
      " [39 53]]\n"
     ]
    }
   ],
   "source": [
    "# Compute inner product of two arrays\n",
    "a = np.array([[1,2],[3,4]])\n",
    "b = np.array([[5,6],[7,8]])\n",
    "result = np.inner(a,b)\n",
    "print(result)"
   ]
  },
  {
   "cell_type": "code",
   "execution_count": 99,
   "metadata": {
    "colab": {
     "base_uri": "https://localhost:8080/"
    },
    "id": "uOZ_9WPHHzW7",
    "outputId": "5d19c2d2-dafc-425a-d8ef-f0eac5bc9118"
   },
   "outputs": [
    {
     "name": "stdout",
     "output_type": "stream",
     "text": [
      "50th percentile :  30.0\n"
     ]
    }
   ],
   "source": [
    "# Compute the nth percentile of Numpy array\n",
    "a = np.array([10,20,30,40,50])\n",
    "print('50th percentile : ',np.percentile(a,50))"
   ]
  },
  {
   "cell_type": "code",
   "execution_count": 100,
   "metadata": {
    "colab": {
     "base_uri": "https://localhost:8080/"
    },
    "id": "vcYcowf-H0-s",
    "outputId": "b0dfdf81-c5ca-4950-aa16-6362ed5c9bfb"
   },
   "outputs": [
    {
     "name": "stdout",
     "output_type": "stream",
     "text": [
      "First order diff :  [23 19 24 17]\n",
      "Second order diff :  [-4  5 -7]\n",
      "Third order diff :  [  9 -12]\n"
     ]
    }
   ],
   "source": [
    "# Calculate the nth order discrete difference along the given axis\n",
    "a = np.array([20,43,62,86,103])\n",
    "print(\"First order diff : \",np.diff(a))\n",
    "print(\"Second order diff : \",np.diff(a,n=2))\n",
    "print(\"Third order diff : \",np.diff(a,n=3))"
   ]
  },
  {
   "cell_type": "code",
   "execution_count": 101,
   "metadata": {
    "colab": {
     "base_uri": "https://localhost:8080/"
    },
    "id": "KFW_J8ywH3PI",
    "outputId": "3a4de88a-9dca-443e-f6c6-5f9705f9d7bd"
   },
   "outputs": [
    {
     "name": "stdout",
     "output_type": "stream",
     "text": [
      "[12 15 18]\n"
     ]
    }
   ],
   "source": [
    "# Calculate the sum of all columns in a 2D numpy array\n",
    "a = np.array([[1,2,3],[4,5,6],[7,8,9]])\n",
    "print(np.sum(a,axis=0))"
   ]
  },
  {
   "cell_type": "code",
   "execution_count": 102,
   "metadata": {
    "colab": {
     "base_uri": "https://localhost:8080/"
    },
    "id": "36ZlFlXMH72F",
    "outputId": "9ca6018f-a9d5-4120-f017-a44822f21d99"
   },
   "outputs": [
    {
     "name": "stdout",
     "output_type": "stream",
     "text": [
      "[1.5 3.5]\n"
     ]
    }
   ],
   "source": [
    "# Calculate average values of two given numpy arrays\n",
    "a = np.array([1,3])\n",
    "b = np.array([2,4])\n",
    "avg = (a+b)/2\n",
    "print(avg)"
   ]
  },
  {
   "cell_type": "code",
   "execution_count": 103,
   "metadata": {
    "colab": {
     "base_uri": "https://localhost:8080/"
    },
    "id": "PkNKSHRmH-RN",
    "outputId": "acfefdce-2cda-4f84-bb62-a9c4a6df3e80"
   },
   "outputs": [
    {
     "name": "stdout",
     "output_type": "stream",
     "text": [
      "[ 2 -1  4 -8  3 -3 -8]\n"
     ]
    }
   ],
   "source": [
    "# How to compute numerical negative value for all elements in a given numpy array\n",
    "a = np.array([-2,1,-4,8,-3,3,8])\n",
    "print(np.negative(a))"
   ]
  },
  {
   "cell_type": "code",
   "execution_count": 104,
   "metadata": {
    "colab": {
     "base_uri": "https://localhost:8080/"
    },
    "id": "X64CHJdBIAfF",
    "outputId": "5c25a0ab-e0c9-4cb8-f8f7-e33d4d698c1b"
   },
   "outputs": [
    {
     "name": "stdout",
     "output_type": "stream",
     "text": [
      "Floor values :  [1. 1. 0. 1. 3.]\n",
      "Ceil values :  [2. 2. 1. 2. 3.]\n",
      "Trucated values :  [1. 1. 0. 1. 3.]\n"
     ]
    }
   ],
   "source": [
    "# How to get the floor, ceiling and trucated values of the elements of numpy array\n",
    "a = np.array([1.8,1.6,0.5,1.4,3.0])\n",
    "print(\"Floor values : \",np.floor(a))\n",
    "print(\"Ceil values : \",np.ceil(a))\n",
    "print(\"Trucated values : \",np.trunc(a))"
   ]
  },
  {
   "cell_type": "code",
   "execution_count": 105,
   "metadata": {
    "colab": {
     "base_uri": "https://localhost:8080/"
    },
    "id": "fiH5TpP3IDr0",
    "outputId": "ac093abd-b6be-4ede-ee3d-bf6f04223967"
   },
   "outputs": [
    {
     "name": "stdout",
     "output_type": "stream",
     "text": [
      "[0. 0. 0. 0. 1. 1.]\n"
     ]
    }
   ],
   "source": [
    "# How to round elements of the numpy array to the nearest integer\n",
    "a = np.array([0.2,0.3,0.4,0.5,0.6,0.7])\n",
    "result = np.rint(a)\n",
    "print(result)"
   ]
  },
  {
   "cell_type": "code",
   "execution_count": 106,
   "metadata": {
    "colab": {
     "base_uri": "https://localhost:8080/"
    },
    "id": "4EIpTVKnIFzF",
    "outputId": "0036f012-6655-4176-bfd4-7daa11278f89"
   },
   "outputs": [
    {
     "name": "stdout",
     "output_type": "stream",
     "text": [
      "[[3. 6.]\n",
      " [9. 6.]]\n"
     ]
    }
   ],
   "source": [
    "# Find the round off the values of the given matrix\n",
    "a = np.array([[3.4,5.6],[8.6,5.5]])\n",
    "result = np.round(a)\n",
    "print(result)"
   ]
  },
  {
   "cell_type": "code",
   "execution_count": 107,
   "metadata": {
    "colab": {
     "base_uri": "https://localhost:8080/"
    },
    "id": "Ra3L6dR9IH0U",
    "outputId": "5be76337-3df7-49bd-b6be-7c0233153162"
   },
   "outputs": [
    {
     "name": "stdout",
     "output_type": "stream",
     "text": [
      "[0.        +2.j         0.        +4.j         0.        +5.j\n",
      " 1.62721083+2.76546833j]\n"
     ]
    }
   ],
   "source": [
    "# Determine positive square root of an array\n",
    "a = np.array([-4,-16,-25,-5+9J])\n",
    "result = np.sqrt(a)\n",
    "print(result)"
   ]
  },
  {
   "cell_type": "code",
   "execution_count": 108,
   "metadata": {
    "colab": {
     "base_uri": "https://localhost:8080/"
    },
    "id": "yDlOQZQHIKHF",
    "outputId": "1af2d1ea-a809-496e-b65b-6a6d2442820d"
   },
   "outputs": [
    {
     "name": "stdout",
     "output_type": "stream",
     "text": [
      "[[6 9]\n",
      " [6 8]]\n"
     ]
    }
   ],
   "source": [
    "# Evaluate Einsteins summation convention of two multidimensional numpy arrays\n",
    "a = np.array([[1,2],[0,2]])\n",
    "b = np.array([[0,1],[3,4]])\n",
    "result = np.einsum(\"mk,kn\",a,b)\n",
    "print(result)"
   ]
  },
  {
   "cell_type": "markdown",
   "metadata": {
    "id": "2LzRxQ1VFiQS"
   },
   "source": [
    "# Questions on numpy Statistics\n"
   ]
  },
  {
   "cell_type": "code",
   "execution_count": 109,
   "metadata": {
    "colab": {
     "base_uri": "https://localhost:8080/"
    },
    "id": "XAZsH4poIr0f",
    "outputId": "8308efb3-cd7a-400a-d7b9-9b5879cde655"
   },
   "outputs": [
    {
     "name": "stdout",
     "output_type": "stream",
     "text": [
      "\n",
      "Printing the Original array:\n",
      "[3 2 3 7 5 6 7]\n",
      "\n",
      "Median of the array that contains odd no of elements:\n",
      "5.0\n",
      "printing the old array:\n",
      "[ 2  3  4  5  8  9 24  4]\n",
      "4.5\n"
     ]
    }
   ],
   "source": [
    "# Compute the median of the flattened NumPy array\n",
    "import numpy as np\n",
    "odd_arr = np.array([3, 2, 3, 7, 5, 6, 7])\n",
    "print(\"\\nPrinting the Original array:\")\n",
    "print(odd_arr) \n",
    "med_odd = np.median(odd_arr)\n",
    "print(\"\\nMedian of the array that contains \\\n",
    "odd no of elements:\")\n",
    "print(med_odd)\n",
    "even_arr=np.array([2,3,4,5,8,9,24,4])\n",
    "print(\"printing the old array:\")\n",
    "print(even_arr)\n",
    "med_even=np.median(even_arr);\n",
    "print(med_even)"
   ]
  },
  {
   "cell_type": "code",
   "execution_count": 110,
   "metadata": {
    "colab": {
     "base_uri": "https://localhost:8080/"
    },
    "id": "pdx5Uop2MwaJ",
    "outputId": "f269bb11-2dab-42ad-b5ae-7e331dbc7e75"
   },
   "outputs": [
    {
     "name": "stdout",
     "output_type": "stream",
     "text": [
      "3\n",
      "[12.0, 15.0, 18.0]\n"
     ]
    }
   ],
   "source": [
    "# Find Mean of a List of Numpy Array\n",
    "import numpy as np\n",
    "Input = [np.array([11, 12, 13]),\n",
    "         np.array([14, 15, 16]),\n",
    "         np.array([17, 18, 19])]\n",
    "Output = []\n",
    "print(len(Input))\n",
    "for i in range(len(Input)):\n",
    "    Output.append(np.average(Input[i]))\n",
    "print(Output)"
   ]
  },
  {
   "cell_type": "code",
   "execution_count": 111,
   "metadata": {
    "colab": {
     "base_uri": "https://localhost:8080/"
    },
    "id": "sOpbF74GM0PA",
    "outputId": "37759a30-87c8-4c21-cc41-d80f448982f0"
   },
   "outputs": [
    {
     "name": "stdout",
     "output_type": "stream",
     "text": [
      "\n",
      "var of arr, axis = None :  233.84750000000003\n",
      "\n",
      "var of arr, axis = 0 :  [ 88.5    302.     294.1875   8.5      0.    ]\n",
      "\n",
      "var of arr, axis = 1 :  [  5.44 106.64 436.96 269.04]\n"
     ]
    }
   ],
   "source": [
    "# Compute the variance of the NumPy array\n",
    "import numpy as np \n",
    "arr = [[2, 4, 6, 8, 2], \n",
    "    [25, 6, 27, 8, 2], \n",
    "    [2, 2, 54, 1, 2, ], \n",
    "    [11, 44, 34, 7, 2]] \n",
    "print(\"\\nvar of arr, axis = None : \", np.var(arr))  \n",
    "print(\"\\nvar of arr, axis = 0 : \", np.var(arr, axis = 0)) \n",
    "print(\"\\nvar of arr, axis = 1 : \", np.var(arr, axis = 1)) "
   ]
  },
  {
   "cell_type": "code",
   "execution_count": 134,
   "metadata": {
    "colab": {
     "base_uri": "https://localhost:8080/"
    },
    "id": "VycojHU7M2jQ",
    "outputId": "08a48198-6b03-4f07-fc93-7becb7aea209"
   },
   "outputs": [
    {
     "name": "stdout",
     "output_type": "stream",
     "text": [
      "[[1. 1.]\n",
      " [1. 1.]]\n"
     ]
    }
   ],
   "source": [
    "# Compute pearson product-moment correlation coefficients of two given NumPy arrays\n",
    "array1 = np.array([0, 1, 2])\n",
    "array2 = np.array([3, 4, 5])\n",
    "rslt = np.corrcoef(array1, array2)\n",
    "print(rslt)"
   ]
  },
  {
   "cell_type": "code",
   "execution_count": 114,
   "metadata": {
    "colab": {
     "base_uri": "https://localhost:8080/"
    },
    "id": "m8Kv2OXkM4k2",
    "outputId": "cb2698f8-8f34-4e02-d1d9-99df5cc675d2"
   },
   "outputs": [
    {
     "name": "stdout",
     "output_type": "stream",
     "text": [
      "4.875\n",
      "4.359375\n",
      "2.0879116360612584\n"
     ]
    }
   ],
   "source": [
    "# Calculate the average, variance and standard deviation in Python using NumPy\n",
    "import numpy as np\n",
    "list = [2, 4, 3, 4, 5, 5, 7, 9]\n",
    "print(np.average(list))\n",
    "# Calculating variance using var()\n",
    "print(np.var(list))\n",
    "import numpy as np\n",
    "# Calculating standard deviation using var()\n",
    "print(np.std(list))"
   ]
  },
  {
   "cell_type": "markdown",
   "metadata": {
    "id": "RiMHLbq3IVJs"
   },
   "source": [
    "# Questions on Polynomial\n"
   ]
  },
  {
   "cell_type": "code",
   "execution_count": 115,
   "metadata": {
    "colab": {
     "base_uri": "https://localhost:8080/"
    },
    "id": "b7Higr_wIswJ",
    "outputId": "69113755-bc4b-4e7e-8ba0-7bbddb8902f3"
   },
   "outputs": [
    {
     "name": "stdout",
     "output_type": "stream",
     "text": [
      "[ 7. -7.  7.]\n"
     ]
    }
   ],
   "source": [
    "# How to add one polynomial to another using NumPy in Python?\n",
    "# define the polynomials\n",
    "# p(x) = 5(x**2) + (-2)x +5\n",
    "px = (5,-2,5)\n",
    "# q(x) = 2(x**2) + (-5)x +2\n",
    "qx = (2,-5,2)\n",
    "# add the polynomials\n",
    "rx = np.polynomial.polynomial.polyadd(px,qx)\n",
    "# print the resultant polynomial\n",
    "print(rx)"
   ]
  },
  {
   "cell_type": "code",
   "execution_count": 116,
   "metadata": {
    "colab": {
     "base_uri": "https://localhost:8080/"
    },
    "id": "ian08X41NAuf",
    "outputId": "7bceec1a-cdfd-4184-85b6-36bab924fa93"
   },
   "outputs": [
    {
     "name": "stdout",
     "output_type": "stream",
     "text": [
      "[  8. -14.   3. -19.  10.]\n"
     ]
    }
   ],
   "source": [
    "# How to multiply a polynomial to another using NumPy in Python?\n",
    "import numpy\n",
    "# define the polynomials\n",
    "# p(x) = 5(x**2) + (-2)x +5\n",
    "px = (4, 3, 5)\n",
    "# q(x) = 2(x**2) + (-5)x +2\n",
    "qx = (2, -5, 2)\n",
    "# mul the polynomials\n",
    "rx = numpy.polynomial.polynomial.polymul(px, qx)\n",
    "# print the resultant polynomial\n",
    "print(rx)"
   ]
  },
  {
   "cell_type": "code",
   "execution_count": 117,
   "metadata": {
    "colab": {
     "base_uri": "https://localhost:8080/"
    },
    "id": "R2g7z3NdNDVY",
    "outputId": "5333022a-7d6e-4202-8149-63d430f0c64e"
   },
   "outputs": [
    {
     "name": "stdout",
     "output_type": "stream",
     "text": [
      "[[3271. 5025.]\n",
      " [4107. 6309.]]\n"
     ]
    }
   ],
   "source": [
    "# Evaluate a 2-D polynomial series on the Cartesian productimport numpy as np \n",
    "from numpy.polynomial.polynomial import polygrid2d \n",
    "# Input polynomial series coefficients\n",
    "c = np.array([[1, 3, 5], [2, 4, 6]])  \n",
    "# using np.polygrid2d() method \n",
    "ans = polygrid2d([7, 9], [8, 10], c)\n",
    "print(ans)"
   ]
  },
  {
   "cell_type": "markdown",
   "metadata": {
    "id": "1Ic7xSImIVwP"
   },
   "source": [
    "# Questions on numpy Strings\n"
   ]
  },
  {
   "cell_type": "code",
   "execution_count": 118,
   "metadata": {
    "colab": {
     "base_uri": "https://localhost:8080/"
    },
    "id": "9bWbcwG9IuGd",
    "outputId": "fac21255-dcab-4e66-ba85-887390b18684"
   },
   "outputs": [
    {
     "name": "stdout",
     "output_type": "stream",
     "text": [
      "['batbat' 'catcat' 'homehome' 'ballball']\n"
     ]
    }
   ],
   "source": [
    "# Repeat all the elements of a NumPy array of strings\n",
    "arr = np.array(['bat','cat','home','ball'])\n",
    "print(np.char.multiply(arr,2))"
   ]
  },
  {
   "cell_type": "code",
   "execution_count": 119,
   "metadata": {
    "colab": {
     "base_uri": "https://localhost:8080/"
    },
    "id": "K1V1fv3fJbV1",
    "outputId": "b23f922b-7e5a-4ac5-954e-705a7f3a7dfc"
   },
   "outputs": [
    {
     "name": "stdout",
     "output_type": "stream",
     "text": [
      "[list(['India', 'is', 'my', 'country'])]\n"
     ]
    }
   ],
   "source": [
    "# split the element of a given NumPy array with spaces\n",
    "arr1 = np.array(['India is my country'],dtype=np.str_)\n",
    "print(np.char.split(arr1))"
   ]
  },
  {
   "cell_type": "code",
   "execution_count": 120,
   "metadata": {
    "colab": {
     "base_uri": "https://localhost:8080/"
    },
    "id": "4v6WdQ3fJfU1",
    "outputId": "7fbc8135-6136-48fb-852a-09c0654b9c43"
   },
   "outputs": [
    {
     "name": "stdout",
     "output_type": "stream",
     "text": [
      "length of each element :  [5 5]\n"
     ]
    }
   ],
   "source": [
    "# length of each string element in the Numpy array\n",
    "arr2 = np.array(['hello','world'])\n",
    "length_check = np.vectorize(len)\n",
    "print('length of each element : ',length_check(arr2))"
   ]
  },
  {
   "cell_type": "code",
   "execution_count": 121,
   "metadata": {
    "colab": {
     "base_uri": "https://localhost:8080/"
    },
    "id": "rN0h5WG8Jkh4",
    "outputId": "e90ca4c3-27bb-49a2-819b-31977595eff2"
   },
   "outputs": [
    {
     "name": "stdout",
     "output_type": "stream",
     "text": [
      "['B-a-l-l' 'c+A+L+L' 'g*f*2']\n"
     ]
    }
   ],
   "source": [
    "# Join String by a seperator\n",
    "arr = np.array(['Ball','cALL','gf2'])\n",
    "# create a seperator\n",
    "sept = np.array(['-','+','*'])\n",
    "print(np.core.defchararray.join(sept,arr))"
   ]
  },
  {
   "cell_type": "code",
   "execution_count": 122,
   "metadata": {
    "id": "S6Pj8QjkJ6cf"
   },
   "outputs": [
    {
     "name": "stdout",
     "output_type": "stream",
     "text": [
      "[1 1 1 0]\n"
     ]
    }
   ],
   "source": [
    "# Count the number of substrings in an array\n",
    "arr = np.array(['bat','cat','mat','dog'])\n",
    "print(np.char.count(arr,sub='at'))"
   ]
  },
  {
   "cell_type": "markdown",
   "metadata": {
    "id": "jNGf494wIod2"
   },
   "source": [
    "# Questions on NumPy\n"
   ]
  },
  {
   "cell_type": "code",
   "execution_count": 124,
   "metadata": {
    "colab": {
     "base_uri": "https://localhost:8080/"
    },
    "id": "CI8pWcJPKVY1",
    "outputId": "995c634b-2b67-45e3-d9fd-1bbe423967d6"
   },
   "outputs": [
    {
     "name": "stdout",
     "output_type": "stream",
     "text": [
      "   0  1  2  3   4\n",
      "0  1  2  3  4   5\n",
      "1  6  7  8  9  10\n"
     ]
    }
   ],
   "source": [
    "# Convert a NumPy array into a csv file\n",
    "import pandas as pd\n",
    "arr = np.arange(1,11).reshape(2,5)\n",
    "# convert into dataframe\n",
    "df = pd.DataFrame(arr)\n",
    "print(df)"
   ]
  },
  {
   "cell_type": "code",
   "execution_count": 125,
   "metadata": {
    "id": "Bq_BaksZLEs2"
   },
   "outputs": [],
   "source": [
    "from PIL import Image"
   ]
  },
  {
   "cell_type": "code",
   "execution_count": 131,
   "metadata": {
    "colab": {
     "base_uri": "https://localhost:8080/"
    },
    "id": "wRcNbWsxKX9W",
    "outputId": "4945f6af-01ab-4253-c0b1-ef1975274dc9"
   },
   "outputs": [
    {
     "name": "stdout",
     "output_type": "stream",
     "text": [
      "shape of image :  (1373, 1114, 3)\n"
     ]
    }
   ],
   "source": [
    "# Convert an image to NumPy array and saveit to CSV file using Python\n",
    "img = Image.open('PHOTO.jpg') # any photo\n",
    "# convert image obj into array\n",
    "arr  = np.asarray(img)\n",
    "print(\"shape of image : \",arr.shape)"
   ]
  },
  {
   "cell_type": "code",
   "execution_count": 127,
   "metadata": {
    "colab": {
     "base_uri": "https://localhost:8080/"
    },
    "id": "2ScleST1KcIO",
    "outputId": "4e2178c7-9635-40eb-a297-3d0b28f48135"
   },
   "outputs": [
    {
     "name": "stdout",
     "output_type": "stream",
     "text": [
      "content of file :  [1 2 3 4 5]\n"
     ]
    }
   ],
   "source": [
    "# How to save a NumPy array to a text file\n",
    "arr = np.array([1,2,3,4,5])\n",
    "file = open('file1.txt',\"w+\") # any text file\n",
    "file.write(str(arr))\n",
    "file.close()\n",
    "# display content of file\n",
    "file = open(\"file1.txt\",\"r\")\n",
    "print(\"content of file : \",file.read())"
   ]
  },
  {
   "cell_type": "code",
   "execution_count": 128,
   "metadata": {
    "colab": {
     "base_uri": "https://localhost:8080/"
    },
    "id": "0SVdWV0KKewt",
    "outputId": "22beb708-4c81-40ec-c763-67df3bc29088"
   },
   "outputs": [
    {
     "data": {
      "text/plain": [
       "array([[0., 1., 2.],\n",
       "       [3., 4., 5.]])"
      ]
     },
     "execution_count": 128,
     "metadata": {},
     "output_type": "execute_result"
    }
   ],
   "source": [
    "# Load data from a text file\n",
    "from io import StringIO\n",
    "text = StringIO('0 1 2\\n3 4 5')\n",
    "text_file = np.loadtxt(text)\n",
    "text_file"
   ]
  }
 ],
 "metadata": {
  "colab": {
   "collapsed_sections": [],
   "name": "lab2_16-08-2022.ipynb",
   "provenance": []
  },
  "kernelspec": {
   "display_name": "Python 3",
   "language": "python",
   "name": "python3"
  },
  "language_info": {
   "codemirror_mode": {
    "name": "ipython",
    "version": 3
   },
   "file_extension": ".py",
   "mimetype": "text/x-python",
   "name": "python",
   "nbconvert_exporter": "python",
   "pygments_lexer": "ipython3",
   "version": "3.8.8"
  }
 },
 "nbformat": 4,
 "nbformat_minor": 1
}
